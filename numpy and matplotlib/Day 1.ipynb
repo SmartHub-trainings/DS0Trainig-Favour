{
 "cells": [
  {
   "cell_type": "markdown",
   "id": "dd7e0bf8",
   "metadata": {},
   "source": [
    "# Numpy"
   ]
  },
  {
   "cell_type": "markdown",
   "id": "40360a2e",
   "metadata": {},
   "source": [
    "###  Numerical python"
   ]
  },
  {
   "cell_type": "code",
   "execution_count": 1,
   "id": "0b589698",
   "metadata": {},
   "outputs": [],
   "source": [
    "a=[3,4,5,67,7]\n",
    "b=[4,5,3,5,2]\n",
    "# res=[7,9,8,...]"
   ]
  },
  {
   "cell_type": "code",
   "execution_count": 4,
   "id": "fc318eb4",
   "metadata": {},
   "outputs": [
    {
     "name": "stdout",
     "output_type": "stream",
     "text": [
      "[7, 9, 8, 72, 9]\n"
     ]
    }
   ],
   "source": [
    "res=[]\n",
    "# for i in a:\n",
    "#     for j in b:\n",
    "#         res.append(i+j)\n",
    "for i in range(len(a)):\n",
    "    res.append(a[i]+b[i])\n",
    "print(res)"
   ]
  },
  {
   "cell_type": "code",
   "execution_count": 6,
   "id": "651b33c7",
   "metadata": {},
   "outputs": [
    {
     "data": {
      "text/plain": [
       "[(3, 4), (4, 5), (5, 3), (67, 5), (7, 2)]"
      ]
     },
     "execution_count": 6,
     "metadata": {},
     "output_type": "execute_result"
    }
   ],
   "source": [
    "list(zip(a,b))"
   ]
  },
  {
   "cell_type": "code",
   "execution_count": 7,
   "id": "84097158",
   "metadata": {},
   "outputs": [
    {
     "name": "stdout",
     "output_type": "stream",
     "text": [
      "[7, 9, 8, 72, 9]\n"
     ]
    }
   ],
   "source": [
    "res=[]\n",
    "for values in zip(a,b):\n",
    "    res.append(values[0]+values[1])\n",
    "print(res)"
   ]
  },
  {
   "cell_type": "code",
   "execution_count": 8,
   "id": "86040f4c",
   "metadata": {},
   "outputs": [],
   "source": [
    "v=[5,6,7]"
   ]
  },
  {
   "cell_type": "code",
   "execution_count": 9,
   "id": "a673e34b",
   "metadata": {},
   "outputs": [],
   "source": [
    "x=v[0]"
   ]
  },
  {
   "cell_type": "code",
   "execution_count": 10,
   "id": "0932bf4d",
   "metadata": {},
   "outputs": [],
   "source": [
    "y=v[1]"
   ]
  },
  {
   "cell_type": "code",
   "execution_count": 11,
   "id": "ea387183",
   "metadata": {},
   "outputs": [],
   "source": [
    "z=v[2]"
   ]
  },
  {
   "cell_type": "code",
   "execution_count": 12,
   "id": "938a2355",
   "metadata": {},
   "outputs": [],
   "source": [
    "a,b,c=v"
   ]
  },
  {
   "cell_type": "code",
   "execution_count": 13,
   "id": "a3ac14cc",
   "metadata": {},
   "outputs": [
    {
     "data": {
      "text/plain": [
       "5"
      ]
     },
     "execution_count": 13,
     "metadata": {},
     "output_type": "execute_result"
    }
   ],
   "source": [
    "a"
   ]
  },
  {
   "cell_type": "code",
   "execution_count": 14,
   "id": "54a00d70",
   "metadata": {},
   "outputs": [
    {
     "data": {
      "text/plain": [
       "6"
      ]
     },
     "execution_count": 14,
     "metadata": {},
     "output_type": "execute_result"
    }
   ],
   "source": [
    "b"
   ]
  },
  {
   "cell_type": "code",
   "execution_count": 15,
   "id": "2f9a4507",
   "metadata": {},
   "outputs": [
    {
     "data": {
      "text/plain": [
       "7"
      ]
     },
     "execution_count": 15,
     "metadata": {},
     "output_type": "execute_result"
    }
   ],
   "source": [
    "c"
   ]
  },
  {
   "cell_type": "code",
   "execution_count": null,
   "id": "7551496d",
   "metadata": {},
   "outputs": [],
   "source": [
    "res=[]\n",
    "for x,y in zip(a,b):\n",
    "    res.append(x+y)\n",
    "print(res)"
   ]
  },
  {
   "cell_type": "code",
   "execution_count": 16,
   "id": "b728bbad",
   "metadata": {},
   "outputs": [],
   "source": [
    "import numpy as np"
   ]
  },
  {
   "cell_type": "markdown",
   "id": "aabd4346",
   "metadata": {},
   "source": [
    "## Create numpy arrays "
   ]
  },
  {
   "cell_type": "code",
   "execution_count": 18,
   "id": "2c6aff12",
   "metadata": {},
   "outputs": [],
   "source": [
    "a1=np.array([3,4,5,6,4,6,6])"
   ]
  },
  {
   "cell_type": "code",
   "execution_count": 19,
   "id": "34b4afa6",
   "metadata": {},
   "outputs": [
    {
     "data": {
      "text/plain": [
       "array([3, 4, 5, 6, 4, 6, 6])"
      ]
     },
     "execution_count": 19,
     "metadata": {},
     "output_type": "execute_result"
    }
   ],
   "source": [
    "a1"
   ]
  },
  {
   "cell_type": "code",
   "execution_count": 20,
   "id": "22ed48c2",
   "metadata": {},
   "outputs": [
    {
     "data": {
      "text/plain": [
       "numpy.ndarray"
      ]
     },
     "execution_count": 20,
     "metadata": {},
     "output_type": "execute_result"
    }
   ],
   "source": [
    "type(a1)"
   ]
  },
  {
   "cell_type": "code",
   "execution_count": 21,
   "id": "021f2431",
   "metadata": {},
   "outputs": [],
   "source": [
    "b1=np.array([3.0,4,52,6,44,6,66])"
   ]
  },
  {
   "cell_type": "code",
   "execution_count": 22,
   "id": "a254aeda",
   "metadata": {},
   "outputs": [
    {
     "data": {
      "text/plain": [
       "array([ 3.,  4., 52.,  6., 44.,  6., 66.])"
      ]
     },
     "execution_count": 22,
     "metadata": {},
     "output_type": "execute_result"
    }
   ],
   "source": [
    "b1"
   ]
  },
  {
   "cell_type": "code",
   "execution_count": 23,
   "id": "6ac557ae",
   "metadata": {},
   "outputs": [],
   "source": [
    "c=np.array([5,3,5,3,6.7,\"6\"])"
   ]
  },
  {
   "cell_type": "code",
   "execution_count": 24,
   "id": "6298b964",
   "metadata": {},
   "outputs": [
    {
     "data": {
      "text/plain": [
       "array(['5', '3', '5', '3', '6.7', '6'], dtype='<U32')"
      ]
     },
     "execution_count": 24,
     "metadata": {},
     "output_type": "execute_result"
    }
   ],
   "source": [
    "c"
   ]
  },
  {
   "cell_type": "code",
   "execution_count": 25,
   "id": "65456004",
   "metadata": {},
   "outputs": [],
   "source": [
    "c=np.array([5,3,5,3,6.7,\"6\"],dtype=\"float16\")"
   ]
  },
  {
   "cell_type": "code",
   "execution_count": 26,
   "id": "ab42083b",
   "metadata": {},
   "outputs": [
    {
     "data": {
      "text/plain": [
       "array([5. , 3. , 5. , 3. , 6.7, 6. ], dtype=float16)"
      ]
     },
     "execution_count": 26,
     "metadata": {},
     "output_type": "execute_result"
    }
   ],
   "source": [
    "c"
   ]
  },
  {
   "cell_type": "code",
   "execution_count": 50,
   "id": "20ca1bda",
   "metadata": {},
   "outputs": [],
   "source": [
    "c=np.array([5,3,5,3,6.7,\"6\"],dtype=\"int8\")"
   ]
  },
  {
   "cell_type": "code",
   "execution_count": 28,
   "id": "c0684bc5",
   "metadata": {},
   "outputs": [
    {
     "data": {
      "text/plain": [
       "array([5, 3, 5, 3, 6, 6], dtype=int8)"
      ]
     },
     "execution_count": 28,
     "metadata": {},
     "output_type": "execute_result"
    }
   ],
   "source": [
    "c"
   ]
  },
  {
   "cell_type": "code",
   "execution_count": 30,
   "id": "0c5efddf",
   "metadata": {},
   "outputs": [
    {
     "data": {
      "text/plain": [
       "array([3, 4, 5, 6, 4, 6, 6])"
      ]
     },
     "execution_count": 30,
     "metadata": {},
     "output_type": "execute_result"
    }
   ],
   "source": [
    "a1"
   ]
  },
  {
   "cell_type": "code",
   "execution_count": 31,
   "id": "090eee3e",
   "metadata": {},
   "outputs": [
    {
     "data": {
      "text/plain": [
       "array([ 3.,  4., 52.,  6., 44.,  6., 66.])"
      ]
     },
     "execution_count": 31,
     "metadata": {},
     "output_type": "execute_result"
    }
   ],
   "source": [
    "b1"
   ]
  },
  {
   "cell_type": "code",
   "execution_count": 32,
   "id": "aed60392",
   "metadata": {},
   "outputs": [
    {
     "data": {
      "text/plain": [
       "array([ 6.,  8., 57., 12., 48., 12., 72.])"
      ]
     },
     "execution_count": 32,
     "metadata": {},
     "output_type": "execute_result"
    }
   ],
   "source": [
    "a1+b1"
   ]
  },
  {
   "cell_type": "code",
   "execution_count": 33,
   "id": "b65f59c6",
   "metadata": {},
   "outputs": [
    {
     "data": {
      "text/plain": [
       "array([  0.,   0., -47.,   0., -40.,   0., -60.])"
      ]
     },
     "execution_count": 33,
     "metadata": {},
     "output_type": "execute_result"
    }
   ],
   "source": [
    "a1-b1"
   ]
  },
  {
   "cell_type": "code",
   "execution_count": 34,
   "id": "3da3e9b4",
   "metadata": {},
   "outputs": [
    {
     "data": {
      "text/plain": [
       "array([  9.,  16., 260.,  36., 176.,  36., 396.])"
      ]
     },
     "execution_count": 34,
     "metadata": {},
     "output_type": "execute_result"
    }
   ],
   "source": [
    "a1*b1"
   ]
  },
  {
   "cell_type": "code",
   "execution_count": 35,
   "id": "13c28db3",
   "metadata": {},
   "outputs": [
    {
     "data": {
      "text/plain": [
       "array([1.        , 1.        , 0.09615385, 1.        , 0.09090909,\n",
       "       1.        , 0.09090909])"
      ]
     },
     "execution_count": 35,
     "metadata": {},
     "output_type": "execute_result"
    }
   ],
   "source": [
    "a1/b1"
   ]
  },
  {
   "cell_type": "code",
   "execution_count": 36,
   "id": "fa5e2439",
   "metadata": {},
   "outputs": [
    {
     "data": {
      "text/plain": [
       "array([ 6,  8, 10, 12,  8, 12, 12])"
      ]
     },
     "execution_count": 36,
     "metadata": {},
     "output_type": "execute_result"
    }
   ],
   "source": [
    "a1*2"
   ]
  },
  {
   "cell_type": "code",
   "execution_count": 37,
   "id": "c805a897",
   "metadata": {},
   "outputs": [
    {
     "data": {
      "text/plain": [
       "array([2.70000000e+01, 2.56000000e+02, 2.22044605e+36, 4.66560000e+04,\n",
       "       3.09485010e+26, 4.66560000e+04, 2.28025032e+51])"
      ]
     },
     "execution_count": 37,
     "metadata": {},
     "output_type": "execute_result"
    }
   ],
   "source": [
    "a1**b1"
   ]
  },
  {
   "cell_type": "code",
   "execution_count": 38,
   "id": "b49da01d",
   "metadata": {},
   "outputs": [],
   "source": [
    "A=np.array([[2,4],[5,6],[67,8]])"
   ]
  },
  {
   "cell_type": "code",
   "execution_count": 39,
   "id": "7810303f",
   "metadata": {},
   "outputs": [
    {
     "data": {
      "text/plain": [
       "array([[ 2,  4],\n",
       "       [ 5,  6],\n",
       "       [67,  8]])"
      ]
     },
     "execution_count": 39,
     "metadata": {},
     "output_type": "execute_result"
    }
   ],
   "source": [
    "A"
   ]
  },
  {
   "cell_type": "markdown",
   "id": "c91d63a4",
   "metadata": {},
   "source": [
    "## Atributes or properties "
   ]
  },
  {
   "cell_type": "code",
   "execution_count": 40,
   "id": "4558b95f",
   "metadata": {},
   "outputs": [
    {
     "data": {
      "text/plain": [
       "1"
      ]
     },
     "execution_count": 40,
     "metadata": {},
     "output_type": "execute_result"
    }
   ],
   "source": [
    "a1.ndim"
   ]
  },
  {
   "cell_type": "code",
   "execution_count": 41,
   "id": "264252fd",
   "metadata": {},
   "outputs": [
    {
     "data": {
      "text/plain": [
       "2"
      ]
     },
     "execution_count": 41,
     "metadata": {},
     "output_type": "execute_result"
    }
   ],
   "source": [
    "A.ndim"
   ]
  },
  {
   "cell_type": "code",
   "execution_count": 43,
   "id": "15d681d1",
   "metadata": {},
   "outputs": [
    {
     "data": {
      "text/plain": [
       "(7,)"
      ]
     },
     "execution_count": 43,
     "metadata": {},
     "output_type": "execute_result"
    }
   ],
   "source": [
    "a1.shape"
   ]
  },
  {
   "cell_type": "code",
   "execution_count": 44,
   "id": "9e0c22e0",
   "metadata": {},
   "outputs": [
    {
     "data": {
      "text/plain": [
       "(3, 2)"
      ]
     },
     "execution_count": 44,
     "metadata": {},
     "output_type": "execute_result"
    }
   ],
   "source": [
    "A.shape"
   ]
  },
  {
   "cell_type": "code",
   "execution_count": 45,
   "id": "76878d00",
   "metadata": {},
   "outputs": [
    {
     "data": {
      "text/plain": [
       "7"
      ]
     },
     "execution_count": 45,
     "metadata": {},
     "output_type": "execute_result"
    }
   ],
   "source": [
    "a1.size"
   ]
  },
  {
   "cell_type": "code",
   "execution_count": 46,
   "id": "e9c0ae18",
   "metadata": {},
   "outputs": [
    {
     "data": {
      "text/plain": [
       "6"
      ]
     },
     "execution_count": 46,
     "metadata": {},
     "output_type": "execute_result"
    }
   ],
   "source": [
    "A.size"
   ]
  },
  {
   "cell_type": "code",
   "execution_count": 47,
   "id": "c391ed6b",
   "metadata": {},
   "outputs": [
    {
     "data": {
      "text/plain": [
       "dtype('int64')"
      ]
     },
     "execution_count": 47,
     "metadata": {},
     "output_type": "execute_result"
    }
   ],
   "source": [
    "a1.dtype"
   ]
  },
  {
   "cell_type": "code",
   "execution_count": 48,
   "id": "9a4d3e70",
   "metadata": {},
   "outputs": [
    {
     "data": {
      "text/plain": [
       "dtype('int64')"
      ]
     },
     "execution_count": 48,
     "metadata": {},
     "output_type": "execute_result"
    }
   ],
   "source": [
    "A.dtype"
   ]
  },
  {
   "cell_type": "code",
   "execution_count": 51,
   "id": "4bd130b2",
   "metadata": {},
   "outputs": [
    {
     "data": {
      "text/plain": [
       "dtype('int8')"
      ]
     },
     "execution_count": 51,
     "metadata": {},
     "output_type": "execute_result"
    }
   ],
   "source": [
    "c.dtype"
   ]
  },
  {
   "cell_type": "markdown",
   "id": "d8d94056",
   "metadata": {},
   "source": [
    "## Other ways of creating numpy arrays"
   ]
  },
  {
   "cell_type": "code",
   "execution_count": 52,
   "id": "74921050",
   "metadata": {},
   "outputs": [
    {
     "data": {
      "text/plain": [
       "array([0., 0., 0., 0., 0.])"
      ]
     },
     "execution_count": 52,
     "metadata": {},
     "output_type": "execute_result"
    }
   ],
   "source": [
    "np.zeros(5)"
   ]
  },
  {
   "cell_type": "code",
   "execution_count": 53,
   "id": "6dc55537",
   "metadata": {},
   "outputs": [
    {
     "data": {
      "text/plain": [
       "array([[0., 0., 0., 0., 0., 0.],\n",
       "       [0., 0., 0., 0., 0., 0.],\n",
       "       [0., 0., 0., 0., 0., 0.],\n",
       "       [0., 0., 0., 0., 0., 0.],\n",
       "       [0., 0., 0., 0., 0., 0.]])"
      ]
     },
     "execution_count": 53,
     "metadata": {},
     "output_type": "execute_result"
    }
   ],
   "source": [
    "np.zeros((5,6))"
   ]
  },
  {
   "cell_type": "code",
   "execution_count": 54,
   "id": "0d5eda64",
   "metadata": {},
   "outputs": [
    {
     "data": {
      "text/plain": [
       "array([1., 1., 1., 1.])"
      ]
     },
     "execution_count": 54,
     "metadata": {},
     "output_type": "execute_result"
    }
   ],
   "source": [
    "np.ones(4)"
   ]
  },
  {
   "cell_type": "code",
   "execution_count": 55,
   "id": "ca9d2161",
   "metadata": {},
   "outputs": [
    {
     "data": {
      "text/plain": [
       "array([[1., 1., 1., 1., 1.],\n",
       "       [1., 1., 1., 1., 1.],\n",
       "       [1., 1., 1., 1., 1.],\n",
       "       [1., 1., 1., 1., 1.],\n",
       "       [1., 1., 1., 1., 1.]])"
      ]
     },
     "execution_count": 55,
     "metadata": {},
     "output_type": "execute_result"
    }
   ],
   "source": [
    "np.ones((5,5))"
   ]
  },
  {
   "cell_type": "code",
   "execution_count": 56,
   "id": "6e159da0",
   "metadata": {},
   "outputs": [
    {
     "data": {
      "text/plain": [
       "array([[1., 0.],\n",
       "       [0., 1.]])"
      ]
     },
     "execution_count": 56,
     "metadata": {},
     "output_type": "execute_result"
    }
   ],
   "source": [
    "np.eye(2)"
   ]
  },
  {
   "cell_type": "code",
   "execution_count": 57,
   "id": "cc0d01d5",
   "metadata": {},
   "outputs": [
    {
     "data": {
      "text/plain": [
       "array([[1., 0., 0., 0., 0.],\n",
       "       [0., 1., 0., 0., 0.],\n",
       "       [0., 0., 1., 0., 0.],\n",
       "       [0., 0., 0., 1., 0.],\n",
       "       [0., 0., 0., 0., 1.]])"
      ]
     },
     "execution_count": 57,
     "metadata": {},
     "output_type": "execute_result"
    }
   ],
   "source": [
    "np.eye(5)"
   ]
  },
  {
   "cell_type": "code",
   "execution_count": 58,
   "id": "99ce19b6",
   "metadata": {},
   "outputs": [
    {
     "data": {
      "text/plain": [
       "array([[1., 0., 0.],\n",
       "       [0., 1., 0.],\n",
       "       [0., 0., 1.]])"
      ]
     },
     "execution_count": 58,
     "metadata": {},
     "output_type": "execute_result"
    }
   ],
   "source": [
    "np.identity(3)"
   ]
  },
  {
   "cell_type": "code",
   "execution_count": 60,
   "id": "d0149d5a",
   "metadata": {},
   "outputs": [
    {
     "data": {
      "text/plain": [
       "array([[1., 0., 0.],\n",
       "       [0., 1., 0.]])"
      ]
     },
     "execution_count": 60,
     "metadata": {},
     "output_type": "execute_result"
    }
   ],
   "source": [
    "np.eye(2,3)"
   ]
  },
  {
   "cell_type": "code",
   "execution_count": 61,
   "id": "3f53a8fc",
   "metadata": {},
   "outputs": [
    {
     "data": {
      "text/plain": [
       "array([1, 2, 3, 4])"
      ]
     },
     "execution_count": 61,
     "metadata": {},
     "output_type": "execute_result"
    }
   ],
   "source": [
    "np.arange(1,5)"
   ]
  },
  {
   "cell_type": "code",
   "execution_count": 62,
   "id": "b9e518cf",
   "metadata": {},
   "outputs": [
    {
     "data": {
      "text/plain": [
       "array([1. , 1.4, 1.8, 2.2, 2.6, 3. , 3.4, 3.8, 4.2, 4.6])"
      ]
     },
     "execution_count": 62,
     "metadata": {},
     "output_type": "execute_result"
    }
   ],
   "source": [
    "np.arange(1,5,0.4)"
   ]
  },
  {
   "cell_type": "code",
   "execution_count": 63,
   "id": "ad67f00b",
   "metadata": {},
   "outputs": [
    {
     "data": {
      "text/plain": [
       "array([12.        , 12.36734694, 12.73469388, 13.10204082, 13.46938776,\n",
       "       13.83673469, 14.20408163, 14.57142857, 14.93877551, 15.30612245,\n",
       "       15.67346939, 16.04081633, 16.40816327, 16.7755102 , 17.14285714,\n",
       "       17.51020408, 17.87755102, 18.24489796, 18.6122449 , 18.97959184,\n",
       "       19.34693878, 19.71428571, 20.08163265, 20.44897959, 20.81632653,\n",
       "       21.18367347, 21.55102041, 21.91836735, 22.28571429, 22.65306122,\n",
       "       23.02040816, 23.3877551 , 23.75510204, 24.12244898, 24.48979592,\n",
       "       24.85714286, 25.2244898 , 25.59183673, 25.95918367, 26.32653061,\n",
       "       26.69387755, 27.06122449, 27.42857143, 27.79591837, 28.16326531,\n",
       "       28.53061224, 28.89795918, 29.26530612, 29.63265306, 30.        ])"
      ]
     },
     "execution_count": 63,
     "metadata": {},
     "output_type": "execute_result"
    }
   ],
   "source": [
    "np.linspace(12,30)"
   ]
  },
  {
   "cell_type": "code",
   "execution_count": 64,
   "id": "6f20c23c",
   "metadata": {},
   "outputs": [
    {
     "data": {
      "text/plain": [
       "array([12.        , 12.94736842, 13.89473684, 14.84210526, 15.78947368,\n",
       "       16.73684211, 17.68421053, 18.63157895, 19.57894737, 20.52631579,\n",
       "       21.47368421, 22.42105263, 23.36842105, 24.31578947, 25.26315789,\n",
       "       26.21052632, 27.15789474, 28.10526316, 29.05263158, 30.        ])"
      ]
     },
     "execution_count": 64,
     "metadata": {},
     "output_type": "execute_result"
    }
   ],
   "source": [
    "np.linspace(12,30,20)"
   ]
  },
  {
   "cell_type": "code",
   "execution_count": 65,
   "id": "402a5368",
   "metadata": {},
   "outputs": [
    {
     "data": {
      "text/plain": [
       "array([38, 35, 17, 26, 18, 13])"
      ]
     },
     "execution_count": 65,
     "metadata": {},
     "output_type": "execute_result"
    }
   ],
   "source": [
    "np.random.randint(12,40,6)"
   ]
  },
  {
   "cell_type": "code",
   "execution_count": 66,
   "id": "990cd3dc",
   "metadata": {},
   "outputs": [
    {
     "data": {
      "text/plain": [
       "array([[36, 39, 27, 24, 31],\n",
       "       [14, 15, 35, 25, 38],\n",
       "       [26, 13, 14, 12, 31],\n",
       "       [29, 37, 18, 20, 17]])"
      ]
     },
     "execution_count": 66,
     "metadata": {},
     "output_type": "execute_result"
    }
   ],
   "source": [
    "np.random.randint(12,40,(4,5))"
   ]
  },
  {
   "cell_type": "markdown",
   "id": "8132fbee",
   "metadata": {},
   "source": [
    "## Reshaping "
   ]
  },
  {
   "cell_type": "code",
   "execution_count": 67,
   "id": "bd8328c3",
   "metadata": {},
   "outputs": [],
   "source": [
    "B=np.linspace(12,50,20)"
   ]
  },
  {
   "cell_type": "code",
   "execution_count": 68,
   "id": "f90762cd",
   "metadata": {},
   "outputs": [
    {
     "data": {
      "text/plain": [
       "array([12., 14., 16., 18., 20., 22., 24., 26., 28., 30., 32., 34., 36.,\n",
       "       38., 40., 42., 44., 46., 48., 50.])"
      ]
     },
     "execution_count": 68,
     "metadata": {},
     "output_type": "execute_result"
    }
   ],
   "source": [
    "B"
   ]
  },
  {
   "cell_type": "code",
   "execution_count": 69,
   "id": "74daeccf",
   "metadata": {},
   "outputs": [
    {
     "data": {
      "text/plain": [
       "(20,)"
      ]
     },
     "execution_count": 69,
     "metadata": {},
     "output_type": "execute_result"
    }
   ],
   "source": [
    "B.shape"
   ]
  },
  {
   "cell_type": "code",
   "execution_count": 70,
   "id": "90ad9291",
   "metadata": {},
   "outputs": [],
   "source": [
    "B.shape=(5,4)"
   ]
  },
  {
   "cell_type": "code",
   "execution_count": 71,
   "id": "52c79ffd",
   "metadata": {},
   "outputs": [
    {
     "data": {
      "text/plain": [
       "array([[12., 14., 16., 18.],\n",
       "       [20., 22., 24., 26.],\n",
       "       [28., 30., 32., 34.],\n",
       "       [36., 38., 40., 42.],\n",
       "       [44., 46., 48., 50.]])"
      ]
     },
     "execution_count": 71,
     "metadata": {},
     "output_type": "execute_result"
    }
   ],
   "source": [
    "B"
   ]
  },
  {
   "cell_type": "code",
   "execution_count": 72,
   "id": "28d23684",
   "metadata": {},
   "outputs": [
    {
     "data": {
      "text/plain": [
       "array([[ 2,  4],\n",
       "       [ 5,  6],\n",
       "       [67,  8]])"
      ]
     },
     "execution_count": 72,
     "metadata": {},
     "output_type": "execute_result"
    }
   ],
   "source": [
    "A"
   ]
  },
  {
   "cell_type": "code",
   "execution_count": 73,
   "id": "b38adadf",
   "metadata": {},
   "outputs": [
    {
     "data": {
      "text/plain": [
       "array([[ 2,  4,  5],\n",
       "       [ 6, 67,  8]])"
      ]
     },
     "execution_count": 73,
     "metadata": {},
     "output_type": "execute_result"
    }
   ],
   "source": [
    "A.reshape(2,3)"
   ]
  },
  {
   "cell_type": "code",
   "execution_count": 74,
   "id": "10db453b",
   "metadata": {},
   "outputs": [
    {
     "data": {
      "text/plain": [
       "array([[ 2,  4],\n",
       "       [ 5,  6],\n",
       "       [67,  8]])"
      ]
     },
     "execution_count": 74,
     "metadata": {},
     "output_type": "execute_result"
    }
   ],
   "source": [
    "A"
   ]
  },
  {
   "cell_type": "code",
   "execution_count": 75,
   "id": "073f201c",
   "metadata": {},
   "outputs": [],
   "source": [
    "A=A.reshape(2,3)"
   ]
  },
  {
   "cell_type": "code",
   "execution_count": 76,
   "id": "1e1c821a",
   "metadata": {},
   "outputs": [
    {
     "data": {
      "text/plain": [
       "array([[ 2,  4,  5],\n",
       "       [ 6, 67,  8]])"
      ]
     },
     "execution_count": 76,
     "metadata": {},
     "output_type": "execute_result"
    }
   ],
   "source": [
    "A"
   ]
  },
  {
   "cell_type": "code",
   "execution_count": 77,
   "id": "35593170",
   "metadata": {},
   "outputs": [
    {
     "data": {
      "text/plain": [
       "array([[12., 14., 16., 18.],\n",
       "       [20., 22., 24., 26.],\n",
       "       [28., 30., 32., 34.],\n",
       "       [36., 38., 40., 42.],\n",
       "       [44., 46., 48., 50.]])"
      ]
     },
     "execution_count": 77,
     "metadata": {},
     "output_type": "execute_result"
    }
   ],
   "source": [
    "B"
   ]
  },
  {
   "cell_type": "code",
   "execution_count": 78,
   "id": "5fde016e",
   "metadata": {},
   "outputs": [
    {
     "data": {
      "text/plain": [
       "array([[12., 14., 16., 18., 20., 22., 24., 26., 28., 30.],\n",
       "       [32., 34., 36., 38., 40., 42., 44., 46., 48., 50.]])"
      ]
     },
     "execution_count": 78,
     "metadata": {},
     "output_type": "execute_result"
    }
   ],
   "source": [
    "B.reshape(2,-1)"
   ]
  },
  {
   "cell_type": "code",
   "execution_count": 79,
   "id": "d6827665",
   "metadata": {},
   "outputs": [
    {
     "data": {
      "text/plain": [
       "array([[12., 14., 16., 18., 20.],\n",
       "       [22., 24., 26., 28., 30.],\n",
       "       [32., 34., 36., 38., 40.],\n",
       "       [42., 44., 46., 48., 50.]])"
      ]
     },
     "execution_count": 79,
     "metadata": {},
     "output_type": "execute_result"
    }
   ],
   "source": [
    "B.reshape(-1,5)"
   ]
  },
  {
   "cell_type": "code",
   "execution_count": 80,
   "id": "85e7d934",
   "metadata": {},
   "outputs": [
    {
     "ename": "ValueError",
     "evalue": "cannot reshape array of size 20 into shape (6)",
     "output_type": "error",
     "traceback": [
      "\u001b[0;31m---------------------------------------------------------------------------\u001b[0m",
      "\u001b[0;31mValueError\u001b[0m                                Traceback (most recent call last)",
      "\u001b[0;32m/var/folders/3d/pkg6m4_x11s9hw4jt5sb8zp00000gn/T/ipykernel_9918/2400983541.py\u001b[0m in \u001b[0;36m<module>\u001b[0;34m\u001b[0m\n\u001b[0;32m----> 1\u001b[0;31m \u001b[0mB\u001b[0m\u001b[0;34m.\u001b[0m\u001b[0mreshape\u001b[0m\u001b[0;34m(\u001b[0m\u001b[0;34m-\u001b[0m\u001b[0;36m1\u001b[0m\u001b[0;34m,\u001b[0m\u001b[0;36m6\u001b[0m\u001b[0;34m)\u001b[0m\u001b[0;34m\u001b[0m\u001b[0;34m\u001b[0m\u001b[0m\n\u001b[0m",
      "\u001b[0;31mValueError\u001b[0m: cannot reshape array of size 20 into shape (6)"
     ]
    }
   ],
   "source": [
    "B.reshape(-1,6)"
   ]
  },
  {
   "cell_type": "code",
   "execution_count": 81,
   "id": "eab7fee6",
   "metadata": {},
   "outputs": [
    {
     "data": {
      "text/plain": [
       "array([[ 2,  4,  5],\n",
       "       [ 6, 67,  8]])"
      ]
     },
     "execution_count": 81,
     "metadata": {},
     "output_type": "execute_result"
    }
   ],
   "source": [
    "A"
   ]
  },
  {
   "cell_type": "code",
   "execution_count": 82,
   "id": "a43f2e93",
   "metadata": {},
   "outputs": [],
   "source": [
    "A=A.reshape(1,-1)"
   ]
  },
  {
   "cell_type": "code",
   "execution_count": 83,
   "id": "59c51a1a",
   "metadata": {},
   "outputs": [
    {
     "data": {
      "text/plain": [
       "array([[ 2,  4,  5,  6, 67,  8]])"
      ]
     },
     "execution_count": 83,
     "metadata": {},
     "output_type": "execute_result"
    }
   ],
   "source": [
    "A"
   ]
  },
  {
   "cell_type": "code",
   "execution_count": 84,
   "id": "d1f938bc",
   "metadata": {},
   "outputs": [
    {
     "data": {
      "text/plain": [
       "(1, 6)"
      ]
     },
     "execution_count": 84,
     "metadata": {},
     "output_type": "execute_result"
    }
   ],
   "source": [
    "A.shape"
   ]
  },
  {
   "cell_type": "code",
   "execution_count": 85,
   "id": "fe196689",
   "metadata": {},
   "outputs": [
    {
     "data": {
      "text/plain": [
       "2"
      ]
     },
     "execution_count": 85,
     "metadata": {},
     "output_type": "execute_result"
    }
   ],
   "source": [
    "A.ndim"
   ]
  },
  {
   "cell_type": "code",
   "execution_count": 86,
   "id": "41a0dbfd",
   "metadata": {},
   "outputs": [
    {
     "data": {
      "text/plain": [
       "array([3, 4, 5, 6, 4, 6, 6])"
      ]
     },
     "execution_count": 86,
     "metadata": {},
     "output_type": "execute_result"
    }
   ],
   "source": [
    "a1"
   ]
  },
  {
   "cell_type": "code",
   "execution_count": 88,
   "id": "41e380b1",
   "metadata": {},
   "outputs": [],
   "source": [
    "A=A.ravel()"
   ]
  },
  {
   "cell_type": "code",
   "execution_count": 89,
   "id": "c2885c8b",
   "metadata": {},
   "outputs": [
    {
     "data": {
      "text/plain": [
       "array([ 2,  4,  5,  6, 67,  8])"
      ]
     },
     "execution_count": 89,
     "metadata": {},
     "output_type": "execute_result"
    }
   ],
   "source": [
    "A"
   ]
  },
  {
   "cell_type": "code",
   "execution_count": 90,
   "id": "6ebc8e2e",
   "metadata": {},
   "outputs": [
    {
     "data": {
      "text/plain": [
       "(6,)"
      ]
     },
     "execution_count": 90,
     "metadata": {},
     "output_type": "execute_result"
    }
   ],
   "source": [
    "A.shape"
   ]
  },
  {
   "cell_type": "code",
   "execution_count": 91,
   "id": "12d75d37",
   "metadata": {},
   "outputs": [
    {
     "data": {
      "text/plain": [
       "1"
      ]
     },
     "execution_count": 91,
     "metadata": {},
     "output_type": "execute_result"
    }
   ],
   "source": [
    "A.ndim"
   ]
  },
  {
   "cell_type": "code",
   "execution_count": 92,
   "id": "18f07d96",
   "metadata": {},
   "outputs": [
    {
     "data": {
      "text/plain": [
       "array([[12., 14., 16., 18.],\n",
       "       [20., 22., 24., 26.],\n",
       "       [28., 30., 32., 34.],\n",
       "       [36., 38., 40., 42.],\n",
       "       [44., 46., 48., 50.]])"
      ]
     },
     "execution_count": 92,
     "metadata": {},
     "output_type": "execute_result"
    }
   ],
   "source": [
    "B"
   ]
  },
  {
   "cell_type": "code",
   "execution_count": 93,
   "id": "4b13e26b",
   "metadata": {},
   "outputs": [
    {
     "data": {
      "text/plain": [
       "(5, 4)"
      ]
     },
     "execution_count": 93,
     "metadata": {},
     "output_type": "execute_result"
    }
   ],
   "source": [
    "B.shape"
   ]
  },
  {
   "cell_type": "code",
   "execution_count": 95,
   "id": "4583cd83",
   "metadata": {},
   "outputs": [],
   "source": [
    "B=B.T"
   ]
  },
  {
   "cell_type": "code",
   "execution_count": 96,
   "id": "48d32298",
   "metadata": {},
   "outputs": [
    {
     "data": {
      "text/plain": [
       "array([[12., 20., 28., 36., 44.],\n",
       "       [14., 22., 30., 38., 46.],\n",
       "       [16., 24., 32., 40., 48.],\n",
       "       [18., 26., 34., 42., 50.]])"
      ]
     },
     "execution_count": 96,
     "metadata": {},
     "output_type": "execute_result"
    }
   ],
   "source": [
    "B"
   ]
  },
  {
   "cell_type": "code",
   "execution_count": 98,
   "id": "d25b2c82",
   "metadata": {},
   "outputs": [
    {
     "data": {
      "text/plain": [
       "array([[12., 14., 16., 18.],\n",
       "       [20., 22., 24., 26.],\n",
       "       [28., 30., 32., 34.],\n",
       "       [36., 38., 40., 42.],\n",
       "       [44., 46., 48., 50.]])"
      ]
     },
     "execution_count": 98,
     "metadata": {},
     "output_type": "execute_result"
    }
   ],
   "source": [
    "B.transpose()"
   ]
  },
  {
   "cell_type": "code",
   "execution_count": 99,
   "id": "5000c327",
   "metadata": {},
   "outputs": [],
   "source": [
    "import calendar"
   ]
  },
  {
   "cell_type": "code",
   "execution_count": 101,
   "id": "f028687b",
   "metadata": {},
   "outputs": [],
   "source": [
    "calendar?"
   ]
  },
  {
   "cell_type": "code",
   "execution_count": 104,
   "id": "ee43afe4",
   "metadata": {},
   "outputs": [],
   "source": [
    "days=[\"mon\",\"tue\",\"wed\",\"thu\",\"fri\"]\n",
    "spending=np.random.randint(1,30,5)"
   ]
  },
  {
   "cell_type": "code",
   "execution_count": 105,
   "id": "04c66829",
   "metadata": {},
   "outputs": [
    {
     "data": {
      "text/plain": [
       "['mon', 'tue', 'wed', 'thu', 'fri']"
      ]
     },
     "execution_count": 105,
     "metadata": {},
     "output_type": "execute_result"
    }
   ],
   "source": [
    "days"
   ]
  },
  {
   "cell_type": "code",
   "execution_count": 106,
   "id": "3145ca6d",
   "metadata": {},
   "outputs": [
    {
     "data": {
      "text/plain": [
       "array([17,  5, 20, 29, 12])"
      ]
     },
     "execution_count": 106,
     "metadata": {},
     "output_type": "execute_result"
    }
   ],
   "source": [
    "spending"
   ]
  },
  {
   "cell_type": "markdown",
   "id": "34e80be6",
   "metadata": {},
   "source": [
    "## Matplotlib"
   ]
  },
  {
   "cell_type": "code",
   "execution_count": 107,
   "id": "9b9dbd64",
   "metadata": {},
   "outputs": [],
   "source": [
    "import matplotlib.pyplot as plt"
   ]
  },
  {
   "cell_type": "code",
   "execution_count": 108,
   "id": "157700ab",
   "metadata": {},
   "outputs": [
    {
     "data": {
      "text/plain": [
       "<BarContainer object of 5 artists>"
      ]
     },
     "execution_count": 108,
     "metadata": {},
     "output_type": "execute_result"
    },
    {
     "data": {
      "image/png": "[encoded data removed]",
      "text/plain": [
       "<Figure size 432x288 with 1 Axes>"
      ]
     },
     "metadata": {
      "needs_background": "light"
     },
     "output_type": "display_data"
    }
   ],
   "source": [
    "plt.bar(days,spending)"
   ]
  },
  {
   "cell_type": "code",
   "execution_count": 109,
   "id": "91082ef4",
   "metadata": {},
   "outputs": [
    {
     "data": {
      "text/plain": [
       "([<matplotlib.patches.Wedge at 0x7fdadbde5f40>,\n",
       "  <matplotlib.patches.Wedge at 0x7fdadbdf2520>,\n",
       "  <matplotlib.patches.Wedge at 0x7fdadbdf2a00>,\n",
       "  <matplotlib.patches.Wedge at 0x7fdadbdf2ee0>,\n",
       "  <matplotlib.patches.Wedge at 0x7fdadbdfe400>],\n",
       " [Text(0.8800279654426978, 0.6599627110972149, ''),\n",
       "  Text(0.10393364121656774, 1.0950789004557917, ''),\n",
       "  Text(-0.8275954720308955, 0.7246279974400379, ''),\n",
       "  Text(-0.4638315722553024, -0.9974268256765377, ''),\n",
       "  Text(0.9884706074402764, -0.48262393043305585, '')])"
      ]
     },
     "execution_count": 109,
     "metadata": {},
     "output_type": "execute_result"
    },
    {
     "data": {
      "image/png": "[encoded data removed]",
      "text/plain": [
       "<Figure size 432x288 with 1 Axes>"
      ]
     },
     "metadata": {},
     "output_type": "display_data"
    }
   ],
   "source": [
    "plt.pie(spending)"
   ]
  },
  {
   "cell_type": "code",
   "execution_count": 110,
   "id": "226a5e41",
   "metadata": {},
   "outputs": [
    {
     "data": {
      "image/png": "[encoded data removed]",
      "text/plain": [
       "<Figure size 432x288 with 1 Axes>"
      ]
     },
     "metadata": {},
     "output_type": "display_data"
    }
   ],
   "source": [
    "plt.pie(spending);"
   ]
  },
  {
   "cell_type": "code",
   "execution_count": 111,
   "id": "80b4d0b5",
   "metadata": {},
   "outputs": [
    {
     "data": {
      "image/png": "[encoded data removed]",
      "text/plain": [
       "<Figure size 432x288 with 1 Axes>"
      ]
     },
     "metadata": {},
     "output_type": "display_data"
    }
   ],
   "source": [
    "plt.pie(spending,labels=days);"
   ]
  },
  {
   "cell_type": "code",
   "execution_count": 112,
   "id": "0504c574",
   "metadata": {},
   "outputs": [
    {
     "data": {
      "image/png": "[encoded data removed]",
      "text/plain": [
       "<Figure size 432x288 with 1 Axes>"
      ]
     },
     "metadata": {},
     "output_type": "display_data"
    }
   ],
   "source": [
    "plt.pie(spending,labels=days,explode=(0.4,0,0,0,0));"
   ]
  },
  {
   "cell_type": "code",
   "execution_count": 113,
   "id": "3ec84887",
   "metadata": {},
   "outputs": [
    {
     "data": {
      "image/png": "[encoded data removed]",
      "text/plain": [
       "<Figure size 432x288 with 1 Axes>"
      ]
     },
     "metadata": {},
     "output_type": "display_data"
    }
   ],
   "source": [
    "plt.pie(spending,labels=days,explode=(0.4,0,0,0,0.9));"
   ]
  },
  {
   "cell_type": "code",
   "execution_count": 114,
   "id": "51c4a84c",
   "metadata": {},
   "outputs": [
    {
     "data": {
      "image/png": "[encoded data removed]",
      "text/plain": [
       "<Figure size 432x288 with 1 Axes>"
      ]
     },
     "metadata": {},
     "output_type": "display_data"
    }
   ],
   "source": [
    "plt.pie(spending,labels=days,explode=(0.1,0.1,0.1,0.2,0.1));"
   ]
  },
  {
   "cell_type": "code",
   "execution_count": null,
   "id": "0cd98909",
   "metadata": {},
   "outputs": [],
   "source": []
  }
 ],
 "metadata": {
  "kernelspec": {
   "display_name": "Python 3 (ipykernel)",
   "language": "python",
   "name": "python3"
  },
  "language_info": {
   "codemirror_mode": {
    "name": "ipython",
    "version": 3
   },
   "file_extension": ".py",
   "mimetype": "text/x-python",
   "name": "python",
   "nbconvert_exporter": "python",
   "pygments_lexer": "ipython3",
   "version": "3.9.7"
  }
 },
 "nbformat": 4,
 "nbformat_minor": 5
}
