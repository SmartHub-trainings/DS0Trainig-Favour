{
 "cells": [
  {
   "cell_type": "markdown",
   "id": "c387c3ea",
   "metadata": {},
   "source": [
    "## operations on number "
   ]
  },
  {
   "cell_type": "code",
   "execution_count": 1,
   "id": "205b8fa3",
   "metadata": {},
   "outputs": [],
   "source": [
    "import numpy as np"
   ]
  },
  {
   "cell_type": "code",
   "execution_count": 11,
   "id": "a45fef7e",
   "metadata": {},
   "outputs": [],
   "source": [
    "np.random.seed(2)\n",
    "A=np.random.randint(2,10,(2,2))\n",
    "B=np.random.randint(2,20,(2,2))"
   ]
  },
  {
   "cell_type": "code",
   "execution_count": 12,
   "id": "c32afb9d",
   "metadata": {},
   "outputs": [
    {
     "data": {
      "text/plain": [
       "array([[2, 9],\n",
       "       [7, 2]])"
      ]
     },
     "execution_count": 12,
     "metadata": {},
     "output_type": "execute_result"
    }
   ],
   "source": [
    "A"
   ]
  },
  {
   "cell_type": "code",
   "execution_count": 13,
   "id": "eeb378ad",
   "metadata": {},
   "outputs": [
    {
     "data": {
      "text/plain": [
       "array([[13, 13],\n",
       "       [10,  9]])"
      ]
     },
     "execution_count": 13,
     "metadata": {},
     "output_type": "execute_result"
    }
   ],
   "source": [
    "B"
   ]
  },
  {
   "cell_type": "code",
   "execution_count": 14,
   "id": "1455c50f",
   "metadata": {},
   "outputs": [
    {
     "data": {
      "text/plain": [
       "array([[ 26, 117],\n",
       "       [ 70,  18]])"
      ]
     },
     "execution_count": 14,
     "metadata": {},
     "output_type": "execute_result"
    }
   ],
   "source": [
    "A*B ## element wise"
   ]
  },
  {
   "cell_type": "markdown",
   "id": "1b9b9dc1",
   "metadata": {},
   "source": [
    "## Matricx Multiplication"
   ]
  },
  {
   "cell_type": "code",
   "execution_count": 15,
   "id": "3cefab3c",
   "metadata": {},
   "outputs": [
    {
     "data": {
      "text/plain": [
       "array([[116, 107],\n",
       "       [111, 109]])"
      ]
     },
     "execution_count": 15,
     "metadata": {},
     "output_type": "execute_result"
    }
   ],
   "source": [
    "A.dot(B)"
   ]
  },
  {
   "cell_type": "code",
   "execution_count": 16,
   "id": "ebf0eeda",
   "metadata": {},
   "outputs": [
    {
     "data": {
      "text/plain": [
       "array([[117, 143],\n",
       "       [ 83, 108]])"
      ]
     },
     "execution_count": 16,
     "metadata": {},
     "output_type": "execute_result"
    }
   ],
   "source": [
    "B.dot(A)"
   ]
  },
  {
   "cell_type": "markdown",
   "id": "f47a2592",
   "metadata": {},
   "source": [
    "## Broadcasting"
   ]
  },
  {
   "cell_type": "code",
   "execution_count": 17,
   "id": "b3196297",
   "metadata": {},
   "outputs": [],
   "source": [
    "a=A.ravel()"
   ]
  },
  {
   "cell_type": "code",
   "execution_count": 18,
   "id": "f8970017",
   "metadata": {},
   "outputs": [
    {
     "data": {
      "text/plain": [
       "array([2, 9, 7, 2])"
      ]
     },
     "execution_count": 18,
     "metadata": {},
     "output_type": "execute_result"
    }
   ],
   "source": [
    "a"
   ]
  },
  {
   "cell_type": "code",
   "execution_count": 19,
   "id": "6987be3d",
   "metadata": {},
   "outputs": [
    {
     "data": {
      "text/plain": [
       "array([ 5, 12, 10,  5])"
      ]
     },
     "execution_count": 19,
     "metadata": {},
     "output_type": "execute_result"
    }
   ],
   "source": [
    "a+3"
   ]
  },
  {
   "cell_type": "code",
   "execution_count": 22,
   "id": "3f7e4d79",
   "metadata": {},
   "outputs": [],
   "source": [
    "k=np.array([3]*4)"
   ]
  },
  {
   "cell_type": "code",
   "execution_count": 23,
   "id": "6cde6425",
   "metadata": {},
   "outputs": [
    {
     "data": {
      "text/plain": [
       "array([3, 3, 3, 3])"
      ]
     },
     "execution_count": 23,
     "metadata": {},
     "output_type": "execute_result"
    }
   ],
   "source": [
    "k"
   ]
  },
  {
   "cell_type": "code",
   "execution_count": 24,
   "id": "3199d794",
   "metadata": {},
   "outputs": [
    {
     "data": {
      "text/plain": [
       "[4, 5, 4, 5]"
      ]
     },
     "execution_count": 24,
     "metadata": {},
     "output_type": "execute_result"
    }
   ],
   "source": [
    "[4,5]*2"
   ]
  },
  {
   "cell_type": "code",
   "execution_count": 25,
   "id": "75e2aa06",
   "metadata": {},
   "outputs": [
    {
     "data": {
      "text/plain": [
       "array([ 5, 12, 10,  5])"
      ]
     },
     "execution_count": 25,
     "metadata": {},
     "output_type": "execute_result"
    }
   ],
   "source": [
    "a+k"
   ]
  },
  {
   "cell_type": "code",
   "execution_count": 26,
   "id": "a7ebeb83",
   "metadata": {},
   "outputs": [],
   "source": [
    "b=np.array([4,5])"
   ]
  },
  {
   "cell_type": "code",
   "execution_count": 27,
   "id": "534cad58",
   "metadata": {},
   "outputs": [
    {
     "data": {
      "text/plain": [
       "array([4, 5])"
      ]
     },
     "execution_count": 27,
     "metadata": {},
     "output_type": "execute_result"
    }
   ],
   "source": [
    "b"
   ]
  },
  {
   "cell_type": "code",
   "execution_count": 28,
   "id": "84f0c9ae",
   "metadata": {},
   "outputs": [
    {
     "data": {
      "text/plain": [
       "array([[2, 9],\n",
       "       [7, 2]])"
      ]
     },
     "execution_count": 28,
     "metadata": {},
     "output_type": "execute_result"
    }
   ],
   "source": [
    "A"
   ]
  },
  {
   "cell_type": "code",
   "execution_count": 29,
   "id": "a18bee8e",
   "metadata": {},
   "outputs": [
    {
     "data": {
      "text/plain": [
       "array([[ 6, 14],\n",
       "       [11,  7]])"
      ]
     },
     "execution_count": 29,
     "metadata": {},
     "output_type": "execute_result"
    }
   ],
   "source": [
    "A+b"
   ]
  },
  {
   "cell_type": "code",
   "execution_count": 30,
   "id": "224754eb",
   "metadata": {},
   "outputs": [],
   "source": [
    "x=np.array([3,4,5])"
   ]
  },
  {
   "cell_type": "code",
   "execution_count": 31,
   "id": "521097ed",
   "metadata": {},
   "outputs": [
    {
     "ename": "ValueError",
     "evalue": "operands could not be broadcast together with shapes (2,2) (3,) ",
     "output_type": "error",
     "traceback": [
      "\u001b[0;31m---------------------------------------------------------------------------\u001b[0m",
      "\u001b[0;31mValueError\u001b[0m                                Traceback (most recent call last)",
      "\u001b[0;32m/var/folders/3d/pkg6m4_x11s9hw4jt5sb8zp00000gn/T/ipykernel_60467/1580417576.py\u001b[0m in \u001b[0;36m<module>\u001b[0;34m\u001b[0m\n\u001b[0;32m----> 1\u001b[0;31m \u001b[0mA\u001b[0m\u001b[0;34m+\u001b[0m\u001b[0mx\u001b[0m\u001b[0;34m\u001b[0m\u001b[0;34m\u001b[0m\u001b[0m\n\u001b[0m",
      "\u001b[0;31mValueError\u001b[0m: operands could not be broadcast together with shapes (2,2) (3,) "
     ]
    }
   ],
   "source": [
    "A+x"
   ]
  },
  {
   "cell_type": "markdown",
   "id": "978d8deb",
   "metadata": {},
   "source": [
    "## Ufunc"
   ]
  },
  {
   "cell_type": "code",
   "execution_count": 32,
   "id": "2f86047f",
   "metadata": {},
   "outputs": [],
   "source": [
    "x=np.linspace(-10,10,30)"
   ]
  },
  {
   "cell_type": "code",
   "execution_count": 33,
   "id": "663fc1c7",
   "metadata": {},
   "outputs": [
    {
     "data": {
      "text/plain": [
       "array([-10.        ,  -9.31034483,  -8.62068966,  -7.93103448,\n",
       "        -7.24137931,  -6.55172414,  -5.86206897,  -5.17241379,\n",
       "        -4.48275862,  -3.79310345,  -3.10344828,  -2.4137931 ,\n",
       "        -1.72413793,  -1.03448276,  -0.34482759,   0.34482759,\n",
       "         1.03448276,   1.72413793,   2.4137931 ,   3.10344828,\n",
       "         3.79310345,   4.48275862,   5.17241379,   5.86206897,\n",
       "         6.55172414,   7.24137931,   7.93103448,   8.62068966,\n",
       "         9.31034483,  10.        ])"
      ]
     },
     "execution_count": 33,
     "metadata": {},
     "output_type": "execute_result"
    }
   ],
   "source": [
    "x"
   ]
  },
  {
   "cell_type": "code",
   "execution_count": 34,
   "id": "af4dcb28",
   "metadata": {},
   "outputs": [
    {
     "ename": "AttributeError",
     "evalue": "'numpy.ndarray' object has no attribute 'abs'",
     "output_type": "error",
     "traceback": [
      "\u001b[0;31m---------------------------------------------------------------------------\u001b[0m",
      "\u001b[0;31mAttributeError\u001b[0m                            Traceback (most recent call last)",
      "\u001b[0;32m/var/folders/3d/pkg6m4_x11s9hw4jt5sb8zp00000gn/T/ipykernel_60467/165613025.py\u001b[0m in \u001b[0;36m<module>\u001b[0;34m\u001b[0m\n\u001b[0;32m----> 1\u001b[0;31m \u001b[0mx\u001b[0m\u001b[0;34m.\u001b[0m\u001b[0mabs\u001b[0m\u001b[0;34m(\u001b[0m\u001b[0;34m)\u001b[0m\u001b[0;34m\u001b[0m\u001b[0;34m\u001b[0m\u001b[0m\n\u001b[0m",
      "\u001b[0;31mAttributeError\u001b[0m: 'numpy.ndarray' object has no attribute 'abs'"
     ]
    }
   ],
   "source": [
    "x.abs()"
   ]
  },
  {
   "cell_type": "code",
   "execution_count": 35,
   "id": "544ba8ab",
   "metadata": {},
   "outputs": [
    {
     "ename": "AttributeError",
     "evalue": "'numpy.ndarray' object has no attribute 'absolute'",
     "output_type": "error",
     "traceback": [
      "\u001b[0;31m---------------------------------------------------------------------------\u001b[0m",
      "\u001b[0;31mAttributeError\u001b[0m                            Traceback (most recent call last)",
      "\u001b[0;32m/var/folders/3d/pkg6m4_x11s9hw4jt5sb8zp00000gn/T/ipykernel_60467/326526840.py\u001b[0m in \u001b[0;36m<module>\u001b[0;34m\u001b[0m\n\u001b[0;32m----> 1\u001b[0;31m \u001b[0mx\u001b[0m\u001b[0;34m.\u001b[0m\u001b[0mabsolute\u001b[0m\u001b[0;34m(\u001b[0m\u001b[0;34m)\u001b[0m\u001b[0;34m\u001b[0m\u001b[0;34m\u001b[0m\u001b[0m\n\u001b[0m",
      "\u001b[0;31mAttributeError\u001b[0m: 'numpy.ndarray' object has no attribute 'absolute'"
     ]
    }
   ],
   "source": [
    "x.absolute()"
   ]
  },
  {
   "cell_type": "code",
   "execution_count": 36,
   "id": "3eea62ae",
   "metadata": {},
   "outputs": [
    {
     "data": {
      "text/plain": [
       "array([10.        ,  9.31034483,  8.62068966,  7.93103448,  7.24137931,\n",
       "        6.55172414,  5.86206897,  5.17241379,  4.48275862,  3.79310345,\n",
       "        3.10344828,  2.4137931 ,  1.72413793,  1.03448276,  0.34482759,\n",
       "        0.34482759,  1.03448276,  1.72413793,  2.4137931 ,  3.10344828,\n",
       "        3.79310345,  4.48275862,  5.17241379,  5.86206897,  6.55172414,\n",
       "        7.24137931,  7.93103448,  8.62068966,  9.31034483, 10.        ])"
      ]
     },
     "execution_count": 36,
     "metadata": {},
     "output_type": "execute_result"
    }
   ],
   "source": [
    "np.abs(x)"
   ]
  },
  {
   "cell_type": "code",
   "execution_count": 37,
   "id": "ea3ec656",
   "metadata": {},
   "outputs": [
    {
     "data": {
      "text/plain": [
       "array([10.        ,  9.31034483,  8.62068966,  7.93103448,  7.24137931,\n",
       "        6.55172414,  5.86206897,  5.17241379,  4.48275862,  3.79310345,\n",
       "        3.10344828,  2.4137931 ,  1.72413793,  1.03448276,  0.34482759,\n",
       "        0.34482759,  1.03448276,  1.72413793,  2.4137931 ,  3.10344828,\n",
       "        3.79310345,  4.48275862,  5.17241379,  5.86206897,  6.55172414,\n",
       "        7.24137931,  7.93103448,  8.62068966,  9.31034483, 10.        ])"
      ]
     },
     "execution_count": 37,
     "metadata": {},
     "output_type": "execute_result"
    }
   ],
   "source": [
    "np.absolute(x)"
   ]
  },
  {
   "cell_type": "code",
   "execution_count": 38,
   "id": "cbae5c09",
   "metadata": {},
   "outputs": [
    {
     "data": {
      "text/plain": [
       "array([4.53999298e-05, 9.04833386e-05, 1.80335842e-04, 3.59414413e-04,\n",
       "       7.16323047e-04, 1.42765201e-03, 2.84535066e-03, 5.67086399e-03,\n",
       "       1.13021917e-02, 2.25255863e-02, 4.48941278e-02, 8.94752612e-02,\n",
       "       1.78326715e-01, 3.55410166e-01, 7.08342471e-01, 1.41174649e+00,\n",
       "       2.81365052e+00, 5.60768473e+00, 1.11762736e+01, 2.22746281e+01,\n",
       "       4.43939611e+01, 8.84784147e+01, 1.76339972e+02, 3.51450531e+02,\n",
       "       7.00450807e+02, 1.39601819e+03, 2.78230356e+03, 5.54520936e+03,\n",
       "       1.10517584e+04, 2.20264658e+04])"
      ]
     },
     "execution_count": 38,
     "metadata": {},
     "output_type": "execute_result"
    }
   ],
   "source": [
    "np.exp(x)"
   ]
  },
  {
   "cell_type": "code",
   "execution_count": 39,
   "id": "3cf25bd0",
   "metadata": {},
   "outputs": [],
   "source": [
    "sine1=np.sin(x)"
   ]
  },
  {
   "cell_type": "code",
   "execution_count": 40,
   "id": "45ca2451",
   "metadata": {},
   "outputs": [
    {
     "data": {
      "text/plain": [
       "array([ 0.54402111, -0.11418355, -0.72019844, -0.9970329 , -0.81815446,\n",
       "       -0.26532292,  0.40877952,  0.89604148,  0.9737506 ,  0.60638843,\n",
       "       -0.03813513, -0.6652283 , -0.9882662 , -0.85959818, -0.33803442,\n",
       "        0.33803442,  0.85959818,  0.9882662 ,  0.6652283 ,  0.03813513,\n",
       "       -0.60638843, -0.9737506 , -0.89604148, -0.40877952,  0.26532292,\n",
       "        0.81815446,  0.9970329 ,  0.72019844,  0.11418355, -0.54402111])"
      ]
     },
     "execution_count": 40,
     "metadata": {},
     "output_type": "execute_result"
    }
   ],
   "source": [
    "sine1"
   ]
  },
  {
   "cell_type": "code",
   "execution_count": 41,
   "id": "9488f519",
   "metadata": {},
   "outputs": [],
   "source": [
    "import matplotlib.pyplot as plt"
   ]
  },
  {
   "cell_type": "code",
   "execution_count": 43,
   "id": "81ceb0aa",
   "metadata": {},
   "outputs": [
    {
     "data": {
      "image/png": "[encoded data removed]",
      "text/plain": [
       "<Figure size 432x288 with 1 Axes>"
      ]
     },
     "metadata": {
      "needs_background": "light"
     },
     "output_type": "display_data"
    }
   ],
   "source": [
    "plt.plot(x,sine1);"
   ]
  },
  {
   "cell_type": "code",
   "execution_count": 46,
   "id": "0fb31957",
   "metadata": {},
   "outputs": [
    {
     "data": {
      "image/png": "[encoded data removed]",
      "text/plain": [
       "<Figure size 432x288 with 1 Axes>"
      ]
     },
     "metadata": {
      "needs_background": "light"
     },
     "output_type": "display_data"
    }
   ],
   "source": [
    "x=np.linspace(-10,10,1000)\n",
    "sine1=np.sin(x)\n",
    "plt.grid(True)\n",
    "plt.plot(x,sine1);"
   ]
  },
  {
   "cell_type": "code",
   "execution_count": 47,
   "id": "8fc98407",
   "metadata": {},
   "outputs": [
    {
     "data": {
      "image/png": "[encoded data removed]",
      "text/plain": [
       "<Figure size 432x288 with 1 Axes>"
      ]
     },
     "metadata": {
      "needs_background": "light"
     },
     "output_type": "display_data"
    }
   ],
   "source": [
    "x=np.linspace(-10,10,1000)\n",
    "\n",
    "cos1=np.cos(x)\n",
    "plt.grid(True)\n",
    "plt.plot(x,cos1);"
   ]
  },
  {
   "cell_type": "code",
   "execution_count": 49,
   "id": "aa71b04b",
   "metadata": {},
   "outputs": [
    {
     "data": {
      "text/plain": [
       "<matplotlib.legend.Legend at 0x7fd4d3825fa0>"
      ]
     },
     "execution_count": 49,
     "metadata": {},
     "output_type": "execute_result"
    },
    {
     "data": {
      "image/png": "[encoded data removed]",
      "text/plain": [
       "<Figure size 432x288 with 1 Axes>"
      ]
     },
     "metadata": {
      "needs_background": "light"
     },
     "output_type": "display_data"
    }
   ],
   "source": [
    "plt.plot(x,cos1);\n",
    "plt.plot(x,sine1);\n",
    "plt.legend([\"Cosine graph\",\"Sine graph\"])"
   ]
  },
  {
   "cell_type": "markdown",
   "id": "75b50f5c",
   "metadata": {},
   "source": [
    "## Aggregate functions"
   ]
  },
  {
   "cell_type": "code",
   "execution_count": 50,
   "id": "6d0c9138",
   "metadata": {},
   "outputs": [
    {
     "data": {
      "text/plain": [
       "array([[2, 9],\n",
       "       [7, 2]])"
      ]
     },
     "execution_count": 50,
     "metadata": {},
     "output_type": "execute_result"
    }
   ],
   "source": [
    "A"
   ]
  },
  {
   "cell_type": "code",
   "execution_count": 51,
   "id": "ee150e4a",
   "metadata": {},
   "outputs": [
    {
     "data": {
      "text/plain": [
       "5.0"
      ]
     },
     "execution_count": 51,
     "metadata": {},
     "output_type": "execute_result"
    }
   ],
   "source": [
    "A.mean()"
   ]
  },
  {
   "cell_type": "code",
   "execution_count": 53,
   "id": "9bbc2f22",
   "metadata": {},
   "outputs": [],
   "source": [
    "# np.linalg.det(A)"
   ]
  },
  {
   "cell_type": "code",
   "execution_count": 54,
   "id": "a6b5a7de",
   "metadata": {},
   "outputs": [
    {
     "data": {
      "text/plain": [
       "2"
      ]
     },
     "execution_count": 54,
     "metadata": {},
     "output_type": "execute_result"
    }
   ],
   "source": [
    "A.min()"
   ]
  },
  {
   "cell_type": "code",
   "execution_count": 55,
   "id": "da9248cb",
   "metadata": {},
   "outputs": [
    {
     "data": {
      "text/plain": [
       "9"
      ]
     },
     "execution_count": 55,
     "metadata": {},
     "output_type": "execute_result"
    }
   ],
   "source": [
    "A.max()"
   ]
  },
  {
   "cell_type": "code",
   "execution_count": 59,
   "id": "79e4ec85",
   "metadata": {},
   "outputs": [],
   "source": [
    "b=B.ravel()"
   ]
  },
  {
   "cell_type": "code",
   "execution_count": 60,
   "id": "28fcf149",
   "metadata": {},
   "outputs": [
    {
     "data": {
      "text/plain": [
       "array([13, 13, 10,  9])"
      ]
     },
     "execution_count": 60,
     "metadata": {},
     "output_type": "execute_result"
    }
   ],
   "source": [
    "b"
   ]
  },
  {
   "cell_type": "code",
   "execution_count": 61,
   "id": "daecf960",
   "metadata": {},
   "outputs": [
    {
     "data": {
      "text/plain": [
       "1.7853571071357126"
      ]
     },
     "execution_count": 61,
     "metadata": {},
     "output_type": "execute_result"
    }
   ],
   "source": [
    "b.std()"
   ]
  },
  {
   "cell_type": "code",
   "execution_count": 62,
   "id": "3fb6aa44",
   "metadata": {},
   "outputs": [
    {
     "data": {
      "text/plain": [
       "3.1875"
      ]
     },
     "execution_count": 62,
     "metadata": {},
     "output_type": "execute_result"
    }
   ],
   "source": [
    "b.var()"
   ]
  },
  {
   "cell_type": "code",
   "execution_count": 63,
   "id": "ba315e9a",
   "metadata": {},
   "outputs": [
    {
     "data": {
      "text/plain": [
       "0"
      ]
     },
     "execution_count": 63,
     "metadata": {},
     "output_type": "execute_result"
    }
   ],
   "source": [
    "b.argmax()"
   ]
  },
  {
   "cell_type": "code",
   "execution_count": 64,
   "id": "2ae5afda",
   "metadata": {},
   "outputs": [
    {
     "data": {
      "text/plain": [
       "3"
      ]
     },
     "execution_count": 64,
     "metadata": {},
     "output_type": "execute_result"
    }
   ],
   "source": [
    "b.argmin()"
   ]
  },
  {
   "cell_type": "code",
   "execution_count": 65,
   "id": "0792bf28",
   "metadata": {},
   "outputs": [
    {
     "data": {
      "text/plain": [
       "45"
      ]
     },
     "execution_count": 65,
     "metadata": {},
     "output_type": "execute_result"
    }
   ],
   "source": [
    "b.sum()"
   ]
  },
  {
   "cell_type": "code",
   "execution_count": 66,
   "id": "7c79b450",
   "metadata": {},
   "outputs": [
    {
     "data": {
      "text/plain": [
       "5.0"
      ]
     },
     "execution_count": 66,
     "metadata": {},
     "output_type": "execute_result"
    }
   ],
   "source": [
    "np.mean(a)"
   ]
  },
  {
   "cell_type": "code",
   "execution_count": 67,
   "id": "90dc377e",
   "metadata": {},
   "outputs": [
    {
     "data": {
      "text/plain": [
       "4.5"
      ]
     },
     "execution_count": 67,
     "metadata": {},
     "output_type": "execute_result"
    }
   ],
   "source": [
    "np.median(a)"
   ]
  },
  {
   "cell_type": "code",
   "execution_count": 68,
   "id": "34159c83",
   "metadata": {},
   "outputs": [],
   "source": [
    "courses=np.random.randint(0,100,(4,3))"
   ]
  },
  {
   "cell_type": "code",
   "execution_count": 69,
   "id": "31aaeae6",
   "metadata": {},
   "outputs": [
    {
     "data": {
      "text/plain": [
       "array([[34, 49, 95],\n",
       "       [75, 85, 47],\n",
       "       [63, 31, 90],\n",
       "       [20, 37, 39]])"
      ]
     },
     "execution_count": 69,
     "metadata": {},
     "output_type": "execute_result"
    }
   ],
   "source": [
    "courses"
   ]
  },
  {
   "cell_type": "code",
   "execution_count": 70,
   "id": "6345f15c",
   "metadata": {},
   "outputs": [
    {
     "data": {
      "text/plain": [
       "55.416666666666664"
      ]
     },
     "execution_count": 70,
     "metadata": {},
     "output_type": "execute_result"
    }
   ],
   "source": [
    "courses.mean()"
   ]
  },
  {
   "cell_type": "code",
   "execution_count": 72,
   "id": "ca3ea56d",
   "metadata": {},
   "outputs": [
    {
     "data": {
      "text/plain": [
       "array([48.  , 50.5 , 67.75])"
      ]
     },
     "execution_count": 72,
     "metadata": {},
     "output_type": "execute_result"
    }
   ],
   "source": [
    "courses.mean(axis=0)"
   ]
  },
  {
   "cell_type": "code",
   "execution_count": 73,
   "id": "55ccf0d0",
   "metadata": {},
   "outputs": [
    {
     "data": {
      "text/plain": [
       "2"
      ]
     },
     "execution_count": 73,
     "metadata": {},
     "output_type": "execute_result"
    }
   ],
   "source": [
    "courses.mean(axis=0).argmax() ## method chaining"
   ]
  },
  {
   "cell_type": "code",
   "execution_count": 74,
   "id": "3c1813f5",
   "metadata": {},
   "outputs": [
    {
     "data": {
      "text/plain": [
       "array([59.33333333, 69.        , 61.33333333, 32.        ])"
      ]
     },
     "execution_count": 74,
     "metadata": {},
     "output_type": "execute_result"
    }
   ],
   "source": [
    "courses.mean(axis=1)"
   ]
  },
  {
   "cell_type": "code",
   "execution_count": 75,
   "id": "0f5b481b",
   "metadata": {},
   "outputs": [
    {
     "data": {
      "text/plain": [
       "1"
      ]
     },
     "execution_count": 75,
     "metadata": {},
     "output_type": "execute_result"
    }
   ],
   "source": [
    "courses.mean(axis=1).argmax()"
   ]
  },
  {
   "cell_type": "code",
   "execution_count": 76,
   "id": "f4827ef6",
   "metadata": {},
   "outputs": [
    {
     "data": {
      "text/plain": [
       "array([20, 31, 39])"
      ]
     },
     "execution_count": 76,
     "metadata": {},
     "output_type": "execute_result"
    }
   ],
   "source": [
    "courses.min(axis=0)"
   ]
  },
  {
   "cell_type": "code",
   "execution_count": 77,
   "id": "82e7a3a0",
   "metadata": {},
   "outputs": [
    {
     "data": {
      "text/plain": [
       "array([3, 2, 3])"
      ]
     },
     "execution_count": 77,
     "metadata": {},
     "output_type": "execute_result"
    }
   ],
   "source": [
    "courses.argmin(axis=0)"
   ]
  },
  {
   "cell_type": "code",
   "execution_count": 78,
   "id": "2dec5fff",
   "metadata": {},
   "outputs": [
    {
     "data": {
      "text/plain": [
       "array([0, 2, 1, 0])"
      ]
     },
     "execution_count": 78,
     "metadata": {},
     "output_type": "execute_result"
    }
   ],
   "source": [
    "courses.argmin(axis=1)"
   ]
  },
  {
   "cell_type": "code",
   "execution_count": null,
   "id": "34e1edbd",
   "metadata": {},
   "outputs": [],
   "source": []
  }
 ],
 "metadata": {
  "kernelspec": {
   "display_name": "Python 3 (ipykernel)",
   "language": "python",
   "name": "python3"
  },
  "language_info": {
   "codemirror_mode": {
    "name": "ipython",
    "version": 3
   },
   "file_extension": ".py",
   "mimetype": "text/x-python",
   "name": "python",
   "nbconvert_exporter": "python",
   "pygments_lexer": "ipython3",
   "version": "3.9.7"
  }
 },
 "nbformat": 4,
 "nbformat_minor": 5
}
