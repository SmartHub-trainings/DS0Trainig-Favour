{
 "cells": [
  {
   "cell_type": "markdown",
   "id": "bb7397d9-01d5-4c02-9bee-5e23b5ffbd8f",
   "metadata": {},
   "source": [
    "## Splitting and stacking of numbpy arrays"
   ]
  },
  {
   "cell_type": "code",
   "execution_count": 2,
   "id": "af199150-f263-429d-9d6d-d78a8e92bf34",
   "metadata": {},
   "outputs": [],
   "source": [
    "import numpy as np"
   ]
  },
  {
   "cell_type": "code",
   "execution_count": 3,
   "id": "5906091e-0a6d-44f1-ab2c-70c2661ef4a6",
   "metadata": {},
   "outputs": [],
   "source": [
    "A=np.linspace(10,100,30).reshape(-1,2)"
   ]
  },
  {
   "cell_type": "code",
   "execution_count": 5,
   "id": "3809cbe1-8931-45e9-a18a-dcd8345e8ade",
   "metadata": {},
   "outputs": [
    {
     "data": {
      "text/plain": [
       "array([[ 10.        ,  13.10344828],\n",
       "       [ 16.20689655,  19.31034483],\n",
       "       [ 22.4137931 ,  25.51724138],\n",
       "       [ 28.62068966,  31.72413793],\n",
       "       [ 34.82758621,  37.93103448],\n",
       "       [ 41.03448276,  44.13793103],\n",
       "       [ 47.24137931,  50.34482759],\n",
       "       [ 53.44827586,  56.55172414],\n",
       "       [ 59.65517241,  62.75862069],\n",
       "       [ 65.86206897,  68.96551724],\n",
       "       [ 72.06896552,  75.17241379],\n",
       "       [ 78.27586207,  81.37931034],\n",
       "       [ 84.48275862,  87.5862069 ],\n",
       "       [ 90.68965517,  93.79310345],\n",
       "       [ 96.89655172, 100.        ]])"
      ]
     },
     "execution_count": 5,
     "metadata": {},
     "output_type": "execute_result"
    }
   ],
   "source": [
    "A"
   ]
  },
  {
   "cell_type": "code",
   "execution_count": 6,
   "id": "7a039a29-8427-4ba7-97ed-cc30d3773a9b",
   "metadata": {},
   "outputs": [
    {
     "data": {
      "text/plain": [
       "array([10.        , 16.20689655, 22.4137931 , 28.62068966, 34.82758621,\n",
       "       41.03448276, 47.24137931, 53.44827586, 59.65517241, 65.86206897,\n",
       "       72.06896552, 78.27586207, 84.48275862, 90.68965517, 96.89655172])"
      ]
     },
     "execution_count": 6,
     "metadata": {},
     "output_type": "execute_result"
    }
   ],
   "source": [
    "A[:,0]"
   ]
  },
  {
   "cell_type": "code",
   "execution_count": 7,
   "id": "3a1c4119-ace2-4280-a6d0-7a93af146419",
   "metadata": {},
   "outputs": [
    {
     "data": {
      "text/plain": [
       "array([ 13.10344828,  19.31034483,  25.51724138,  31.72413793,\n",
       "        37.93103448,  44.13793103,  50.34482759,  56.55172414,\n",
       "        62.75862069,  68.96551724,  75.17241379,  81.37931034,\n",
       "        87.5862069 ,  93.79310345, 100.        ])"
      ]
     },
     "execution_count": 7,
     "metadata": {},
     "output_type": "execute_result"
    }
   ],
   "source": [
    "A[:,1]"
   ]
  },
  {
   "cell_type": "code",
   "execution_count": 8,
   "id": "5cf897a7-e855-4e98-8606-81ab53b17eb4",
   "metadata": {},
   "outputs": [],
   "source": [
    "x,y=A[:,0],A[:,1]"
   ]
  },
  {
   "cell_type": "code",
   "execution_count": 9,
   "id": "07ef0e9a-238f-4f00-8fd3-0b4cfad21dc5",
   "metadata": {},
   "outputs": [
    {
     "data": {
      "text/plain": [
       "array([10.        , 16.20689655, 22.4137931 , 28.62068966, 34.82758621,\n",
       "       41.03448276, 47.24137931, 53.44827586, 59.65517241, 65.86206897,\n",
       "       72.06896552, 78.27586207, 84.48275862, 90.68965517, 96.89655172])"
      ]
     },
     "execution_count": 9,
     "metadata": {},
     "output_type": "execute_result"
    }
   ],
   "source": [
    "x"
   ]
  },
  {
   "cell_type": "code",
   "execution_count": 10,
   "id": "b288b869-9a9f-4658-8a1a-1053ee6a781a",
   "metadata": {},
   "outputs": [
    {
     "data": {
      "text/plain": [
       "array([ 13.10344828,  19.31034483,  25.51724138,  31.72413793,\n",
       "        37.93103448,  44.13793103,  50.34482759,  56.55172414,\n",
       "        62.75862069,  68.96551724,  75.17241379,  81.37931034,\n",
       "        87.5862069 ,  93.79310345, 100.        ])"
      ]
     },
     "execution_count": 10,
     "metadata": {},
     "output_type": "execute_result"
    }
   ],
   "source": [
    "y"
   ]
  },
  {
   "cell_type": "code",
   "execution_count": 11,
   "id": "cb6817c5-882e-4983-aac2-357ee8c3cd24",
   "metadata": {},
   "outputs": [],
   "source": [
    "x1,x2=A[:8,:],A[8:,:]"
   ]
  },
  {
   "cell_type": "code",
   "execution_count": 12,
   "id": "4a57467a-5c84-4cfb-919d-ef4fd3b4e614",
   "metadata": {},
   "outputs": [
    {
     "data": {
      "text/plain": [
       "array([[10.        , 13.10344828],\n",
       "       [16.20689655, 19.31034483],\n",
       "       [22.4137931 , 25.51724138],\n",
       "       [28.62068966, 31.72413793],\n",
       "       [34.82758621, 37.93103448],\n",
       "       [41.03448276, 44.13793103],\n",
       "       [47.24137931, 50.34482759],\n",
       "       [53.44827586, 56.55172414]])"
      ]
     },
     "execution_count": 12,
     "metadata": {},
     "output_type": "execute_result"
    }
   ],
   "source": [
    "x1"
   ]
  },
  {
   "cell_type": "code",
   "execution_count": 13,
   "id": "4dfe5896-78e4-401e-87d4-9739a7997690",
   "metadata": {},
   "outputs": [
    {
     "data": {
      "text/plain": [
       "array([[ 59.65517241,  62.75862069],\n",
       "       [ 65.86206897,  68.96551724],\n",
       "       [ 72.06896552,  75.17241379],\n",
       "       [ 78.27586207,  81.37931034],\n",
       "       [ 84.48275862,  87.5862069 ],\n",
       "       [ 90.68965517,  93.79310345],\n",
       "       [ 96.89655172, 100.        ]])"
      ]
     },
     "execution_count": 13,
     "metadata": {},
     "output_type": "execute_result"
    }
   ],
   "source": [
    "x2"
   ]
  },
  {
   "cell_type": "code",
   "execution_count": 18,
   "id": "195c721c-da3c-48a0-bae2-bd058b9f1dac",
   "metadata": {},
   "outputs": [
    {
     "data": {
      "text/plain": [
       "[array([[10.        , 13.10344828],\n",
       "        [16.20689655, 19.31034483],\n",
       "        [22.4137931 , 25.51724138],\n",
       "        [28.62068966, 31.72413793],\n",
       "        [34.82758621, 37.93103448],\n",
       "        [41.03448276, 44.13793103],\n",
       "        [47.24137931, 50.34482759]]),\n",
       " array([[53.44827586, 56.55172414],\n",
       "        [59.65517241, 62.75862069],\n",
       "        [65.86206897, 68.96551724],\n",
       "        [72.06896552, 75.17241379],\n",
       "        [78.27586207, 81.37931034],\n",
       "        [84.48275862, 87.5862069 ],\n",
       "        [90.68965517, 93.79310345]])]"
      ]
     },
     "execution_count": 18,
     "metadata": {},
     "output_type": "execute_result"
    }
   ],
   "source": [
    "np.vsplit(A[:14,:],2) ## 14 items can omnly be splitted into 2 or 7"
   ]
  },
  {
   "cell_type": "code",
   "execution_count": 21,
   "id": "c9c8583c-4edd-4a7f-8da5-2926fc987387",
   "metadata": {},
   "outputs": [],
   "source": [
    "s,y=np.hsplit(A,2)"
   ]
  },
  {
   "cell_type": "code",
   "execution_count": 22,
   "id": "f0aed729-95cb-4969-b709-33b92e2d8840",
   "metadata": {},
   "outputs": [
    {
     "data": {
      "text/plain": [
       "array([[10.        ],\n",
       "       [16.20689655],\n",
       "       [22.4137931 ],\n",
       "       [28.62068966],\n",
       "       [34.82758621],\n",
       "       [41.03448276],\n",
       "       [47.24137931],\n",
       "       [53.44827586],\n",
       "       [59.65517241],\n",
       "       [65.86206897],\n",
       "       [72.06896552],\n",
       "       [78.27586207],\n",
       "       [84.48275862],\n",
       "       [90.68965517],\n",
       "       [96.89655172]])"
      ]
     },
     "execution_count": 22,
     "metadata": {},
     "output_type": "execute_result"
    }
   ],
   "source": [
    "s"
   ]
  },
  {
   "cell_type": "code",
   "execution_count": 23,
   "id": "aafab18e-f7de-4799-a7aa-339d0aaf31bd",
   "metadata": {},
   "outputs": [
    {
     "data": {
      "text/plain": [
       "array([[ 13.10344828],\n",
       "       [ 19.31034483],\n",
       "       [ 25.51724138],\n",
       "       [ 31.72413793],\n",
       "       [ 37.93103448],\n",
       "       [ 44.13793103],\n",
       "       [ 50.34482759],\n",
       "       [ 56.55172414],\n",
       "       [ 62.75862069],\n",
       "       [ 68.96551724],\n",
       "       [ 75.17241379],\n",
       "       [ 81.37931034],\n",
       "       [ 87.5862069 ],\n",
       "       [ 93.79310345],\n",
       "       [100.        ]])"
      ]
     },
     "execution_count": 23,
     "metadata": {},
     "output_type": "execute_result"
    }
   ],
   "source": [
    "y"
   ]
  },
  {
   "cell_type": "code",
   "execution_count": 25,
   "id": "07a1c609-0fca-4cad-971d-8c832e6dfac4",
   "metadata": {},
   "outputs": [
    {
     "data": {
      "text/plain": [
       "array([[ 13.10344828],\n",
       "       [ 19.31034483],\n",
       "       [ 25.51724138],\n",
       "       [ 31.72413793],\n",
       "       [ 37.93103448],\n",
       "       [ 44.13793103],\n",
       "       [ 50.34482759],\n",
       "       [ 56.55172414],\n",
       "       [ 62.75862069],\n",
       "       [ 68.96551724],\n",
       "       [ 75.17241379],\n",
       "       [ 81.37931034],\n",
       "       [ 87.5862069 ],\n",
       "       [ 93.79310345],\n",
       "       [100.        ],\n",
       "       [ 10.        ],\n",
       "       [ 16.20689655],\n",
       "       [ 22.4137931 ],\n",
       "       [ 28.62068966],\n",
       "       [ 34.82758621],\n",
       "       [ 41.03448276],\n",
       "       [ 47.24137931],\n",
       "       [ 53.44827586],\n",
       "       [ 59.65517241],\n",
       "       [ 65.86206897],\n",
       "       [ 72.06896552],\n",
       "       [ 78.27586207],\n",
       "       [ 84.48275862],\n",
       "       [ 90.68965517],\n",
       "       [ 96.89655172]])"
      ]
     },
     "execution_count": 25,
     "metadata": {},
     "output_type": "execute_result"
    }
   ],
   "source": [
    "np.vstack([y,s])"
   ]
  },
  {
   "cell_type": "code",
   "execution_count": 26,
   "id": "38a06341-29ff-4a05-a01a-b4cff594c62c",
   "metadata": {},
   "outputs": [
    {
     "data": {
      "text/plain": [
       "array([[ 13.10344828,  10.        ],\n",
       "       [ 19.31034483,  16.20689655],\n",
       "       [ 25.51724138,  22.4137931 ],\n",
       "       [ 31.72413793,  28.62068966],\n",
       "       [ 37.93103448,  34.82758621],\n",
       "       [ 44.13793103,  41.03448276],\n",
       "       [ 50.34482759,  47.24137931],\n",
       "       [ 56.55172414,  53.44827586],\n",
       "       [ 62.75862069,  59.65517241],\n",
       "       [ 68.96551724,  65.86206897],\n",
       "       [ 75.17241379,  72.06896552],\n",
       "       [ 81.37931034,  78.27586207],\n",
       "       [ 87.5862069 ,  84.48275862],\n",
       "       [ 93.79310345,  90.68965517],\n",
       "       [100.        ,  96.89655172]])"
      ]
     },
     "execution_count": 26,
     "metadata": {},
     "output_type": "execute_result"
    }
   ],
   "source": [
    "np.hstack([y,s])"
   ]
  },
  {
   "cell_type": "code",
   "execution_count": 27,
   "id": "542c4131-ab7f-412d-8e6f-9ce6c0fa4e04",
   "metadata": {},
   "outputs": [
    {
     "data": {
      "text/plain": [
       "array([[10.        ],\n",
       "       [16.20689655],\n",
       "       [22.4137931 ],\n",
       "       [28.62068966],\n",
       "       [34.82758621],\n",
       "       [41.03448276],\n",
       "       [47.24137931],\n",
       "       [53.44827586],\n",
       "       [59.65517241],\n",
       "       [65.86206897],\n",
       "       [72.06896552],\n",
       "       [78.27586207],\n",
       "       [84.48275862],\n",
       "       [90.68965517],\n",
       "       [96.89655172]])"
      ]
     },
     "execution_count": 27,
     "metadata": {},
     "output_type": "execute_result"
    }
   ],
   "source": [
    "s"
   ]
  },
  {
   "cell_type": "code",
   "execution_count": 28,
   "id": "2ea32bd5-fabe-4b92-9c77-0a833f3a5539",
   "metadata": {},
   "outputs": [],
   "source": [
    "s=s.ravel()"
   ]
  },
  {
   "cell_type": "code",
   "execution_count": 29,
   "id": "b4814115-d187-496c-802e-175a68807185",
   "metadata": {},
   "outputs": [
    {
     "data": {
      "text/plain": [
       "array([10.        , 16.20689655, 22.4137931 , 28.62068966, 34.82758621,\n",
       "       41.03448276, 47.24137931, 53.44827586, 59.65517241, 65.86206897,\n",
       "       72.06896552, 78.27586207, 84.48275862, 90.68965517, 96.89655172])"
      ]
     },
     "execution_count": 29,
     "metadata": {},
     "output_type": "execute_result"
    }
   ],
   "source": [
    "s"
   ]
  },
  {
   "cell_type": "code",
   "execution_count": 31,
   "id": "05d011a8-43ca-43c6-9cf1-dee17ce4835d",
   "metadata": {},
   "outputs": [],
   "source": [
    "s=np.append(s,[45,10])"
   ]
  },
  {
   "cell_type": "code",
   "execution_count": 32,
   "id": "4819b259-1a90-405a-a09f-b5b08239b688",
   "metadata": {},
   "outputs": [
    {
     "data": {
      "text/plain": [
       "array([[ 10.        ,  13.10344828],\n",
       "       [ 16.20689655,  19.31034483],\n",
       "       [ 22.4137931 ,  25.51724138],\n",
       "       [ 28.62068966,  31.72413793],\n",
       "       [ 34.82758621,  37.93103448],\n",
       "       [ 41.03448276,  44.13793103],\n",
       "       [ 47.24137931,  50.34482759],\n",
       "       [ 53.44827586,  56.55172414],\n",
       "       [ 59.65517241,  62.75862069],\n",
       "       [ 65.86206897,  68.96551724],\n",
       "       [ 72.06896552,  75.17241379],\n",
       "       [ 78.27586207,  81.37931034],\n",
       "       [ 84.48275862,  87.5862069 ],\n",
       "       [ 90.68965517,  93.79310345],\n",
       "       [ 96.89655172, 100.        ]])"
      ]
     },
     "execution_count": 32,
     "metadata": {},
     "output_type": "execute_result"
    }
   ],
   "source": [
    "A"
   ]
  },
  {
   "cell_type": "code",
   "execution_count": 33,
   "id": "9cdf4a02-3092-4915-a759-080cfc43d0b2",
   "metadata": {},
   "outputs": [
    {
     "data": {
      "text/plain": [
       "array([ 10.        ,  13.10344828,  16.20689655,  19.31034483,\n",
       "        22.4137931 ,  25.51724138,  28.62068966,  31.72413793,\n",
       "        34.82758621,  37.93103448,  41.03448276,  44.13793103,\n",
       "        47.24137931,  50.34482759,  53.44827586,  56.55172414,\n",
       "        59.65517241,  62.75862069,  65.86206897,  68.96551724,\n",
       "        72.06896552,  75.17241379,  78.27586207,  81.37931034,\n",
       "        84.48275862,  87.5862069 ,  90.68965517,  93.79310345,\n",
       "        96.89655172, 100.        ,  34.        ,  56.        ])"
      ]
     },
     "execution_count": 33,
     "metadata": {},
     "output_type": "execute_result"
    }
   ],
   "source": [
    "np.append(A,[34,56])"
   ]
  },
  {
   "cell_type": "code",
   "execution_count": 35,
   "id": "7c34bcaf-c7b8-4dd6-b6f7-75943dee483b",
   "metadata": {},
   "outputs": [
    {
     "ename": "ValueError",
     "evalue": "all the input arrays must have same number of dimensions, but the array at index 0 has 2 dimension(s) and the array at index 1 has 1 dimension(s)",
     "output_type": "error",
     "traceback": [
      "\u001b[0;31m---------------------------------------------------------------------------\u001b[0m",
      "\u001b[0;31mValueError\u001b[0m                                Traceback (most recent call last)",
      "\u001b[0;32m/var/folders/3d/pkg6m4_x11s9hw4jt5sb8zp00000gn/T/ipykernel_66743/1629632307.py\u001b[0m in \u001b[0;36m<module>\u001b[0;34m\u001b[0m\n\u001b[0;32m----> 1\u001b[0;31m \u001b[0mnp\u001b[0m\u001b[0;34m.\u001b[0m\u001b[0mappend\u001b[0m\u001b[0;34m(\u001b[0m\u001b[0mA\u001b[0m\u001b[0;34m,\u001b[0m\u001b[0;34m[\u001b[0m\u001b[0;36m34\u001b[0m\u001b[0;34m,\u001b[0m\u001b[0;36m56\u001b[0m\u001b[0;34m]\u001b[0m\u001b[0;34m,\u001b[0m\u001b[0maxis\u001b[0m\u001b[0;34m=\u001b[0m\u001b[0;36m1\u001b[0m\u001b[0;34m)\u001b[0m\u001b[0;34m\u001b[0m\u001b[0;34m\u001b[0m\u001b[0m\n\u001b[0m",
      "\u001b[0;32m<__array_function__ internals>\u001b[0m in \u001b[0;36mappend\u001b[0;34m(*args, **kwargs)\u001b[0m\n",
      "\u001b[0;32m~/opt/anaconda3/lib/python3.9/site-packages/numpy/lib/function_base.py\u001b[0m in \u001b[0;36mappend\u001b[0;34m(arr, values, axis)\u001b[0m\n\u001b[1;32m   4743\u001b[0m         \u001b[0mvalues\u001b[0m \u001b[0;34m=\u001b[0m \u001b[0mravel\u001b[0m\u001b[0;34m(\u001b[0m\u001b[0mvalues\u001b[0m\u001b[0;34m)\u001b[0m\u001b[0;34m\u001b[0m\u001b[0;34m\u001b[0m\u001b[0m\n\u001b[1;32m   4744\u001b[0m         \u001b[0maxis\u001b[0m \u001b[0;34m=\u001b[0m \u001b[0marr\u001b[0m\u001b[0;34m.\u001b[0m\u001b[0mndim\u001b[0m\u001b[0;34m-\u001b[0m\u001b[0;36m1\u001b[0m\u001b[0;34m\u001b[0m\u001b[0;34m\u001b[0m\u001b[0m\n\u001b[0;32m-> 4745\u001b[0;31m     \u001b[0;32mreturn\u001b[0m \u001b[0mconcatenate\u001b[0m\u001b[0;34m(\u001b[0m\u001b[0;34m(\u001b[0m\u001b[0marr\u001b[0m\u001b[0;34m,\u001b[0m \u001b[0mvalues\u001b[0m\u001b[0;34m)\u001b[0m\u001b[0;34m,\u001b[0m \u001b[0maxis\u001b[0m\u001b[0;34m=\u001b[0m\u001b[0maxis\u001b[0m\u001b[0;34m)\u001b[0m\u001b[0;34m\u001b[0m\u001b[0;34m\u001b[0m\u001b[0m\n\u001b[0m\u001b[1;32m   4746\u001b[0m \u001b[0;34m\u001b[0m\u001b[0m\n\u001b[1;32m   4747\u001b[0m \u001b[0;34m\u001b[0m\u001b[0m\n",
      "\u001b[0;32m<__array_function__ internals>\u001b[0m in \u001b[0;36mconcatenate\u001b[0;34m(*args, **kwargs)\u001b[0m\n",
      "\u001b[0;31mValueError\u001b[0m: all the input arrays must have same number of dimensions, but the array at index 0 has 2 dimension(s) and the array at index 1 has 1 dimension(s)"
     ]
    }
   ],
   "source": [
    "np.append(A,[34,56],axis=1)"
   ]
  },
  {
   "cell_type": "code",
   "execution_count": 37,
   "id": "9e4e9785-369f-496c-b092-b34932e86ef5",
   "metadata": {},
   "outputs": [
    {
     "data": {
      "text/plain": [
       "array([[ 10.        ,  13.10344828],\n",
       "       [ 16.20689655,  19.31034483],\n",
       "       [ 22.4137931 ,  25.51724138],\n",
       "       [ 28.62068966,  31.72413793],\n",
       "       [ 34.82758621,  37.93103448],\n",
       "       [ 41.03448276,  44.13793103],\n",
       "       [ 47.24137931,  50.34482759],\n",
       "       [ 53.44827586,  56.55172414],\n",
       "       [ 59.65517241,  62.75862069],\n",
       "       [ 65.86206897,  68.96551724],\n",
       "       [ 72.06896552,  75.17241379],\n",
       "       [ 78.27586207,  81.37931034],\n",
       "       [ 84.48275862,  87.5862069 ],\n",
       "       [ 90.68965517,  93.79310345],\n",
       "       [ 96.89655172, 100.        ],\n",
       "       [ 34.        ,  56.        ]])"
      ]
     },
     "execution_count": 37,
     "metadata": {},
     "output_type": "execute_result"
    }
   ],
   "source": [
    "np.append(A,[[34,56]],axis=0)"
   ]
  },
  {
   "cell_type": "code",
   "execution_count": 38,
   "id": "39096439-0a7e-4782-bc26-5a2d4510c142",
   "metadata": {},
   "outputs": [
    {
     "data": {
      "text/plain": [
       "array([[ 10.        ,  13.10344828,  16.        ],\n",
       "       [ 16.20689655,  19.31034483,  11.        ],\n",
       "       [ 22.4137931 ,  25.51724138,  12.        ],\n",
       "       [ 28.62068966,  31.72413793,  15.        ],\n",
       "       [ 34.82758621,  37.93103448,  16.        ],\n",
       "       [ 41.03448276,  44.13793103,  15.        ],\n",
       "       [ 47.24137931,  50.34482759,  18.        ],\n",
       "       [ 53.44827586,  56.55172414,  14.        ],\n",
       "       [ 59.65517241,  62.75862069,  12.        ],\n",
       "       [ 65.86206897,  68.96551724,  14.        ],\n",
       "       [ 72.06896552,  75.17241379,  19.        ],\n",
       "       [ 78.27586207,  81.37931034,  13.        ],\n",
       "       [ 84.48275862,  87.5862069 ,  11.        ],\n",
       "       [ 90.68965517,  93.79310345,  13.        ],\n",
       "       [ 96.89655172, 100.        ,  13.        ]])"
      ]
     },
     "execution_count": 38,
     "metadata": {},
     "output_type": "execute_result"
    }
   ],
   "source": [
    "np.append(A,np.random.randint(10,20,(15,1)),axis=1)"
   ]
  },
  {
   "cell_type": "code",
   "execution_count": 39,
   "id": "7f282473-e02e-47f0-8353-fe155fca3db4",
   "metadata": {},
   "outputs": [
    {
     "data": {
      "text/plain": [
       "array([10.        , 16.20689655, 22.4137931 , 28.62068966, 34.82758621,\n",
       "       41.03448276, 47.24137931, 53.44827586, 59.65517241, 65.86206897,\n",
       "       72.06896552, 78.27586207, 84.48275862, 90.68965517, 96.89655172,\n",
       "       45.        , 10.        ])"
      ]
     },
     "execution_count": 39,
     "metadata": {},
     "output_type": "execute_result"
    }
   ],
   "source": [
    "s"
   ]
  },
  {
   "cell_type": "code",
   "execution_count": 40,
   "id": "8c6c8c85-804f-46b9-8e3a-83799bcd3f24",
   "metadata": {},
   "outputs": [
    {
     "data": {
      "text/plain": [
       "array([16.20689655, 22.4137931 , 28.62068966, 34.82758621, 41.03448276,\n",
       "       47.24137931, 53.44827586, 59.65517241, 65.86206897, 72.06896552,\n",
       "       78.27586207, 84.48275862, 90.68965517, 96.89655172, 45.        ,\n",
       "       10.        ])"
      ]
     },
     "execution_count": 40,
     "metadata": {},
     "output_type": "execute_result"
    }
   ],
   "source": [
    "np.delete(s,0)"
   ]
  },
  {
   "cell_type": "code",
   "execution_count": 41,
   "id": "b5982f69-960d-432c-9ebf-15c9a538d785",
   "metadata": {},
   "outputs": [],
   "source": [
    "s=np.delete(s,0)"
   ]
  },
  {
   "cell_type": "code",
   "execution_count": 42,
   "id": "f1ae2960-ca77-489d-832a-886336fb2e57",
   "metadata": {},
   "outputs": [
    {
     "data": {
      "text/plain": [
       "array([16.20689655, 22.4137931 , 28.62068966, 34.82758621, 41.03448276,\n",
       "       47.24137931, 53.44827586, 59.65517241, 65.86206897, 72.06896552,\n",
       "       78.27586207, 84.48275862, 90.68965517, 96.89655172, 45.        ,\n",
       "       10.        ])"
      ]
     },
     "execution_count": 42,
     "metadata": {},
     "output_type": "execute_result"
    }
   ],
   "source": [
    "s"
   ]
  },
  {
   "cell_type": "code",
   "execution_count": 43,
   "id": "6a2216e8-9ae3-4155-b14e-8d87483e82f6",
   "metadata": {},
   "outputs": [
    {
     "data": {
      "text/plain": [
       "array([22.4137931 , 28.62068966, 34.82758621, 41.03448276, 53.44827586,\n",
       "       59.65517241, 65.86206897, 78.27586207, 84.48275862, 90.68965517,\n",
       "       96.89655172, 45.        , 10.        ])"
      ]
     },
     "execution_count": 43,
     "metadata": {},
     "output_type": "execute_result"
    }
   ],
   "source": [
    "np.delete(s,[0,5,9])"
   ]
  },
  {
   "cell_type": "markdown",
   "id": "daa5aec5-56ef-4cfb-835a-4778ea209575",
   "metadata": {},
   "source": [
    "## Project 1"
   ]
  },
  {
   "cell_type": "code",
   "execution_count": 50,
   "id": "47046054-c5c2-45cc-a510-d1d38a9c2044",
   "metadata": {},
   "outputs": [],
   "source": [
    "with open(\"../../datasets/employee attribute/train.csv\") as file: ## context manager\n",
    "    content=file.readlines()\n",
    "    \n"
   ]
  },
  {
   "cell_type": "code",
   "execution_count": 51,
   "id": "0461dae1-7a02-4b4b-a879-c34e401700a4",
   "metadata": {},
   "outputs": [],
   "source": [
    "heading=content[0]"
   ]
  },
  {
   "cell_type": "code",
   "execution_count": 52,
   "id": "8e28e572-00ac-4ebb-9237-9d96b423ff91",
   "metadata": {},
   "outputs": [
    {
     "data": {
      "text/plain": [
       "'Age,Attrition,BusinessTravel,DailyRate,Department,DistanceFromHome,Education,EducationField,EmployeeCount,EmployeeNumber,EnvironmentSatisfaction,Gender,HourlyRate,JobInvolvement,JobLevel,JobRole,JobSatisfaction,MaritalStatus,MonthlyIncome,MonthlyRate,NumCompaniesWorked,Over18,OverTime,PercentSalaryHike,PerformanceRating,RelationshipSatisfaction,StandardHours,StockOptionLevel,TotalWorkingYears,TrainingTimesLastYear,WorkLifeBalance,YearsAtCompany,YearsInCurrentRole,YearsSinceLastPromotion,YearsWithCurrManager\\n'"
      ]
     },
     "execution_count": 52,
     "metadata": {},
     "output_type": "execute_result"
    }
   ],
   "source": [
    "heading"
   ]
  },
  {
   "cell_type": "code",
   "execution_count": 55,
   "id": "e07688c5-50ed-4e83-b066-fab151c09148",
   "metadata": {},
   "outputs": [],
   "source": [
    "ages =[]\n",
    "for record in content[1:]:\n",
    "    age=int(record.split(\",\")[0])\n",
    "    ages.append(age)"
   ]
  },
  {
   "cell_type": "code",
   "execution_count": 57,
   "id": "01c563b0-4b89-4dfe-a686-77c862469db0",
   "metadata": {},
   "outputs": [
    {
     "data": {
      "text/plain": [
       "array([ True,  True,  True, ...,  True,  True,  True])"
      ]
     },
     "execution_count": 57,
     "metadata": {},
     "output_type": "execute_result"
    }
   ],
   "source": [
    "ages\n",
    "ages = np.array(ages)\n",
    "ages>18"
   ]
  },
  {
   "cell_type": "code",
   "execution_count": 59,
   "id": "2f0c6936-de48-4a58-bd0c-0410287c8d20",
   "metadata": {},
   "outputs": [
    {
     "data": {
      "text/plain": [
       "0"
      ]
     },
     "execution_count": 59,
     "metadata": {},
     "output_type": "execute_result"
    }
   ],
   "source": [
    "(34+True+True)*False"
   ]
  },
  {
   "cell_type": "code",
   "execution_count": 60,
   "id": "9abb87ce-61f7-4d50-a38f-303fb5ce2995",
   "metadata": {},
   "outputs": [],
   "source": [
    "no_adults=(ages>18).sum()"
   ]
  },
  {
   "cell_type": "code",
   "execution_count": 61,
   "id": "5b047997-0e65-46d2-8204-4212f66e3511",
   "metadata": {},
   "outputs": [
    {
     "data": {
      "text/plain": [
       "1052"
      ]
     },
     "execution_count": 61,
     "metadata": {},
     "output_type": "execute_result"
    }
   ],
   "source": [
    "no_adults"
   ]
  },
  {
   "cell_type": "code",
   "execution_count": 63,
   "id": "25ae4018-09e4-4e04-a63d-2b15f25b6337",
   "metadata": {},
   "outputs": [],
   "source": [
    "no_teenagers=len(ages)-no_adults"
   ]
  },
  {
   "cell_type": "code",
   "execution_count": 64,
   "id": "dbed7f6d-a18c-40bb-88e4-d83160a689b2",
   "metadata": {},
   "outputs": [],
   "source": [
    "classes=[\"adults\",\"teenager\"]\n",
    "counts=[no_adults,no_teenagers]\n"
   ]
  },
  {
   "cell_type": "code",
   "execution_count": 65,
   "id": "03dea6fa-1c58-4169-8a59-4ce5b1c69afe",
   "metadata": {},
   "outputs": [],
   "source": [
    "import matplotlib.pyplot as plt"
   ]
  },
  {
   "cell_type": "code",
   "execution_count": 66,
   "id": "6c845b6e-6cc5-4193-b726-a632e7643c03",
   "metadata": {},
   "outputs": [
    {
     "data": {
      "text/plain": [
       "<BarContainer object of 2 artists>"
      ]
     },
     "execution_count": 66,
     "metadata": {},
     "output_type": "execute_result"
    },
    {
     "data": {
      "image/png": "[encoded data removed]",
      "text/plain": [
       "<Figure size 432x288 with 1 Axes>"
      ]
     },
     "metadata": {
      "needs_background": "light"
     },
     "output_type": "display_data"
    }
   ],
   "source": [
    "plt.bar(classes,counts)"
   ]
  },
  {
   "cell_type": "code",
   "execution_count": 67,
   "id": "11b95b43-10f7-49a0-9bb0-54e7394eebf3",
   "metadata": {},
   "outputs": [
    {
     "data": {
      "text/plain": [
       "<BarContainer object of 2 artists>"
      ]
     },
     "execution_count": 67,
     "metadata": {},
     "output_type": "execute_result"
    },
    {
     "data": {
      "image/png": "[encoded data removed]",
      "text/plain": [
       "<Figure size 432x288 with 1 Axes>"
      ]
     },
     "metadata": {
      "needs_background": "light"
     },
     "output_type": "display_data"
    }
   ],
   "source": [
    "counts = np.array(counts)/len(ages)*100\n",
    "plt.bar(classes,counts)"
   ]
  },
  {
   "cell_type": "code",
   "execution_count": 68,
   "id": "f7219751-f5cf-4986-b78f-f09fed738e44",
   "metadata": {},
   "outputs": [
    {
     "data": {
      "text/plain": [
       "'Age,Attrition,BusinessTravel,DailyRate,Department,DistanceFromHome,Education,EducationField,EmployeeCount,EmployeeNumber,EnvironmentSatisfaction,Gender,HourlyRate,JobInvolvement,JobLevel,JobRole,JobSatisfaction,MaritalStatus,MonthlyIncome,MonthlyRate,NumCompaniesWorked,Over18,OverTime,PercentSalaryHike,PerformanceRating,RelationshipSatisfaction,StandardHours,StockOptionLevel,TotalWorkingYears,TrainingTimesLastYear,WorkLifeBalance,YearsAtCompany,YearsInCurrentRole,YearsSinceLastPromotion,YearsWithCurrManager\\n'"
      ]
     },
     "execution_count": 68,
     "metadata": {},
     "output_type": "execute_result"
    }
   ],
   "source": [
    "heading"
   ]
  },
  {
   "cell_type": "code",
   "execution_count": 69,
   "id": "84c873fe-6fd2-4d11-8f4b-888c9ec7685f",
   "metadata": {},
   "outputs": [
    {
     "data": {
      "text/plain": [
       "11"
      ]
     },
     "execution_count": 69,
     "metadata": {},
     "output_type": "execute_result"
    }
   ],
   "source": [
    "heading.split(\",\").index(\"Gender\")"
   ]
  },
  {
   "cell_type": "code",
   "execution_count": 71,
   "id": "63057ea5-bd32-4b09-b447-8fea313dbed3",
   "metadata": {},
   "outputs": [
    {
     "data": {
      "text/plain": [
       "'Gender'"
      ]
     },
     "execution_count": 71,
     "metadata": {},
     "output_type": "execute_result"
    }
   ],
   "source": [
    "heading.split(\",\")[11]"
   ]
  },
  {
   "cell_type": "code",
   "execution_count": 79,
   "id": "3600daaa-91c4-48ac-8585-c690df5b5857",
   "metadata": {},
   "outputs": [],
   "source": [
    "genders =[]\n",
    "for record in content[1:]:\n",
    "    gender=record.split(\",\")[11]\n",
    "    genders.append(gender)"
   ]
  },
  {
   "cell_type": "code",
   "execution_count": 81,
   "id": "080b2410-355a-4762-ad0d-4eac191fdb7a",
   "metadata": {},
   "outputs": [
    {
     "data": {
      "text/plain": [
       "['Female',\n",
       " 'Male',\n",
       " 'Male',\n",
       " 'Female',\n",
       " 'Male',\n",
       " 'Male',\n",
       " 'Female',\n",
       " 'Male',\n",
       " 'Male',\n",
       " 'Male']"
      ]
     },
     "execution_count": 81,
     "metadata": {},
     "output_type": "execute_result"
    }
   ],
   "source": [
    "genders[:10]"
   ]
  },
  {
   "cell_type": "code",
   "execution_count": 82,
   "id": "723d86f2-6263-46ea-a620-79edc86ae37f",
   "metadata": {},
   "outputs": [],
   "source": [
    "gender_counts={\"Male\":0,\"Female\":0}\n",
    "for gender in genders:\n",
    "    gender_counts[gender] +=1"
   ]
  },
  {
   "cell_type": "code",
   "execution_count": 83,
   "id": "3422285c-412a-4358-9e93-b87edf3b42e5",
   "metadata": {},
   "outputs": [
    {
     "data": {
      "text/plain": [
       "{'Male': 620, 'Female': 438}"
      ]
     },
     "execution_count": 83,
     "metadata": {},
     "output_type": "execute_result"
    }
   ],
   "source": [
    "gender_counts"
   ]
  },
  {
   "cell_type": "code",
   "execution_count": 84,
   "id": "0090654a-2379-4ed1-9ded-69e6d4f1f0f1",
   "metadata": {},
   "outputs": [
    {
     "data": {
      "text/plain": [
       "<BarContainer object of 2 artists>"
      ]
     },
     "execution_count": 84,
     "metadata": {},
     "output_type": "execute_result"
    },
    {
     "data": {
      "image/png": "[encoded data removed]",
      "text/plain": [
       "<Figure size 432x288 with 1 Axes>"
      ]
     },
     "metadata": {
      "needs_background": "light"
     },
     "output_type": "display_data"
    }
   ],
   "source": [
    "plt.bar(gender_counts.keys(),gender_counts.values())\n",
    "# plt.show()\n",
    "# plt.draw()"
   ]
  },
  {
   "cell_type": "code",
   "execution_count": 85,
   "id": "47bd79f1-6d30-4769-8d83-b6b48a684905",
   "metadata": {},
   "outputs": [],
   "source": [
    "is_adult=ages>18"
   ]
  },
  {
   "cell_type": "code",
   "execution_count": 86,
   "id": "e13f3775-8ed0-43c6-a1e2-75b96ea85753",
   "metadata": {},
   "outputs": [
    {
     "data": {
      "text/plain": [
       "array([ True,  True,  True, ...,  True,  True,  True])"
      ]
     },
     "execution_count": 86,
     "metadata": {},
     "output_type": "execute_result"
    }
   ],
   "source": [
    "is_adult"
   ]
  },
  {
   "cell_type": "code",
   "execution_count": 96,
   "id": "6e864b7e-a3a4-4438-af76-e02758e879d9",
   "metadata": {},
   "outputs": [],
   "source": [
    "genders=np.array(genders)\n",
    "is_female=genders==\"Female\""
   ]
  },
  {
   "cell_type": "code",
   "execution_count": 93,
   "id": "072a75b0-5711-43d7-ad2e-3f98bac750d4",
   "metadata": {},
   "outputs": [
    {
     "data": {
      "text/plain": [
       "array(False)"
      ]
     },
     "execution_count": 93,
     "metadata": {},
     "output_type": "execute_result"
    }
   ],
   "source": [
    "# np.where(genders==\"Male\",True,False)"
   ]
  },
  {
   "cell_type": "code",
   "execution_count": 97,
   "id": "be05f576-32af-4f31-afde-ab1895bd9113",
   "metadata": {},
   "outputs": [
    {
     "data": {
      "text/plain": [
       "array([ True, False, False, ..., False, False,  True])"
      ]
     },
     "execution_count": 97,
     "metadata": {},
     "output_type": "execute_result"
    }
   ],
   "source": [
    "is_female & is_adult"
   ]
  },
  {
   "cell_type": "code",
   "execution_count": 98,
   "id": "77f23cbe-e00b-4ff4-a0ad-ac04f47962ff",
   "metadata": {},
   "outputs": [
    {
     "data": {
      "text/plain": [
       "436"
      ]
     },
     "execution_count": 98,
     "metadata": {},
     "output_type": "execute_result"
    }
   ],
   "source": [
    "(is_female & is_adult).sum()"
   ]
  },
  {
   "cell_type": "markdown",
   "id": "b83affe3-71e8-4a95-915b-114b5836772c",
   "metadata": {},
   "source": [
    "## Linear Algebra"
   ]
  },
  {
   "cell_type": "code",
   "execution_count": 99,
   "id": "a46218e7-b866-41a7-8161-025efa1ca1da",
   "metadata": {},
   "outputs": [],
   "source": [
    "import numpy.linalg as la"
   ]
  },
  {
   "cell_type": "code",
   "execution_count": 101,
   "id": "19caf4e1-28e8-4556-ac80-d0956c856d80",
   "metadata": {},
   "outputs": [],
   "source": [
    "A=np.matrix([3,4,5,4])"
   ]
  },
  {
   "cell_type": "code",
   "execution_count": 104,
   "id": "5d8a1d79-5209-48b8-ab54-19b864792809",
   "metadata": {},
   "outputs": [],
   "source": [
    "B=np.matrix(np.array([4,5,3,6]))"
   ]
  },
  {
   "cell_type": "code",
   "execution_count": 105,
   "id": "a82e23d8-6413-4013-94a3-8dc7cd892168",
   "metadata": {},
   "outputs": [
    {
     "data": {
      "text/plain": [
       "matrix([[4, 5, 3, 6]])"
      ]
     },
     "execution_count": 105,
     "metadata": {},
     "output_type": "execute_result"
    }
   ],
   "source": [
    "B"
   ]
  },
  {
   "cell_type": "code",
   "execution_count": 106,
   "id": "db7a7074-cbad-4a84-8a26-d16cc7194494",
   "metadata": {},
   "outputs": [
    {
     "data": {
      "text/plain": [
       "matrix([[ 7,  9,  8, 10]])"
      ]
     },
     "execution_count": 106,
     "metadata": {},
     "output_type": "execute_result"
    }
   ],
   "source": [
    "A+B"
   ]
  },
  {
   "cell_type": "code",
   "execution_count": 108,
   "id": "d2b8a80c-1403-42ac-b48a-718132901f3f",
   "metadata": {},
   "outputs": [
    {
     "data": {
      "text/plain": [
       "matrix([[71]])"
      ]
     },
     "execution_count": 108,
     "metadata": {},
     "output_type": "execute_result"
    }
   ],
   "source": [
    "A*B.T"
   ]
  },
  {
   "cell_type": "code",
   "execution_count": 109,
   "id": "7d83c547-97c5-4f5e-8b10-15deead0fc46",
   "metadata": {},
   "outputs": [
    {
     "data": {
      "text/plain": [
       "matrix([[4]])"
      ]
     },
     "execution_count": 109,
     "metadata": {},
     "output_type": "execute_result"
    }
   ],
   "source": [
    "B.trace()"
   ]
  },
  {
   "cell_type": "code",
   "execution_count": 110,
   "id": "dde3e6e4-5476-442c-81c5-7364038487b7",
   "metadata": {},
   "outputs": [],
   "source": [
    "C=np.matrix(np.random.randint(2,4,(4,4)))"
   ]
  },
  {
   "cell_type": "code",
   "execution_count": 111,
   "id": "f582931c-0b25-40b3-aa09-7749f26844cd",
   "metadata": {},
   "outputs": [
    {
     "data": {
      "text/plain": [
       "matrix([[3, 3, 2, 3],\n",
       "        [2, 3, 2, 3],\n",
       "        [2, 2, 3, 3],\n",
       "        [2, 2, 2, 3]])"
      ]
     },
     "execution_count": 111,
     "metadata": {},
     "output_type": "execute_result"
    }
   ],
   "source": [
    "C"
   ]
  },
  {
   "cell_type": "code",
   "execution_count": 112,
   "id": "05254630-1999-456c-b7eb-1b425fa4f377",
   "metadata": {},
   "outputs": [
    {
     "data": {
      "text/plain": [
       "matrix([[12]])"
      ]
     },
     "execution_count": 112,
     "metadata": {},
     "output_type": "execute_result"
    }
   ],
   "source": [
    "C.trace()"
   ]
  },
  {
   "cell_type": "code",
   "execution_count": 113,
   "id": "eb398fb8-00b1-4dff-9371-7b57d2157c19",
   "metadata": {},
   "outputs": [
    {
     "data": {
      "text/plain": [
       "matrix([[3, 2, 2, 2],\n",
       "        [3, 3, 2, 2],\n",
       "        [2, 2, 3, 2],\n",
       "        [3, 3, 3, 3]])"
      ]
     },
     "execution_count": 113,
     "metadata": {},
     "output_type": "execute_result"
    }
   ],
   "source": [
    "C.transpose()"
   ]
  },
  {
   "cell_type": "code",
   "execution_count": 114,
   "id": "29b5e0b6-80d5-4193-b170-d8b517f97043",
   "metadata": {},
   "outputs": [
    {
     "data": {
      "text/plain": [
       "matrix([[3, 3, 3, 3]])"
      ]
     },
     "execution_count": 114,
     "metadata": {},
     "output_type": "execute_result"
    }
   ],
   "source": [
    "C.diagonal()"
   ]
  },
  {
   "cell_type": "code",
   "execution_count": 115,
   "id": "363389fa-657a-4436-a8bb-efa92b5efeaa",
   "metadata": {},
   "outputs": [
    {
     "data": {
      "text/plain": [
       "array([ 6.8, -2.2])"
      ]
     },
     "execution_count": 115,
     "metadata": {},
     "output_type": "execute_result"
    }
   ],
   "source": [
    "la.solve([[2,3],[1,-1]],[7,9])"
   ]
  },
  {
   "cell_type": "code",
   "execution_count": null,
   "id": "6d683197-174f-49e6-b62e-4579aec03474",
   "metadata": {},
   "outputs": [],
   "source": [
    "## Simpy"
   ]
  },
  {
   "cell_type": "code",
   "execution_count": null,
   "id": "75767f02-03a1-492c-9bc1-43d45b31a7c2",
   "metadata": {},
   "outputs": [],
   "source": []
  }
 ],
 "metadata": {
  "kernelspec": {
   "display_name": "Python 3 (ipykernel)",
   "language": "python",
   "name": "python3"
  },
  "language_info": {
   "codemirror_mode": {
    "name": "ipython",
    "version": 3
   },
   "file_extension": ".py",
   "mimetype": "text/x-python",
   "name": "python",
   "nbconvert_exporter": "python",
   "pygments_lexer": "ipython3",
   "version": "3.9.7"
  }
 },
 "nbformat": 4,
 "nbformat_minor": 5
}
