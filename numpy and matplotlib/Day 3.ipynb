{
 "cells": [
  {
   "cell_type": "code",
   "execution_count": 1,
   "id": "58093481-5541-4b98-b41b-dfa18dbb1e22",
   "metadata": {},
   "outputs": [],
   "source": [
    "import numpy as np"
   ]
  },
  {
   "cell_type": "code",
   "execution_count": 2,
   "id": "96514db5-1861-42de-a7bb-ba75cf056dc2",
   "metadata": {},
   "outputs": [],
   "source": [
    "x=np.linspace(-10,10,1000)\n",
    "y=1/(1+np.exp(-x))"
   ]
  },
  {
   "cell_type": "code",
   "execution_count": 3,
   "id": "c6c73f54-0b29-442a-8035-fad914a542a6",
   "metadata": {},
   "outputs": [],
   "source": [
    "import matplotlib.pyplot as plt"
   ]
  },
  {
   "cell_type": "code",
   "execution_count": 4,
   "id": "62912b42-bacc-47b5-b92a-8944942ccfac",
   "metadata": {},
   "outputs": [
    {
     "data": {
      "text/plain": [
       "[<matplotlib.lines.Line2D at 0x7f7e6407f4c0>]"
      ]
     },
     "execution_count": 4,
     "metadata": {},
     "output_type": "execute_result"
    },
    {
     "data": {
      "image/png": "[encoded data removed]",
      "text/plain": [
       "<Figure size 432x288 with 1 Axes>"
      ]
     },
     "metadata": {
      "needs_background": "light"
     },
     "output_type": "display_data"
    }
   ],
   "source": [
    "plt.plot(x,y)"
   ]
  },
  {
   "cell_type": "markdown",
   "id": "0f45c79a-15ae-42b8-9fc6-d8e4c7649a50",
   "metadata": {},
   "source": [
    "# Head"
   ]
  },
  {
   "cell_type": "markdown",
   "id": "da722162-2955-46f6-a383-46c78c0d7bef",
   "metadata": {},
   "source": [
    "## Head "
   ]
  },
  {
   "cell_type": "markdown",
   "id": "382360a6-1348-4a8d-aa43-8215bcec7193",
   "metadata": {},
   "source": [
    "y =sin(x)"
   ]
  },
  {
   "cell_type": "markdown",
   "id": "bdef2600-c643-491d-b5b3-193271ed6cef",
   "metadata": {},
   "source": [
    "$ y=sin(x) $ mlddkmlkd"
   ]
  },
  {
   "cell_type": "markdown",
   "id": "c72b5066-b69c-48a0-ac34-0bbcbd9ab279",
   "metadata": {},
   "source": [
    "$$ y=sin(x) $$"
   ]
  },
  {
   "cell_type": "markdown",
   "id": "44624e78-3a7b-4e72-a63a-448d21a9acbf",
   "metadata": {},
   "source": [
    "$$ sigmoid =\\frac{ \\exp(x)}{1+ \\exp(x)} $$"
   ]
  },
  {
   "cell_type": "markdown",
   "id": "2931e552-305f-4143-8da0-49c940e3f600",
   "metadata": {},
   "source": [
    "$$ sigmoid =\\frac{ e^x}{1+e^x} $$"
   ]
  },
  {
   "cell_type": "markdown",
   "id": "b51c16cd-276d-492b-8301-7437977135ac",
   "metadata": {},
   "source": [
    "# Indexing and Slicing"
   ]
  },
  {
   "cell_type": "code",
   "execution_count": 5,
   "id": "8d4d9ef1-df35-4db4-835b-d0c3d8e85995",
   "metadata": {},
   "outputs": [],
   "source": [
    "a=np.random.randint(10,20,10)"
   ]
  },
  {
   "cell_type": "code",
   "execution_count": 6,
   "id": "1a6ce8b4-3e97-47c5-872d-5baae69c3503",
   "metadata": {},
   "outputs": [
    {
     "data": {
      "text/plain": [
       "array([17, 17, 16, 18, 11, 15, 19, 14, 17, 16])"
      ]
     },
     "execution_count": 6,
     "metadata": {},
     "output_type": "execute_result"
    }
   ],
   "source": [
    "a"
   ]
  },
  {
   "cell_type": "code",
   "execution_count": 7,
   "id": "dc02ce80-d19a-40a4-84f6-975d18371800",
   "metadata": {},
   "outputs": [
    {
     "data": {
      "text/plain": [
       "17"
      ]
     },
     "execution_count": 7,
     "metadata": {},
     "output_type": "execute_result"
    }
   ],
   "source": [
    "a[0]"
   ]
  },
  {
   "cell_type": "code",
   "execution_count": 8,
   "id": "a9e42944-f203-4806-a938-e0762826aef3",
   "metadata": {},
   "outputs": [
    {
     "data": {
      "text/plain": [
       "16"
      ]
     },
     "execution_count": 8,
     "metadata": {},
     "output_type": "execute_result"
    }
   ],
   "source": [
    "a[-1]"
   ]
  },
  {
   "cell_type": "code",
   "execution_count": 9,
   "id": "5755ec44-d541-4e12-bc9a-52d6ba4c825c",
   "metadata": {},
   "outputs": [
    {
     "data": {
      "text/plain": [
       "array([17, 16, 11, 19, 17])"
      ]
     },
     "execution_count": 9,
     "metadata": {},
     "output_type": "execute_result"
    }
   ],
   "source": [
    "a[::2]"
   ]
  },
  {
   "cell_type": "code",
   "execution_count": 10,
   "id": "debcc319-1571-4ac8-ab11-8c821aba3eef",
   "metadata": {},
   "outputs": [],
   "source": [
    "A=np.random.randint(10,30,(4,5))"
   ]
  },
  {
   "cell_type": "code",
   "execution_count": 11,
   "id": "12e3700f-e41b-4e2a-b2cd-e781af184209",
   "metadata": {},
   "outputs": [
    {
     "data": {
      "text/plain": [
       "array([[29, 20, 17, 11, 23],\n",
       "       [28, 23, 21, 23, 18],\n",
       "       [23, 22, 15, 27, 26],\n",
       "       [26, 28, 11, 13, 12]])"
      ]
     },
     "execution_count": 11,
     "metadata": {},
     "output_type": "execute_result"
    }
   ],
   "source": [
    "A"
   ]
  },
  {
   "cell_type": "code",
   "execution_count": 12,
   "id": "ef78d438-f884-43e3-93dc-89734506e707",
   "metadata": {},
   "outputs": [
    {
     "data": {
      "text/plain": [
       "array([29, 20, 17, 11, 23])"
      ]
     },
     "execution_count": 12,
     "metadata": {},
     "output_type": "execute_result"
    }
   ],
   "source": [
    "A[0]"
   ]
  },
  {
   "cell_type": "code",
   "execution_count": 13,
   "id": "2f7242a2-c9fb-4bf2-8bef-b406173a4ea1",
   "metadata": {},
   "outputs": [
    {
     "data": {
      "text/plain": [
       "array([26, 28, 11, 13, 12])"
      ]
     },
     "execution_count": 13,
     "metadata": {},
     "output_type": "execute_result"
    }
   ],
   "source": [
    "A[-1]"
   ]
  },
  {
   "cell_type": "code",
   "execution_count": 14,
   "id": "ba2176d1-f627-4948-9fd1-7da6670f5446",
   "metadata": {},
   "outputs": [
    {
     "data": {
      "text/plain": [
       "array([[29, 20, 17, 11, 23],\n",
       "       [28, 23, 21, 23, 18]])"
      ]
     },
     "execution_count": 14,
     "metadata": {},
     "output_type": "execute_result"
    }
   ],
   "source": [
    "A[0:2]"
   ]
  },
  {
   "cell_type": "code",
   "execution_count": 16,
   "id": "f0cc8051-6470-4d31-8a35-dade2035de67",
   "metadata": {},
   "outputs": [
    {
     "data": {
      "text/plain": [
       "array([[29, 20, 17, 11, 23],\n",
       "       [23, 22, 15, 27, 26]])"
      ]
     },
     "execution_count": 16,
     "metadata": {},
     "output_type": "execute_result"
    }
   ],
   "source": [
    "A[:3:2]"
   ]
  },
  {
   "cell_type": "code",
   "execution_count": 17,
   "id": "e8d357cd-6196-4d37-90a4-fc4e19cf8e7e",
   "metadata": {},
   "outputs": [
    {
     "data": {
      "text/plain": [
       "20"
      ]
     },
     "execution_count": 17,
     "metadata": {},
     "output_type": "execute_result"
    }
   ],
   "source": [
    "A[0][1]"
   ]
  },
  {
   "cell_type": "code",
   "execution_count": 18,
   "id": "258fd589-1ae2-4cdf-9c6b-3b7daeb3b9ae",
   "metadata": {},
   "outputs": [
    {
     "data": {
      "text/plain": [
       "20"
      ]
     },
     "execution_count": 18,
     "metadata": {},
     "output_type": "execute_result"
    }
   ],
   "source": [
    "A[0,1]"
   ]
  },
  {
   "cell_type": "code",
   "execution_count": 19,
   "id": "64166e16-c4a2-40d4-8458-1fc70ba83ead",
   "metadata": {},
   "outputs": [
    {
     "data": {
      "text/plain": [
       "15"
      ]
     },
     "execution_count": 19,
     "metadata": {},
     "output_type": "execute_result"
    }
   ],
   "source": [
    "A[2,2]"
   ]
  },
  {
   "cell_type": "code",
   "execution_count": 20,
   "id": "eb360b9b-114e-4392-91e5-64748edeb249",
   "metadata": {},
   "outputs": [
    {
     "data": {
      "text/plain": [
       "array([[29, 20],\n",
       "       [28, 23],\n",
       "       [23, 22],\n",
       "       [26, 28]])"
      ]
     },
     "execution_count": 20,
     "metadata": {},
     "output_type": "execute_result"
    }
   ],
   "source": [
    "A[:,0:2]"
   ]
  },
  {
   "cell_type": "code",
   "execution_count": 21,
   "id": "85959841-db3c-4d64-a229-845454ac26b2",
   "metadata": {},
   "outputs": [
    {
     "data": {
      "text/plain": [
       "array([[29, 17, 23],\n",
       "       [28, 21, 18],\n",
       "       [23, 15, 26],\n",
       "       [26, 11, 12]])"
      ]
     },
     "execution_count": 21,
     "metadata": {},
     "output_type": "execute_result"
    }
   ],
   "source": [
    "A[:,::2]"
   ]
  },
  {
   "cell_type": "code",
   "execution_count": 22,
   "id": "4a7699bd-1488-4e21-bd35-bb96645daa8c",
   "metadata": {},
   "outputs": [
    {
     "data": {
      "text/plain": [
       "array([[29, 20, 17, 11, 23],\n",
       "       [28, 23, 21, 23, 18],\n",
       "       [23, 22, 15, 27, 26],\n",
       "       [26, 28, 11, 13, 12]])"
      ]
     },
     "execution_count": 22,
     "metadata": {},
     "output_type": "execute_result"
    }
   ],
   "source": [
    "A"
   ]
  },
  {
   "cell_type": "code",
   "execution_count": 23,
   "id": "a7f59cc6-9cdb-4647-bcdc-bcab0996e1e2",
   "metadata": {},
   "outputs": [
    {
     "data": {
      "text/plain": [
       "array([[29, 20, 17, 11, 23],\n",
       "       [28, 23, 21, 23, 18]])"
      ]
     },
     "execution_count": 23,
     "metadata": {},
     "output_type": "execute_result"
    }
   ],
   "source": [
    "A[0:2]"
   ]
  },
  {
   "cell_type": "code",
   "execution_count": 24,
   "id": "ccf7eb94-bf11-4095-bb0f-d7b342cbc65a",
   "metadata": {},
   "outputs": [
    {
     "data": {
      "text/plain": [
       "array([[29, 20, 17, 11, 23],\n",
       "       [28, 23, 21, 23, 18]])"
      ]
     },
     "execution_count": 24,
     "metadata": {},
     "output_type": "execute_result"
    }
   ],
   "source": [
    "A[0:2,:]"
   ]
  },
  {
   "cell_type": "code",
   "execution_count": 25,
   "id": "d67c1b91-1f6c-4bc9-a105-eb4fe54c81bc",
   "metadata": {},
   "outputs": [
    {
     "data": {
      "text/plain": [
       "array([[20, 17],\n",
       "       [23, 21]])"
      ]
     },
     "execution_count": 25,
     "metadata": {},
     "output_type": "execute_result"
    }
   ],
   "source": [
    "A[:2,1:3]"
   ]
  },
  {
   "cell_type": "code",
   "execution_count": 26,
   "id": "510a1147-a180-4afb-9760-5a50d23e9b08",
   "metadata": {},
   "outputs": [
    {
     "data": {
      "text/plain": [
       "array([17, 17, 16, 18, 11, 15, 19, 14, 17, 16])"
      ]
     },
     "execution_count": 26,
     "metadata": {},
     "output_type": "execute_result"
    }
   ],
   "source": [
    "a"
   ]
  },
  {
   "cell_type": "markdown",
   "id": "6cf632a2-6ea9-4f7d-a71b-0fe30517dceb",
   "metadata": {},
   "source": [
    "## Fancy Indexing"
   ]
  },
  {
   "cell_type": "code",
   "execution_count": 28,
   "id": "b31c6d10-7470-4420-b1d4-ede3acfe735c",
   "metadata": {},
   "outputs": [
    {
     "data": {
      "text/plain": [
       "array([17, 17, 18, 16])"
      ]
     },
     "execution_count": 28,
     "metadata": {},
     "output_type": "execute_result"
    }
   ],
   "source": [
    "a[[0,1,3,9]]"
   ]
  },
  {
   "cell_type": "code",
   "execution_count": 29,
   "id": "f4b1aa97-4da0-4fe8-bd17-4e5fee35c927",
   "metadata": {},
   "outputs": [
    {
     "data": {
      "text/plain": [
       "array([17, 17, 18, 16])"
      ]
     },
     "execution_count": 29,
     "metadata": {},
     "output_type": "execute_result"
    }
   ],
   "source": [
    "a[[0,1,3,-1]]"
   ]
  },
  {
   "cell_type": "code",
   "execution_count": 30,
   "id": "67fd73cc-b71c-456c-978b-9d3dee74cda3",
   "metadata": {},
   "outputs": [
    {
     "data": {
      "text/plain": [
       "array([[29, 20, 17, 11, 23],\n",
       "       [28, 23, 21, 23, 18],\n",
       "       [23, 22, 15, 27, 26],\n",
       "       [26, 28, 11, 13, 12]])"
      ]
     },
     "execution_count": 30,
     "metadata": {},
     "output_type": "execute_result"
    }
   ],
   "source": [
    "A"
   ]
  },
  {
   "cell_type": "code",
   "execution_count": 31,
   "id": "51ebdf4a-321f-412e-867d-95a2a501f786",
   "metadata": {},
   "outputs": [
    {
     "data": {
      "text/plain": [
       "array([29, 15])"
      ]
     },
     "execution_count": 31,
     "metadata": {},
     "output_type": "execute_result"
    }
   ],
   "source": [
    "A[[0,2],[0,2]]"
   ]
  },
  {
   "cell_type": "code",
   "execution_count": 32,
   "id": "f8afd8af-fcb9-485a-bd8c-b67add830597",
   "metadata": {},
   "outputs": [
    {
     "data": {
      "text/plain": [
       "array([20, 11])"
      ]
     },
     "execution_count": 32,
     "metadata": {},
     "output_type": "execute_result"
    }
   ],
   "source": [
    "A[[0,3],[1,2]]"
   ]
  },
  {
   "cell_type": "markdown",
   "id": "22e7a2a2-59d7-4336-899b-af1b23111c1b",
   "metadata": {},
   "source": [
    "## Boolean Arrays and Masking"
   ]
  },
  {
   "cell_type": "code",
   "execution_count": 33,
   "id": "6ecbdd73-a026-491e-9dd9-6d0c67215c01",
   "metadata": {},
   "outputs": [
    {
     "data": {
      "text/plain": [
       "array([ True,  True, False, False])"
      ]
     },
     "execution_count": 33,
     "metadata": {},
     "output_type": "execute_result"
    }
   ],
   "source": [
    "np.array([True,True,False,False])"
   ]
  },
  {
   "cell_type": "code",
   "execution_count": 34,
   "id": "d5dfb3cb-f116-4c71-b08e-719c238615e0",
   "metadata": {},
   "outputs": [
    {
     "data": {
      "text/plain": [
       "array([17, 17, 16, 18, 11, 15, 19, 14, 17, 16])"
      ]
     },
     "execution_count": 34,
     "metadata": {},
     "output_type": "execute_result"
    }
   ],
   "source": [
    "a"
   ]
  },
  {
   "cell_type": "code",
   "execution_count": 35,
   "id": "9593b485-ec56-4bbd-ac7a-7f1e31a77e15",
   "metadata": {},
   "outputs": [],
   "source": [
    "mean=a.mean()"
   ]
  },
  {
   "cell_type": "code",
   "execution_count": 36,
   "id": "27bc5188-857b-4d7b-82dc-1b2b38aed145",
   "metadata": {},
   "outputs": [
    {
     "data": {
      "text/plain": [
       "16.0"
      ]
     },
     "execution_count": 36,
     "metadata": {},
     "output_type": "execute_result"
    }
   ],
   "source": [
    "mean"
   ]
  },
  {
   "cell_type": "code",
   "execution_count": 37,
   "id": "51a88f73-ef14-48f5-8227-037a5120583a",
   "metadata": {},
   "outputs": [
    {
     "data": {
      "text/plain": [
       "array([ True,  True, False,  True, False, False,  True, False,  True,\n",
       "       False])"
      ]
     },
     "execution_count": 37,
     "metadata": {},
     "output_type": "execute_result"
    }
   ],
   "source": [
    "a>mean"
   ]
  },
  {
   "cell_type": "code",
   "execution_count": 38,
   "id": "8d7a3ea5-7f9e-4681-8ae5-19d91c073c2c",
   "metadata": {},
   "outputs": [
    {
     "data": {
      "text/plain": [
       "array([17, 17, 18, 19, 17])"
      ]
     },
     "execution_count": 38,
     "metadata": {},
     "output_type": "execute_result"
    }
   ],
   "source": [
    "a[a>mean]## masking"
   ]
  },
  {
   "cell_type": "markdown",
   "id": "3f8cb5c9-e9c2-41a5-9119-a47fc1c69d75",
   "metadata": {},
   "source": [
    "## Correlation"
   ]
  },
  {
   "cell_type": "code",
   "execution_count": 45,
   "id": "f367500e-70c5-4fbc-9d5b-36dd5ed7c761",
   "metadata": {},
   "outputs": [],
   "source": [
    "ages =np.random.randint(10,80,30)\n",
    "weights =np.random.randint(40,120,30)"
   ]
  },
  {
   "cell_type": "code",
   "execution_count": 46,
   "id": "3e48fb48-049b-4779-bb5f-d5f014be6b2d",
   "metadata": {},
   "outputs": [
    {
     "data": {
      "text/plain": [
       "<matplotlib.collections.PathCollection at 0x7f7e64641fd0>"
      ]
     },
     "execution_count": 46,
     "metadata": {},
     "output_type": "execute_result"
    },
    {
     "data": {
      "image/png": "[encoded data removed]",
      "text/plain": [
       "<Figure size 432x288 with 1 Axes>"
      ]
     },
     "metadata": {
      "needs_background": "light"
     },
     "output_type": "display_data"
    }
   ],
   "source": [
    "plt.scatter(ages,weights)"
   ]
  },
  {
   "cell_type": "code",
   "execution_count": 49,
   "id": "03788afd-33bb-4345-b42d-6a34ef5f5db1",
   "metadata": {},
   "outputs": [],
   "source": [
    "x=np.linspace(10,20,30)\n",
    "y=-4*x+6"
   ]
  },
  {
   "cell_type": "code",
   "execution_count": 50,
   "id": "ad44c3d7-c5a9-4a3b-88e9-0a126dcddbd2",
   "metadata": {},
   "outputs": [
    {
     "data": {
      "text/plain": [
       "<matplotlib.collections.PathCollection at 0x7f7e6485a340>"
      ]
     },
     "execution_count": 50,
     "metadata": {},
     "output_type": "execute_result"
    },
    {
     "data": {
      "image/png": "[encoded data removed]",
      "text/plain": [
       "<Figure size 432x288 with 1 Axes>"
      ]
     },
     "metadata": {
      "needs_background": "light"
     },
     "output_type": "display_data"
    }
   ],
   "source": [
    "plt.scatter(x,y)"
   ]
  },
  {
   "cell_type": "code",
   "execution_count": 51,
   "id": "47d9d880-3d20-48ca-ba2d-f9193db05cfb",
   "metadata": {},
   "outputs": [
    {
     "data": {
      "text/plain": [
       "array([[1.        , 0.49201642],\n",
       "       [0.49201642, 1.        ]])"
      ]
     },
     "execution_count": 51,
     "metadata": {},
     "output_type": "execute_result"
    }
   ],
   "source": [
    "np.corrcoef(ages,weights)"
   ]
  },
  {
   "cell_type": "code",
   "execution_count": 52,
   "id": "30deed90-69cf-4011-b8b8-486adaa06d1a",
   "metadata": {},
   "outputs": [
    {
     "data": {
      "text/plain": [
       "array([[ 1., -1.],\n",
       "       [-1.,  1.]])"
      ]
     },
     "execution_count": 52,
     "metadata": {},
     "output_type": "execute_result"
    }
   ],
   "source": [
    "np.corrcoef(x,y)"
   ]
  },
  {
   "cell_type": "code",
   "execution_count": 53,
   "id": "928824e0-9a51-493c-ac83-234da6091c8e",
   "metadata": {},
   "outputs": [
    {
     "data": {
      "text/plain": [
       "array([10.        , 10.34482759, 10.68965517, 11.03448276, 11.37931034,\n",
       "       11.72413793, 12.06896552, 12.4137931 , 12.75862069, 13.10344828,\n",
       "       13.44827586, 13.79310345, 14.13793103, 14.48275862, 14.82758621,\n",
       "       15.17241379, 15.51724138, 15.86206897, 16.20689655, 16.55172414,\n",
       "       16.89655172, 17.24137931, 17.5862069 , 17.93103448, 18.27586207,\n",
       "       18.62068966, 18.96551724, 19.31034483, 19.65517241, 20.        ])"
      ]
     },
     "execution_count": 53,
     "metadata": {},
     "output_type": "execute_result"
    }
   ],
   "source": [
    "x"
   ]
  },
  {
   "cell_type": "code",
   "execution_count": 57,
   "id": "38ac6698-dc86-46ad-8683-70a7339f7ee8",
   "metadata": {},
   "outputs": [
    {
     "data": {
      "text/plain": [
       "array([-0.04417219,  0.43250213, -1.43733508,  0.00769169,  0.2562382 ,\n",
       "        1.30770156])"
      ]
     },
     "execution_count": 57,
     "metadata": {},
     "output_type": "execute_result"
    }
   ],
   "source": [
    "np.random.randn(6)"
   ]
  },
  {
   "cell_type": "code",
   "execution_count": 58,
   "id": "dc23a7a6-3db4-49df-a3ba-d740b1b33d82",
   "metadata": {},
   "outputs": [],
   "source": [
    "y=y+np.random.randn(30)*20"
   ]
  },
  {
   "cell_type": "code",
   "execution_count": 59,
   "id": "da965dbf-19af-4c5e-beab-c6f13efb3c35",
   "metadata": {},
   "outputs": [
    {
     "data": {
      "text/plain": [
       "<matplotlib.collections.PathCollection at 0x7f7e65899130>"
      ]
     },
     "execution_count": 59,
     "metadata": {},
     "output_type": "execute_result"
    },
    {
     "data": {
      "image/png": "[encoded data removed]",
      "text/plain": [
       "<Figure size 432x288 with 1 Axes>"
      ]
     },
     "metadata": {
      "needs_background": "light"
     },
     "output_type": "display_data"
    }
   ],
   "source": [
    "plt.scatter(x,y)"
   ]
  },
  {
   "cell_type": "code",
   "execution_count": 60,
   "id": "2c58f819-4d7a-4ffc-a7df-158903e897c1",
   "metadata": {},
   "outputs": [
    {
     "data": {
      "text/plain": [
       "array([[ 1.        , -0.39185617],\n",
       "       [-0.39185617,  1.        ]])"
      ]
     },
     "execution_count": 60,
     "metadata": {},
     "output_type": "execute_result"
    }
   ],
   "source": [
    "np.corrcoef(x,y)"
   ]
  },
  {
   "cell_type": "markdown",
   "id": "95c44669-361f-47c9-a016-cb43b5ea3469",
   "metadata": {},
   "source": [
    "## Outliers"
   ]
  },
  {
   "cell_type": "code",
   "execution_count": 61,
   "id": "5a901420-62ae-4f71-9134-33e3dee726a5",
   "metadata": {},
   "outputs": [
    {
     "data": {
      "text/plain": [
       "array([17, 17, 16, 18, 11, 15, 19, 14, 17, 16])"
      ]
     },
     "execution_count": 61,
     "metadata": {},
     "output_type": "execute_result"
    }
   ],
   "source": [
    "a"
   ]
  },
  {
   "cell_type": "code",
   "execution_count": 62,
   "id": "d955272b-734c-40e2-b861-a7eaa38851f4",
   "metadata": {},
   "outputs": [
    {
     "data": {
      "text/plain": [
       "16.0"
      ]
     },
     "execution_count": 62,
     "metadata": {},
     "output_type": "execute_result"
    }
   ],
   "source": [
    "mean"
   ]
  },
  {
   "cell_type": "code",
   "execution_count": 63,
   "id": "5dc0c241-7698-45c5-bfe7-4e8534ff41fb",
   "metadata": {},
   "outputs": [
    {
     "data": {
      "text/plain": [
       "2.1447610589527217"
      ]
     },
     "execution_count": 63,
     "metadata": {},
     "output_type": "execute_result"
    }
   ],
   "source": [
    "a.std()"
   ]
  },
  {
   "cell_type": "code",
   "execution_count": 65,
   "id": "df457e77-96b0-4268-8698-dc9994575526",
   "metadata": {},
   "outputs": [
    {
     "data": {
      "image/png": "[encoded data removed]",
      "text/plain": [
       "<Figure size 432x288 with 1 Axes>"
      ]
     },
     "metadata": {
      "needs_background": "light"
     },
     "output_type": "display_data"
    }
   ],
   "source": [
    "plt.boxplot(a);"
   ]
  },
  {
   "cell_type": "code",
   "execution_count": 66,
   "id": "333a4746-b730-4eac-bdd3-97d08a920f9f",
   "metadata": {},
   "outputs": [],
   "source": [
    "a[4]=17"
   ]
  },
  {
   "cell_type": "code",
   "execution_count": 67,
   "id": "9f90894c-5e14-4f1d-849f-5abb6a0dc91a",
   "metadata": {},
   "outputs": [
    {
     "data": {
      "text/plain": [
       "16.6"
      ]
     },
     "execution_count": 67,
     "metadata": {},
     "output_type": "execute_result"
    }
   ],
   "source": [
    "a.mean()"
   ]
  },
  {
   "cell_type": "code",
   "execution_count": 68,
   "id": "e632b082-c91f-40a7-8e6c-9fcc25df8ae0",
   "metadata": {},
   "outputs": [
    {
     "data": {
      "text/plain": [
       "1.3564659966250538"
      ]
     },
     "execution_count": 68,
     "metadata": {},
     "output_type": "execute_result"
    }
   ],
   "source": [
    "a.std()"
   ]
  },
  {
   "cell_type": "code",
   "execution_count": 69,
   "id": "ec6e9137-8ca4-47b8-a15f-1d857003d0c8",
   "metadata": {},
   "outputs": [
    {
     "data": {
      "image/png": "[encoded data removed]",
      "text/plain": [
       "<Figure size 432x288 with 1 Axes>"
      ]
     },
     "metadata": {
      "needs_background": "light"
     },
     "output_type": "display_data"
    }
   ],
   "source": [
    "plt.boxplot(a);"
   ]
  },
  {
   "cell_type": "code",
   "execution_count": 70,
   "id": "55fdbcd1-a58e-465a-a396-4f56cf9e65e7",
   "metadata": {},
   "outputs": [
    {
     "data": {
      "text/plain": [
       "array([46, 40, 76, 58, 58, 27, 78, 33, 32, 45, 73, 67, 18, 24, 46, 74, 39,\n",
       "       35, 74, 44, 72, 18, 49, 26, 39, 36, 28, 16, 65, 63])"
      ]
     },
     "execution_count": 70,
     "metadata": {},
     "output_type": "execute_result"
    }
   ],
   "source": [
    "ages"
   ]
  },
  {
   "cell_type": "code",
   "execution_count": 72,
   "id": "51e14201-56de-47a1-8c39-327d28ad8ad6",
   "metadata": {},
   "outputs": [
    {
     "data": {
      "image/png": "[encoded data removed]",
      "text/plain": [
       "<Figure size 432x288 with 1 Axes>"
      ]
     },
     "metadata": {
      "needs_background": "light"
     },
     "output_type": "display_data"
    }
   ],
   "source": [
    "plt.boxplot(ages);#shiskers plot"
   ]
  },
  {
   "cell_type": "code",
   "execution_count": 73,
   "id": "bdcc2036-3c98-4071-bce5-dfc45fb4a630",
   "metadata": {},
   "outputs": [],
   "source": [
    "ages[2]=170"
   ]
  },
  {
   "cell_type": "code",
   "execution_count": 74,
   "id": "7a852e5a-a6f7-43bc-b534-994bb0b3861c",
   "metadata": {},
   "outputs": [
    {
     "data": {
      "text/plain": [
       "{'whiskers': [<matplotlib.lines.Line2D at 0x7f7e65f5b0a0>,\n",
       "  <matplotlib.lines.Line2D at 0x7f7e65f5b430>],\n",
       " 'caps': [<matplotlib.lines.Line2D at 0x7f7e65f5b7c0>,\n",
       "  <matplotlib.lines.Line2D at 0x7f7e65f5bb50>],\n",
       " 'boxes': [<matplotlib.lines.Line2D at 0x7f7e65f4dcd0>],\n",
       " 'medians': [<matplotlib.lines.Line2D at 0x7f7e65f5bee0>],\n",
       " 'fliers': [<matplotlib.lines.Line2D at 0x7f7e65f732b0>],\n",
       " 'means': []}"
      ]
     },
     "execution_count": 74,
     "metadata": {},
     "output_type": "execute_result"
    },
    {
     "data": {
      "image/png": "[encoded data removed]",
      "text/plain": [
       "<Figure size 432x288 with 1 Axes>"
      ]
     },
     "metadata": {
      "needs_background": "light"
     },
     "output_type": "display_data"
    }
   ],
   "source": [
    "plt.boxplot(ages)"
   ]
  },
  {
   "cell_type": "code",
   "execution_count": 75,
   "id": "a90fba66-15f5-458c-a9d7-a2e26aa594a7",
   "metadata": {},
   "outputs": [
    {
     "data": {
      "text/plain": [
       "49.766666666666666"
      ]
     },
     "execution_count": 75,
     "metadata": {},
     "output_type": "execute_result"
    }
   ],
   "source": [
    "ages.mean()"
   ]
  },
  {
   "cell_type": "code",
   "execution_count": 76,
   "id": "ba0ecf59-52cc-4dbf-9349-412a18e3471b",
   "metadata": {},
   "outputs": [
    {
     "data": {
      "text/plain": [
       "28.923673502667135"
      ]
     },
     "execution_count": 76,
     "metadata": {},
     "output_type": "execute_result"
    }
   ],
   "source": [
    "ages.std()"
   ]
  },
  {
   "cell_type": "code",
   "execution_count": 77,
   "id": "b8a51a33-6914-469b-8626-f9721fbd5775",
   "metadata": {},
   "outputs": [],
   "source": [
    "z_ages=(ages-ages.mean())/ages.std()"
   ]
  },
  {
   "cell_type": "code",
   "execution_count": 78,
   "id": "a76ac120-7eb0-49a2-be7a-ebd695296fbf",
   "metadata": {},
   "outputs": [
    {
     "data": {
      "text/plain": [
       "array([-0.13022781, -0.33767034,  4.1569178 ,  0.28465725,  0.28465725,\n",
       "       -0.78712915,  0.97613235, -0.57968662, -0.61426038, -0.16480157,\n",
       "        0.80326357,  0.59582104, -1.09829295, -0.89085042, -0.13022781,\n",
       "        0.83783733, -0.37224409, -0.51053911,  0.83783733, -0.19937532,\n",
       "        0.76868982, -1.09829295, -0.02650655, -0.82170291, -0.37224409,\n",
       "       -0.47596536, -0.7525554 , -1.16744046,  0.52667353,  0.45752602])"
      ]
     },
     "execution_count": 78,
     "metadata": {},
     "output_type": "execute_result"
    }
   ],
   "source": [
    "z_ages"
   ]
  },
  {
   "cell_type": "code",
   "execution_count": 79,
   "id": "64c171ed-1d95-43c1-af1c-16bd1b960347",
   "metadata": {},
   "outputs": [
    {
     "data": {
      "text/plain": [
       "array([ 46,  40, 170,  58,  58,  27,  78,  33,  32,  45,  73,  67,  18,\n",
       "        24,  46,  74,  39,  35,  74,  44,  72,  18,  49,  26,  39,  36,\n",
       "        28,  16,  65,  63])"
      ]
     },
     "execution_count": 79,
     "metadata": {},
     "output_type": "execute_result"
    }
   ],
   "source": [
    "ages"
   ]
  },
  {
   "cell_type": "code",
   "execution_count": 81,
   "id": "8ae54c39-3226-460c-b3a2-f06f62f8cd5c",
   "metadata": {},
   "outputs": [
    {
     "data": {
      "text/plain": [
       "array([ True,  True, False,  True,  True,  True,  True,  True,  True,\n",
       "        True,  True,  True,  True,  True,  True,  True,  True,  True,\n",
       "        True,  True,  True,  True,  True,  True,  True,  True,  True,\n",
       "        True,  True,  True])"
      ]
     },
     "execution_count": 81,
     "metadata": {},
     "output_type": "execute_result"
    }
   ],
   "source": [
    "np.abs(z_ages)<3"
   ]
  },
  {
   "cell_type": "code",
   "execution_count": 82,
   "id": "ce975f4c-363e-46f2-b004-8513f6586c5d",
   "metadata": {},
   "outputs": [
    {
     "data": {
      "text/plain": [
       "array([False, False,  True, False, False, False, False, False, False,\n",
       "       False, False, False, False, False, False, False, False, False,\n",
       "       False, False, False, False, False, False, False, False, False,\n",
       "       False, False, False])"
      ]
     },
     "execution_count": 82,
     "metadata": {},
     "output_type": "execute_result"
    }
   ],
   "source": [
    "~(np.abs(z_ages)<3)"
   ]
  },
  {
   "cell_type": "code",
   "execution_count": 83,
   "id": "31187512-0575-41c7-b2b9-7314859dff47",
   "metadata": {},
   "outputs": [
    {
     "data": {
      "text/plain": [
       "array([170])"
      ]
     },
     "execution_count": 83,
     "metadata": {},
     "output_type": "execute_result"
    }
   ],
   "source": [
    "ages[~(np.abs(z_ages)<3)]"
   ]
  },
  {
   "cell_type": "code",
   "execution_count": null,
   "id": "51d48809-0947-4f61-b131-9d20c7fd0275",
   "metadata": {},
   "outputs": [],
   "source": [
    "~(np.abs(z_ages)<3)"
   ]
  },
  {
   "cell_type": "code",
   "execution_count": null,
   "id": "24733a65-2338-4293-a745-6c519fe9f9f8",
   "metadata": {},
   "outputs": [],
   "source": []
  }
 ],
 "metadata": {
  "kernelspec": {
   "display_name": "Python 3 (ipykernel)",
   "language": "python",
   "name": "python3"
  },
  "language_info": {
   "codemirror_mode": {
    "name": "ipython",
    "version": 3
   },
   "file_extension": ".py",
   "mimetype": "text/x-python",
   "name": "python",
   "nbconvert_exporter": "python",
   "pygments_lexer": "ipython3",
   "version": "3.9.7"
  }
 },
 "nbformat": 4,
 "nbformat_minor": 5
}
