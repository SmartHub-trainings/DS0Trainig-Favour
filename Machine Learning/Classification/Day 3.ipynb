{
 "cells": [
  {
   "cell_type": "code",
   "execution_count": 1,
   "id": "ec6c1e31",
   "metadata": {},
   "outputs": [],
   "source": [
    "from sklearn.datasets import load_iris"
   ]
  },
  {
   "cell_type": "code",
   "execution_count": 2,
   "id": "7c015fe6",
   "metadata": {},
   "outputs": [],
   "source": [
    "X,y=load_iris(return_X_y=True)"
   ]
  },
  {
   "cell_type": "code",
   "execution_count": 3,
   "id": "7cc680cd",
   "metadata": {},
   "outputs": [],
   "source": [
    "from sklearn.model_selection import GridSearchCV\n",
    "from sklearn.neighbors import KNeighborsClassifier\n",
    "model=KNeighborsClassifier()"
   ]
  },
  {
   "cell_type": "code",
   "execution_count": 4,
   "id": "75b94ccd",
   "metadata": {},
   "outputs": [],
   "source": [
    "grid_model=GridSearchCV(model,param_grid={\"n_neighbors\":range(2,51),\n",
    "                               \"weights\":[\"distance\",\"uniform\"],\n",
    "                              \"metric\":[\"euclidean\",\"manhattan\",\"minkowski\"]},\n",
    "                       cv=5,)"
   ]
  },
  {
   "cell_type": "code",
   "execution_count": 5,
   "id": "2d0ed1af",
   "metadata": {},
   "outputs": [
    {
     "data": {
      "text/plain": [
       "GridSearchCV(cv=5, estimator=KNeighborsClassifier(),\n",
       "             param_grid={'metric': ['euclidean', 'manhattan', 'minkowski'],\n",
       "                         'n_neighbors': range(2, 51),\n",
       "                         'weights': ['distance', 'uniform']})"
      ]
     },
     "execution_count": 5,
     "metadata": {},
     "output_type": "execute_result"
    }
   ],
   "source": [
    "grid_model.fit(X,y)"
   ]
  },
  {
   "cell_type": "code",
   "execution_count": 6,
   "id": "53db688e",
   "metadata": {},
   "outputs": [
    {
     "data": {
      "text/plain": [
       "KNeighborsClassifier(metric='euclidean', n_neighbors=10, weights='distance')"
      ]
     },
     "execution_count": 6,
     "metadata": {},
     "output_type": "execute_result"
    }
   ],
   "source": [
    "grid_model.best_estimator_"
   ]
  },
  {
   "cell_type": "code",
   "execution_count": 7,
   "id": "a7834b04",
   "metadata": {},
   "outputs": [
    {
     "data": {
      "text/plain": [
       "0.9866666666666667"
      ]
     },
     "execution_count": 7,
     "metadata": {},
     "output_type": "execute_result"
    }
   ],
   "source": [
    "grid_model.best_score_"
   ]
  },
  {
   "cell_type": "code",
   "execution_count": 8,
   "id": "cbdad04d",
   "metadata": {},
   "outputs": [
    {
     "data": {
      "text/plain": [
       "array([0, 0, 0, 0, 0, 0, 0, 0, 0, 0, 0, 0, 0, 0, 0, 0, 0, 0, 0, 0, 0, 0,\n",
       "       0, 0, 0, 0, 0, 0, 0, 0, 0, 0, 0, 0, 0, 0, 0, 0, 0, 0, 0, 0, 0, 0,\n",
       "       0, 0, 0, 0, 0, 0, 1, 1, 1, 1, 1, 1, 1, 1, 1, 1, 1, 1, 1, 1, 1, 1,\n",
       "       1, 1, 1, 1, 1, 1, 1, 1, 1, 1, 1, 1, 1, 1, 1, 1, 1, 1, 1, 1, 1, 1,\n",
       "       1, 1, 1, 1, 1, 1, 1, 1, 1, 1, 1, 1, 2, 2, 2, 2, 2, 2, 2, 2, 2, 2,\n",
       "       2, 2, 2, 2, 2, 2, 2, 2, 2, 2, 2, 2, 2, 2, 2, 2, 2, 2, 2, 2, 2, 2,\n",
       "       2, 2, 2, 2, 2, 2, 2, 2, 2, 2, 2, 2, 2, 2, 2, 2, 2, 2])"
      ]
     },
     "execution_count": 8,
     "metadata": {},
     "output_type": "execute_result"
    }
   ],
   "source": [
    "grid_model.predict(X)"
   ]
  },
  {
   "cell_type": "code",
   "execution_count": 9,
   "id": "792bc7ae",
   "metadata": {},
   "outputs": [],
   "source": [
    "best_model = KNeighborsClassifier(metric='euclidean', n_neighbors=10, weights='distance')"
   ]
  },
  {
   "cell_type": "code",
   "execution_count": 10,
   "id": "485e067c",
   "metadata": {},
   "outputs": [
    {
     "data": {
      "text/plain": [
       "KNeighborsClassifier(metric='euclidean', n_neighbors=10, weights='distance')"
      ]
     },
     "execution_count": 10,
     "metadata": {},
     "output_type": "execute_result"
    }
   ],
   "source": [
    "best_model.fit(X,y)"
   ]
  },
  {
   "cell_type": "code",
   "execution_count": 11,
   "id": "48c898f6",
   "metadata": {},
   "outputs": [],
   "source": [
    "import json"
   ]
  },
  {
   "cell_type": "code",
   "execution_count": 12,
   "id": "0d6bf91c-89dc-4766-ad25-b41f02ac15c8",
   "metadata": {},
   "outputs": [
    {
     "data": {
      "text/plain": [
       "\u001b[0;31mType:\u001b[0m        module\n",
       "\u001b[0;31mString form:\u001b[0m <module 'json' from '/Users/georgebsmith/opt/anaconda3/lib/python3.9/json/__init__.py'>\n",
       "\u001b[0;31mFile:\u001b[0m        ~/opt/anaconda3/lib/python3.9/json/__init__.py\n",
       "\u001b[0;31mDocstring:\u001b[0m  \n",
       "JSON (JavaScript Object Notation) <http://json.org> is a subset of\n",
       "JavaScript syntax (ECMA-262 3rd edition) used as a lightweight data\n",
       "interchange format.\n",
       "\n",
       ":mod:`json` exposes an API familiar to users of the standard library\n",
       ":mod:`marshal` and :mod:`pickle` modules.  It is derived from a\n",
       "version of the externally maintained simplejson library.\n",
       "\n",
       "Encoding basic Python object hierarchies::\n",
       "\n",
       "    >>> import json\n",
       "    >>> json.dumps(['foo', {'bar': ('baz', None, 1.0, 2)}])\n",
       "    '[\"foo\", {\"bar\": [\"baz\", null, 1.0, 2]}]'\n",
       "    >>> print(json.dumps(\"\\\"foo\\bar\"))\n",
       "    \"\\\"foo\\bar\"\n",
       "    >>> print(json.dumps('\\u1234'))\n",
       "    \"\\u1234\"\n",
       "    >>> print(json.dumps('\\\\'))\n",
       "    \"\\\\\"\n",
       "    >>> print(json.dumps({\"c\": 0, \"b\": 0, \"a\": 0}, sort_keys=True))\n",
       "    {\"a\": 0, \"b\": 0, \"c\": 0}\n",
       "    >>> from io import StringIO\n",
       "    >>> io = StringIO()\n",
       "    >>> json.dump(['streaming API'], io)\n",
       "    >>> io.getvalue()\n",
       "    '[\"streaming API\"]'\n",
       "\n",
       "Compact encoding::\n",
       "\n",
       "    >>> import json\n",
       "    >>> mydict = {'4': 5, '6': 7}\n",
       "    >>> json.dumps([1,2,3,mydict], separators=(',', ':'))\n",
       "    '[1,2,3,{\"4\":5,\"6\":7}]'\n",
       "\n",
       "Pretty printing::\n",
       "\n",
       "    >>> import json\n",
       "    >>> print(json.dumps({'4': 5, '6': 7}, sort_keys=True, indent=4))\n",
       "    {\n",
       "        \"4\": 5,\n",
       "        \"6\": 7\n",
       "    }\n",
       "\n",
       "Decoding JSON::\n",
       "\n",
       "    >>> import json\n",
       "    >>> obj = ['foo', {'bar': ['baz', None, 1.0, 2]}]\n",
       "    >>> json.loads('[\"foo\", {\"bar\":[\"baz\", null, 1.0, 2]}]') == obj\n",
       "    True\n",
       "    >>> json.loads('\"\\\\\"foo\\\\bar\"') == '\"foo\\x08ar'\n",
       "    True\n",
       "    >>> from io import StringIO\n",
       "    >>> io = StringIO('[\"streaming API\"]')\n",
       "    >>> json.load(io)[0] == 'streaming API'\n",
       "    True\n",
       "\n",
       "Specializing JSON object decoding::\n",
       "\n",
       "    >>> import json\n",
       "    >>> def as_complex(dct):\n",
       "    ...     if '__complex__' in dct:\n",
       "    ...         return complex(dct['real'], dct['imag'])\n",
       "    ...     return dct\n",
       "    ...\n",
       "    >>> json.loads('{\"__complex__\": true, \"real\": 1, \"imag\": 2}',\n",
       "    ...     object_hook=as_complex)\n",
       "    (1+2j)\n",
       "    >>> from decimal import Decimal\n",
       "    >>> json.loads('1.1', parse_float=Decimal) == Decimal('1.1')\n",
       "    True\n",
       "\n",
       "Specializing JSON object encoding::\n",
       "\n",
       "    >>> import json\n",
       "    >>> def encode_complex(obj):\n",
       "    ...     if isinstance(obj, complex):\n",
       "    ...         return [obj.real, obj.imag]\n",
       "    ...     raise TypeError(f'Object of type {obj.__class__.__name__} '\n",
       "    ...                     f'is not JSON serializable')\n",
       "    ...\n",
       "    >>> json.dumps(2 + 1j, default=encode_complex)\n",
       "    '[2.0, 1.0]'\n",
       "    >>> json.JSONEncoder(default=encode_complex).encode(2 + 1j)\n",
       "    '[2.0, 1.0]'\n",
       "    >>> ''.join(json.JSONEncoder(default=encode_complex).iterencode(2 + 1j))\n",
       "    '[2.0, 1.0]'\n",
       "\n",
       "\n",
       "Using json.tool from the shell to validate and pretty-print::\n",
       "\n",
       "    $ echo '{\"json\":\"obj\"}' | python -m json.tool\n",
       "    {\n",
       "        \"json\": \"obj\"\n",
       "    }\n",
       "    $ echo '{ 1.2:3.4}' | python -m json.tool\n",
       "    Expecting property name enclosed in double quotes: line 1 column 3 (char 2)\n"
      ]
     },
     "metadata": {},
     "output_type": "display_data"
    }
   ],
   "source": [
    "json?"
   ]
  },
  {
   "cell_type": "code",
   "execution_count": 13,
   "id": "8d0a10a4-61b4-4334-8fcc-d73e8184c743",
   "metadata": {},
   "outputs": [],
   "source": [
    "d={\"name\":\"Smith\",'sex':\"Male\",\"isMarried\":True}"
   ]
  },
  {
   "cell_type": "code",
   "execution_count": 14,
   "id": "2f8c77f3-220e-43cb-baa6-359e6efe2c4b",
   "metadata": {},
   "outputs": [
    {
     "data": {
      "text/plain": [
       "{'name': 'Smith', 'sex': 'Male', 'isMarried': True}"
      ]
     },
     "execution_count": 14,
     "metadata": {},
     "output_type": "execute_result"
    }
   ],
   "source": [
    "d"
   ]
  },
  {
   "cell_type": "code",
   "execution_count": 15,
   "id": "17fdba08-f1c1-4134-87a6-1bf692e9f397",
   "metadata": {},
   "outputs": [
    {
     "data": {
      "text/plain": [
       "'{\"name\": \"Smith\", \"sex\": \"Male\", \"isMarried\": true}'"
      ]
     },
     "execution_count": 15,
     "metadata": {},
     "output_type": "execute_result"
    }
   ],
   "source": [
    "json.dumps(d)"
   ]
  },
  {
   "cell_type": "code",
   "execution_count": 16,
   "id": "badb6022-9c04-4a74-83b0-498aa87d0c5c",
   "metadata": {},
   "outputs": [],
   "source": [
    "import pandas as pd"
   ]
  },
  {
   "cell_type": "code",
   "execution_count": 18,
   "id": "2d09fcf8-3568-4c91-821e-f071d068e0e8",
   "metadata": {},
   "outputs": [],
   "source": [
    "df=pd.read_csv(\"../titanic/train.csv\")"
   ]
  },
  {
   "cell_type": "code",
   "execution_count": 19,
   "id": "e9d878e9-45e5-4e9c-894a-4dab5b5ed8d6",
   "metadata": {},
   "outputs": [
    {
     "data": {
      "text/html": [
       "<div>\n",
       "<style scoped>\n",
       "    .dataframe tbody tr th:only-of-type {\n",
       "        vertical-align: middle;\n",
       "    }\n",
       "\n",
       "    .dataframe tbody tr th {\n",
       "        vertical-align: top;\n",
       "    }\n",
       "\n",
       "    .dataframe thead th {\n",
       "        text-align: right;\n",
       "    }\n",
       "</style>\n",
       "<table border=\"1\" class=\"dataframe\">\n",
       "  <thead>\n",
       "    <tr style=\"text-align: right;\">\n",
       "      <th></th>\n",
       "      <th>PassengerId</th>\n",
       "      <th>Survived</th>\n",
       "      <th>Pclass</th>\n",
       "      <th>Name</th>\n",
       "      <th>Sex</th>\n",
       "      <th>Age</th>\n",
       "      <th>SibSp</th>\n",
       "      <th>Parch</th>\n",
       "      <th>Ticket</th>\n",
       "      <th>Fare</th>\n",
       "      <th>Cabin</th>\n",
       "      <th>Embarked</th>\n",
       "    </tr>\n",
       "  </thead>\n",
       "  <tbody>\n",
       "    <tr>\n",
       "      <th>0</th>\n",
       "      <td>1</td>\n",
       "      <td>0</td>\n",
       "      <td>3</td>\n",
       "      <td>Braund, Mr. Owen Harris</td>\n",
       "      <td>male</td>\n",
       "      <td>22.0</td>\n",
       "      <td>1</td>\n",
       "      <td>0</td>\n",
       "      <td>A/5 21171</td>\n",
       "      <td>7.2500</td>\n",
       "      <td>NaN</td>\n",
       "      <td>S</td>\n",
       "    </tr>\n",
       "    <tr>\n",
       "      <th>1</th>\n",
       "      <td>2</td>\n",
       "      <td>1</td>\n",
       "      <td>1</td>\n",
       "      <td>Cumings, Mrs. John Bradley (Florence Briggs Th...</td>\n",
       "      <td>female</td>\n",
       "      <td>38.0</td>\n",
       "      <td>1</td>\n",
       "      <td>0</td>\n",
       "      <td>PC 17599</td>\n",
       "      <td>71.2833</td>\n",
       "      <td>C85</td>\n",
       "      <td>C</td>\n",
       "    </tr>\n",
       "    <tr>\n",
       "      <th>2</th>\n",
       "      <td>3</td>\n",
       "      <td>1</td>\n",
       "      <td>3</td>\n",
       "      <td>Heikkinen, Miss. Laina</td>\n",
       "      <td>female</td>\n",
       "      <td>26.0</td>\n",
       "      <td>0</td>\n",
       "      <td>0</td>\n",
       "      <td>STON/O2. 3101282</td>\n",
       "      <td>7.9250</td>\n",
       "      <td>NaN</td>\n",
       "      <td>S</td>\n",
       "    </tr>\n",
       "    <tr>\n",
       "      <th>3</th>\n",
       "      <td>4</td>\n",
       "      <td>1</td>\n",
       "      <td>1</td>\n",
       "      <td>Futrelle, Mrs. Jacques Heath (Lily May Peel)</td>\n",
       "      <td>female</td>\n",
       "      <td>35.0</td>\n",
       "      <td>1</td>\n",
       "      <td>0</td>\n",
       "      <td>113803</td>\n",
       "      <td>53.1000</td>\n",
       "      <td>C123</td>\n",
       "      <td>S</td>\n",
       "    </tr>\n",
       "    <tr>\n",
       "      <th>4</th>\n",
       "      <td>5</td>\n",
       "      <td>0</td>\n",
       "      <td>3</td>\n",
       "      <td>Allen, Mr. William Henry</td>\n",
       "      <td>male</td>\n",
       "      <td>35.0</td>\n",
       "      <td>0</td>\n",
       "      <td>0</td>\n",
       "      <td>373450</td>\n",
       "      <td>8.0500</td>\n",
       "      <td>NaN</td>\n",
       "      <td>S</td>\n",
       "    </tr>\n",
       "  </tbody>\n",
       "</table>\n",
       "</div>"
      ],
      "text/plain": [
       "   PassengerId  Survived  Pclass  \\\n",
       "0            1         0       3   \n",
       "1            2         1       1   \n",
       "2            3         1       3   \n",
       "3            4         1       1   \n",
       "4            5         0       3   \n",
       "\n",
       "                                                Name     Sex   Age  SibSp  \\\n",
       "0                            Braund, Mr. Owen Harris    male  22.0      1   \n",
       "1  Cumings, Mrs. John Bradley (Florence Briggs Th...  female  38.0      1   \n",
       "2                             Heikkinen, Miss. Laina  female  26.0      0   \n",
       "3       Futrelle, Mrs. Jacques Heath (Lily May Peel)  female  35.0      1   \n",
       "4                           Allen, Mr. William Henry    male  35.0      0   \n",
       "\n",
       "   Parch            Ticket     Fare Cabin Embarked  \n",
       "0      0         A/5 21171   7.2500   NaN        S  \n",
       "1      0          PC 17599  71.2833   C85        C  \n",
       "2      0  STON/O2. 3101282   7.9250   NaN        S  \n",
       "3      0            113803  53.1000  C123        S  \n",
       "4      0            373450   8.0500   NaN        S  "
      ]
     },
     "execution_count": 19,
     "metadata": {},
     "output_type": "execute_result"
    }
   ],
   "source": [
    "df.head()"
   ]
  },
  {
   "cell_type": "code",
   "execution_count": 20,
   "id": "8e708d19-6bed-419a-ac08-d1cbb2d48e97",
   "metadata": {},
   "outputs": [
    {
     "data": {
      "text/plain": [
       "0    549\n",
       "1    342\n",
       "Name: Survived, dtype: int64"
      ]
     },
     "execution_count": 20,
     "metadata": {},
     "output_type": "execute_result"
    }
   ],
   "source": [
    "df.Survived.value_counts()"
   ]
  },
  {
   "cell_type": "code",
   "execution_count": 21,
   "id": "563f871f-017d-4b3b-b7fc-ece083943041",
   "metadata": {},
   "outputs": [
    {
     "data": {
      "text/plain": [
       "0    0.616162\n",
       "1    0.383838\n",
       "Name: Survived, dtype: float64"
      ]
     },
     "execution_count": 21,
     "metadata": {},
     "output_type": "execute_result"
    }
   ],
   "source": [
    "df.Survived.value_counts()/df.shape[0]"
   ]
  },
  {
   "cell_type": "code",
   "execution_count": null,
   "id": "815eb19b-ae12-4fbd-83b5-73dfb0c730ad",
   "metadata": {},
   "outputs": [],
   "source": [
    "# unbalanced data set"
   ]
  },
  {
   "cell_type": "code",
   "execution_count": 23,
   "id": "27b3ebea-2e78-4025-8e62-2a79c136d3be",
   "metadata": {},
   "outputs": [
    {
     "data": {
      "text/plain": [
       "0.8"
      ]
     },
     "execution_count": 23,
     "metadata": {},
     "output_type": "execute_result"
    }
   ],
   "source": [
    "160/200"
   ]
  },
  {
   "cell_type": "code",
   "execution_count": 24,
   "id": "fd48c355-f5ae-4f2c-9f92-86c5677be4a6",
   "metadata": {},
   "outputs": [
    {
     "data": {
      "text/plain": [
       "0.7894736842105263"
      ]
     },
     "execution_count": 24,
     "metadata": {},
     "output_type": "execute_result"
    }
   ],
   "source": [
    "150/190"
   ]
  },
  {
   "cell_type": "code",
   "execution_count": 25,
   "id": "2824d386-6094-43af-b1e9-9f862145b172",
   "metadata": {},
   "outputs": [
    {
     "data": {
      "text/plain": [
       "0.72"
      ]
     },
     "execution_count": 25,
     "metadata": {},
     "output_type": "execute_result"
    }
   ],
   "source": [
    "90/125"
   ]
  },
  {
   "cell_type": "code",
   "execution_count": 26,
   "id": "4c57073e-fc4f-4d93-8df3-3021215e7c40",
   "metadata": {},
   "outputs": [
    {
     "data": {
      "text/plain": [
       "0.9473684210526315"
      ]
     },
     "execution_count": 26,
     "metadata": {},
     "output_type": "execute_result"
    }
   ],
   "source": [
    "90/95"
   ]
  },
  {
   "cell_type": "code",
   "execution_count": 29,
   "id": "dba8427f-b11a-4966-b5bc-1656b78d0673",
   "metadata": {},
   "outputs": [],
   "source": [
    "y_pred=grid_model.predict(X)"
   ]
  },
  {
   "cell_type": "code",
   "execution_count": 36,
   "id": "ca5d32a3-8b4a-4d92-93ae-55e07926de5c",
   "metadata": {},
   "outputs": [],
   "source": [
    "from sklearn.metrics import confusion_matrix,classification_report"
   ]
  },
  {
   "cell_type": "code",
   "execution_count": 33,
   "id": "39a47f45-ab3f-463b-865b-41376ade3a61",
   "metadata": {},
   "outputs": [],
   "source": [
    "cm=confusion_matrix(y,y_pred)"
   ]
  },
  {
   "cell_type": "code",
   "execution_count": 32,
   "id": "3bdb81f2-088f-47b9-81c4-6e99afacf576",
   "metadata": {},
   "outputs": [],
   "source": [
    "import matplotlib.pyplot as plt"
   ]
  },
  {
   "cell_type": "code",
   "execution_count": 35,
   "id": "6936d09d-f8aa-481d-9e19-c58c8d5628f4",
   "metadata": {},
   "outputs": [
    {
     "data": {
      "text/plain": [
       "<matplotlib.colorbar.Colorbar at 0x7fca6b755250>"
      ]
     },
     "execution_count": 35,
     "metadata": {},
     "output_type": "execute_result"
    },
    {
     "data": {
      "image/png": "[encoded data removed]",
      "text/plain": [
       "<Figure size 432x288 with 2 Axes>"
      ]
     },
     "metadata": {
      "needs_background": "light"
     },
     "output_type": "display_data"
    }
   ],
   "source": [
    "plt.imshow(cm)\n",
    "plt.colorbar()"
   ]
  },
  {
   "cell_type": "code",
   "execution_count": 38,
   "id": "f2acac07-c061-4b60-81bf-e77d0e7e1633",
   "metadata": {},
   "outputs": [
    {
     "name": "stdout",
     "output_type": "stream",
     "text": [
      "              precision    recall  f1-score   support\n",
      "\n",
      "           0       1.00      1.00      1.00        50\n",
      "           1       1.00      1.00      1.00        50\n",
      "           2       1.00      1.00      1.00        50\n",
      "\n",
      "    accuracy                           1.00       150\n",
      "   macro avg       1.00      1.00      1.00       150\n",
      "weighted avg       1.00      1.00      1.00       150\n",
      "\n"
     ]
    }
   ],
   "source": [
    "print(classification_report(y,y_pred))"
   ]
  },
  {
   "cell_type": "code",
   "execution_count": 41,
   "id": "63c8ec22-aec8-4050-80ce-7ecf57e125c6",
   "metadata": {},
   "outputs": [],
   "source": [
    "import numpy as np"
   ]
  },
  {
   "cell_type": "code",
   "execution_count": 45,
   "id": "ed29e1fd-cdab-4bf0-951c-0d12079297f7",
   "metadata": {},
   "outputs": [],
   "source": [
    "y=np.random.randint(0,2,80)"
   ]
  },
  {
   "cell_type": "code",
   "execution_count": 46,
   "id": "f1664a5f-91d7-4d1e-a0b6-d84985ff8343",
   "metadata": {},
   "outputs": [],
   "source": [
    "y_pred1=np.random.randint(0,2,80)"
   ]
  },
  {
   "cell_type": "code",
   "execution_count": 47,
   "id": "89f3254d-19c4-4d92-bd20-f121147f68b8",
   "metadata": {},
   "outputs": [
    {
     "data": {
      "text/plain": [
       "array([1, 1, 0, 0, 0, 1, 0, 1, 0, 0, 1, 1, 1, 0, 1, 0, 0, 1, 1, 1, 1, 1,\n",
       "       0, 0, 0, 0, 1, 0, 0, 0, 0, 0, 1, 0, 0, 0, 0, 1, 1, 1, 1, 0, 0, 1,\n",
       "       0, 0, 0, 0, 1, 0, 1, 1, 1, 1, 0, 0, 1, 0, 0, 0, 0, 1, 0, 1, 0, 1,\n",
       "       1, 0, 0, 1, 0, 0, 1, 0, 0, 0, 1, 0, 0, 1])"
      ]
     },
     "execution_count": 47,
     "metadata": {},
     "output_type": "execute_result"
    }
   ],
   "source": [
    "y"
   ]
  },
  {
   "cell_type": "code",
   "execution_count": 48,
   "id": "16544ca0-a478-40d8-8874-0ce73fd9cd26",
   "metadata": {},
   "outputs": [
    {
     "data": {
      "text/plain": [
       "array([1, 1, 0, 1, 0, 0, 1, 0, 1, 1, 0, 1, 0, 1, 0, 1, 0, 0, 1, 0, 0, 0,\n",
       "       1, 0, 0, 0, 0, 0, 1, 0, 0, 0, 1, 0, 1, 0, 0, 1, 0, 0, 0, 0, 1, 0,\n",
       "       0, 0, 0, 1, 0, 1, 0, 0, 0, 0, 0, 1, 1, 1, 0, 1, 1, 0, 0, 0, 1, 0,\n",
       "       1, 1, 1, 1, 0, 1, 0, 0, 0, 1, 0, 0, 0, 0])"
      ]
     },
     "execution_count": 48,
     "metadata": {},
     "output_type": "execute_result"
    }
   ],
   "source": [
    "y_pred1"
   ]
  },
  {
   "cell_type": "code",
   "execution_count": 50,
   "id": "17fa6563-0851-4fc3-87fc-8a43210f7dc3",
   "metadata": {},
   "outputs": [],
   "source": [
    "cm1=confusion_matrix(y,y_pred1)"
   ]
  },
  {
   "cell_type": "code",
   "execution_count": 51,
   "id": "31284643-dcdf-43c0-85f2-f789b0f769a5",
   "metadata": {},
   "outputs": [
    {
     "name": "stdout",
     "output_type": "stream",
     "text": [
      "              precision    recall  f1-score   support\n",
      "\n",
      "           0       0.50      0.54      0.52        46\n",
      "           1       0.30      0.26      0.28        34\n",
      "\n",
      "    accuracy                           0.42        80\n",
      "   macro avg       0.40      0.40      0.40        80\n",
      "weighted avg       0.42      0.42      0.42        80\n",
      "\n"
     ]
    }
   ],
   "source": [
    "print(classification_report(y,y_pred1))"
   ]
  },
  {
   "cell_type": "code",
   "execution_count": 52,
   "id": "e4a3aa27-fba2-40a8-a89f-1bfdea58c70b",
   "metadata": {},
   "outputs": [
    {
     "data": {
      "text/plain": [
       "array([[25, 21],\n",
       "       [25,  9]])"
      ]
     },
     "execution_count": 52,
     "metadata": {},
     "output_type": "execute_result"
    }
   ],
   "source": [
    "cm1"
   ]
  },
  {
   "cell_type": "code",
   "execution_count": 54,
   "id": "99e0456b-dc2c-4fef-bcf3-5afbf577296e",
   "metadata": {},
   "outputs": [
    {
     "data": {
      "text/plain": [
       "0.3"
      ]
     },
     "execution_count": 54,
     "metadata": {},
     "output_type": "execute_result"
    }
   ],
   "source": [
    "9/(9+21)"
   ]
  },
  {
   "cell_type": "code",
   "execution_count": null,
   "id": "82e7ae10-1a6c-4f3a-acc0-bb6e8d468c23",
   "metadata": {},
   "outputs": [],
   "source": []
  }
 ],
 "metadata": {
  "kernelspec": {
   "display_name": "Python 3 (ipykernel)",
   "language": "python",
   "name": "python3"
  },
  "language_info": {
   "codemirror_mode": {
    "name": "ipython",
    "version": 3
   },
   "file_extension": ".py",
   "mimetype": "text/x-python",
   "name": "python",
   "nbconvert_exporter": "python",
   "pygments_lexer": "ipython3",
   "version": "3.9.7"
  }
 },
 "nbformat": 4,
 "nbformat_minor": 5
}
