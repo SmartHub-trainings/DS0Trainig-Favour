{
 "cells": [
  {
   "cell_type": "markdown",
   "id": "b6a4755e-7d2d-4c7e-a7a3-b9f672fe0c56",
   "metadata": {},
   "source": [
    "## Regression metrics"
   ]
  },
  {
   "cell_type": "markdown",
   "id": "38c19f45-578a-49c3-9f1c-325dbe9de01e",
   "metadata": {},
   "source": [
    "## Loss metric\n",
    "## accuracy metric"
   ]
  },
  {
   "cell_type": "markdown",
   "id": "e1652cf2-ea44-470c-9c2c-f72335808889",
   "metadata": {},
   "source": [
    "\n",
    "* Mean absolute error or Mean Deviation\n",
    "* Mean square error\n",
    "* Root mean square error\n",
    "* Goodness of fit $R^2$"
   ]
  },
  {
   "cell_type": "code",
   "execution_count": 1,
   "id": "e5c57820-765b-4c2f-8fdb-0598a4fe73c2",
   "metadata": {},
   "outputs": [],
   "source": [
    "import numpy as np"
   ]
  },
  {
   "cell_type": "code",
   "execution_count": 2,
   "id": "e1e5061e-749a-4f52-9ba7-7bf5c4e9d471",
   "metadata": {},
   "outputs": [],
   "source": [
    "X=np.linspace(20,130,50)\n",
    "y=2*X+6"
   ]
  },
  {
   "cell_type": "code",
   "execution_count": 3,
   "id": "0f2ddb8f-182c-4f35-a201-0bfefd6d482d",
   "metadata": {},
   "outputs": [
    {
     "data": {
      "text/plain": [
       "<matplotlib.collections.PathCollection at 0x7fb48e778670>"
      ]
     },
     "execution_count": 3,
     "metadata": {},
     "output_type": "execute_result"
    },
    {
     "data": {
      "image/png": "[encoded data removed]",
      "text/plain": [
       "<Figure size 432x288 with 1 Axes>"
      ]
     },
     "metadata": {
      "needs_background": "light"
     },
     "output_type": "display_data"
    }
   ],
   "source": [
    "import matplotlib.pyplot as plt\n",
    "plt.scatter(X,y)"
   ]
  },
  {
   "cell_type": "code",
   "execution_count": 36,
   "id": "72ddc496-d466-4f72-af80-410b4879b73e",
   "metadata": {},
   "outputs": [
    {
     "data": {
      "text/plain": [
       "<matplotlib.collections.PathCollection at 0x7fb48ed52ee0>"
      ]
     },
     "execution_count": 36,
     "metadata": {},
     "output_type": "execute_result"
    },
    {
     "data": {
      "image/png": "[encoded data removed]",
      "text/plain": [
       "<Figure size 432x288 with 1 Axes>"
      ]
     },
     "metadata": {
      "needs_background": "light"
     },
     "output_type": "display_data"
    }
   ],
   "source": [
    "X=np.linspace(20,130,50)\n",
    "y=2*X+6+np.random.randn(50)*30\n",
    "plt.scatter(X,y)"
   ]
  },
  {
   "cell_type": "code",
   "execution_count": 37,
   "id": "6b53faa2-9808-4b3d-a72e-4d8dc41d48b1",
   "metadata": {},
   "outputs": [
    {
     "data": {
      "text/plain": [
       "array([20.        , 22.24489796, 24.48979592, 26.73469388, 28.97959184,\n",
       "       31.2244898 , 33.46938776, 35.71428571, 37.95918367, 40.20408163])"
      ]
     },
     "execution_count": 37,
     "metadata": {},
     "output_type": "execute_result"
    }
   ],
   "source": [
    "X[:10]"
   ]
  },
  {
   "cell_type": "code",
   "execution_count": 38,
   "id": "8a4f5cb2-bf00-43a7-8c91-2d598f26e505",
   "metadata": {},
   "outputs": [
    {
     "data": {
      "text/plain": [
       "array([43.68430772, 15.57231434, 19.23968585, 35.84888619, 34.03678435,\n",
       "       69.41766105, 14.1688548 , 46.03107448, 85.14127514, 48.53361109])"
      ]
     },
     "execution_count": 38,
     "metadata": {},
     "output_type": "execute_result"
    }
   ],
   "source": [
    "y[:10]"
   ]
  },
  {
   "cell_type": "code",
   "execution_count": 39,
   "id": "0c29de41-14bd-4915-aa0a-b5bff472494d",
   "metadata": {},
   "outputs": [],
   "source": [
    "def getParams(X,y):\n",
    "    \"\"\"Takes X and y and return beta0 and beta1 respectively\"\"\"\n",
    " \n",
    "    n= len(X)\n",
    "    sumX=X.sum()\n",
    "    sumY=y.sum()\n",
    "    sumXY=(X*y).sum()\n",
    "    sumXSq=(X*X).sum()\n",
    "    num=n*sumXY-sumX*sumY\n",
    "    dem=n*sumXSq-sumX**2\n",
    "    beta1=num/dem\n",
    "    beta0= sumY/n-beta1*sumX/n\n",
    "    return beta0,beta1"
   ]
  },
  {
   "cell_type": "code",
   "execution_count": 40,
   "id": "8ac4291c-3f20-4627-b016-aac35f2947c0",
   "metadata": {},
   "outputs": [
    {
     "data": {
      "text/plain": [
       "(-23.244430219551532, 2.274543120631615)"
      ]
     },
     "execution_count": 40,
     "metadata": {},
     "output_type": "execute_result"
    }
   ],
   "source": [
    "getParams(X,y)"
   ]
  },
  {
   "cell_type": "code",
   "execution_count": 41,
   "id": "a1fe0744-198d-4815-a089-e82f1ce16d41",
   "metadata": {},
   "outputs": [],
   "source": [
    "def predict(x):\n",
    "    return getParams(X,y)[0]+getParams(X,y)[1]*x"
   ]
  },
  {
   "cell_type": "code",
   "execution_count": 42,
   "id": "ff3bfc76-a6a2-4c80-af85-eafbc1df7c50",
   "metadata": {},
   "outputs": [
    {
     "data": {
      "text/plain": [
       "22.246432193080764"
      ]
     },
     "execution_count": 42,
     "metadata": {},
     "output_type": "execute_result"
    }
   ],
   "source": [
    "predict(20)"
   ]
  },
  {
   "cell_type": "code",
   "execution_count": 43,
   "id": "2088ebf7-4b18-4efa-bc4f-a6a7f8c38070",
   "metadata": {},
   "outputs": [
    {
     "data": {
      "text/plain": [
       "array([ 20.        ,  22.24489796,  24.48979592,  26.73469388,\n",
       "        28.97959184,  31.2244898 ,  33.46938776,  35.71428571,\n",
       "        37.95918367,  40.20408163,  42.44897959,  44.69387755,\n",
       "        46.93877551,  49.18367347,  51.42857143,  53.67346939,\n",
       "        55.91836735,  58.16326531,  60.40816327,  62.65306122,\n",
       "        64.89795918,  67.14285714,  69.3877551 ,  71.63265306,\n",
       "        73.87755102,  76.12244898,  78.36734694,  80.6122449 ,\n",
       "        82.85714286,  85.10204082,  87.34693878,  89.59183673,\n",
       "        91.83673469,  94.08163265,  96.32653061,  98.57142857,\n",
       "       100.81632653, 103.06122449, 105.30612245, 107.55102041,\n",
       "       109.79591837, 112.04081633, 114.28571429, 116.53061224,\n",
       "       118.7755102 , 121.02040816, 123.26530612, 125.51020408,\n",
       "       127.75510204, 130.        ])"
      ]
     },
     "execution_count": 43,
     "metadata": {},
     "output_type": "execute_result"
    }
   ],
   "source": [
    "X"
   ]
  },
  {
   "cell_type": "code",
   "execution_count": 45,
   "id": "4edf4670-5711-4c97-8484-292f34bab6db",
   "metadata": {},
   "outputs": [],
   "source": [
    "y_pred=predict(X)"
   ]
  },
  {
   "cell_type": "code",
   "execution_count": 48,
   "id": "291fc158-ebe6-4451-8d78-938a4482c337",
   "metadata": {},
   "outputs": [],
   "source": [
    "mae= np.abs(y-y_pred).sum()/len(y)"
   ]
  },
  {
   "cell_type": "code",
   "execution_count": 49,
   "id": "1985f092-3fe9-4ce0-ad9e-265f96993423",
   "metadata": {},
   "outputs": [
    {
     "data": {
      "text/plain": [
       "23.16130711423498"
      ]
     },
     "execution_count": 49,
     "metadata": {},
     "output_type": "execute_result"
    }
   ],
   "source": [
    "mae"
   ]
  },
  {
   "cell_type": "code",
   "execution_count": 50,
   "id": "befb079e-760c-4673-adf6-f592b5e1a739",
   "metadata": {},
   "outputs": [],
   "source": [
    "mse=((y-y_pred)**2).sum()/len(y)"
   ]
  },
  {
   "cell_type": "code",
   "execution_count": 51,
   "id": "8262a6f8-88f0-44f4-8651-55ecbde0c99e",
   "metadata": {},
   "outputs": [
    {
     "data": {
      "text/plain": [
       "843.2797749422627"
      ]
     },
     "execution_count": 51,
     "metadata": {},
     "output_type": "execute_result"
    }
   ],
   "source": [
    "mse"
   ]
  },
  {
   "cell_type": "code",
   "execution_count": 53,
   "id": "7665a835-229d-4674-9340-f673dcff6527",
   "metadata": {},
   "outputs": [],
   "source": [
    "rmse=(((y-y_pred)**2).sum()/len(y))**0.5"
   ]
  },
  {
   "cell_type": "code",
   "execution_count": 54,
   "id": "c31abc61-c062-4223-b1fd-db4bf180cc6a",
   "metadata": {},
   "outputs": [
    {
     "data": {
      "text/plain": [
       "29.039279862666408"
      ]
     },
     "execution_count": 54,
     "metadata": {},
     "output_type": "execute_result"
    }
   ],
   "source": [
    "rmse"
   ]
  },
  {
   "cell_type": "code",
   "execution_count": 55,
   "id": "99ab83bf-97f5-42b2-92fb-c377d1529cb7",
   "metadata": {},
   "outputs": [],
   "source": [
    "n=len(y)\n",
    "r_2=((n*(X*y).sum()-X.sum()*y.sum()))**2/(((n*X**2).sum()-(X.sum())**2)*((n*y**2).sum()-(y.sum())**2))"
   ]
  },
  {
   "cell_type": "code",
   "execution_count": 56,
   "id": "face4b62-3889-46d3-a8dd-7ede09f6da9b",
   "metadata": {},
   "outputs": [
    {
     "data": {
      "text/plain": [
       "0.8655670227797537"
      ]
     },
     "execution_count": 56,
     "metadata": {},
     "output_type": "execute_result"
    }
   ],
   "source": [
    "r_2"
   ]
  },
  {
   "cell_type": "markdown",
   "id": "e612cba9-21e1-4424-8764-4a22dcb2e50a",
   "metadata": {},
   "source": [
    "# Sklearn"
   ]
  },
  {
   "cell_type": "code",
   "execution_count": 57,
   "id": "1814dda3-4d86-43e4-ab9f-e8b48f5badb2",
   "metadata": {},
   "outputs": [
    {
     "ename": "ValueError",
     "evalue": "Expected 2D array, got 1D array instead:\narray=[ 20.          22.24489796  24.48979592  26.73469388  28.97959184\n  31.2244898   33.46938776  35.71428571  37.95918367  40.20408163\n  42.44897959  44.69387755  46.93877551  49.18367347  51.42857143\n  53.67346939  55.91836735  58.16326531  60.40816327  62.65306122\n  64.89795918  67.14285714  69.3877551   71.63265306  73.87755102\n  76.12244898  78.36734694  80.6122449   82.85714286  85.10204082\n  87.34693878  89.59183673  91.83673469  94.08163265  96.32653061\n  98.57142857 100.81632653 103.06122449 105.30612245 107.55102041\n 109.79591837 112.04081633 114.28571429 116.53061224 118.7755102\n 121.02040816 123.26530612 125.51020408 127.75510204 130.        ].\nReshape your data either using array.reshape(-1, 1) if your data has a single feature or array.reshape(1, -1) if it contains a single sample.",
     "output_type": "error",
     "traceback": [
      "\u001b[0;31m---------------------------------------------------------------------------\u001b[0m",
      "\u001b[0;31mValueError\u001b[0m                                Traceback (most recent call last)",
      "\u001b[0;32m/var/folders/3d/pkg6m4_x11s9hw4jt5sb8zp00000gn/T/ipykernel_63055/1661338765.py\u001b[0m in \u001b[0;36m<module>\u001b[0;34m\u001b[0m\n\u001b[1;32m      9\u001b[0m \u001b[0;34m\u001b[0m\u001b[0m\n\u001b[1;32m     10\u001b[0m \u001b[0;31m# 4. Train the model\u001b[0m\u001b[0;34m\u001b[0m\u001b[0;34m\u001b[0m\u001b[0m\n\u001b[0;32m---> 11\u001b[0;31m \u001b[0mmodel\u001b[0m\u001b[0;34m.\u001b[0m\u001b[0mfit\u001b[0m\u001b[0;34m(\u001b[0m\u001b[0mX\u001b[0m\u001b[0;34m,\u001b[0m\u001b[0my\u001b[0m\u001b[0;34m)\u001b[0m\u001b[0;31m## X must be two dimensional\u001b[0m\u001b[0;34m\u001b[0m\u001b[0;34m\u001b[0m\u001b[0m\n\u001b[0m",
      "\u001b[0;32m~/opt/anaconda3/lib/python3.9/site-packages/sklearn/linear_model/_base.py\u001b[0m in \u001b[0;36mfit\u001b[0;34m(self, X, y, sample_weight)\u001b[0m\n\u001b[1;32m    516\u001b[0m         \u001b[0maccept_sparse\u001b[0m \u001b[0;34m=\u001b[0m \u001b[0;32mFalse\u001b[0m \u001b[0;32mif\u001b[0m \u001b[0mself\u001b[0m\u001b[0;34m.\u001b[0m\u001b[0mpositive\u001b[0m \u001b[0;32melse\u001b[0m \u001b[0;34m[\u001b[0m\u001b[0;34m'csr'\u001b[0m\u001b[0;34m,\u001b[0m \u001b[0;34m'csc'\u001b[0m\u001b[0;34m,\u001b[0m \u001b[0;34m'coo'\u001b[0m\u001b[0;34m]\u001b[0m\u001b[0;34m\u001b[0m\u001b[0;34m\u001b[0m\u001b[0m\n\u001b[1;32m    517\u001b[0m \u001b[0;34m\u001b[0m\u001b[0m\n\u001b[0;32m--> 518\u001b[0;31m         X, y = self._validate_data(X, y, accept_sparse=accept_sparse,\n\u001b[0m\u001b[1;32m    519\u001b[0m                                    y_numeric=True, multi_output=True)\n\u001b[1;32m    520\u001b[0m \u001b[0;34m\u001b[0m\u001b[0m\n",
      "\u001b[0;32m~/opt/anaconda3/lib/python3.9/site-packages/sklearn/base.py\u001b[0m in \u001b[0;36m_validate_data\u001b[0;34m(self, X, y, reset, validate_separately, **check_params)\u001b[0m\n\u001b[1;32m    431\u001b[0m                 \u001b[0my\u001b[0m \u001b[0;34m=\u001b[0m \u001b[0mcheck_array\u001b[0m\u001b[0;34m(\u001b[0m\u001b[0my\u001b[0m\u001b[0;34m,\u001b[0m \u001b[0;34m**\u001b[0m\u001b[0mcheck_y_params\u001b[0m\u001b[0;34m)\u001b[0m\u001b[0;34m\u001b[0m\u001b[0;34m\u001b[0m\u001b[0m\n\u001b[1;32m    432\u001b[0m             \u001b[0;32melse\u001b[0m\u001b[0;34m:\u001b[0m\u001b[0;34m\u001b[0m\u001b[0;34m\u001b[0m\u001b[0m\n\u001b[0;32m--> 433\u001b[0;31m                 \u001b[0mX\u001b[0m\u001b[0;34m,\u001b[0m \u001b[0my\u001b[0m \u001b[0;34m=\u001b[0m \u001b[0mcheck_X_y\u001b[0m\u001b[0;34m(\u001b[0m\u001b[0mX\u001b[0m\u001b[0;34m,\u001b[0m \u001b[0my\u001b[0m\u001b[0;34m,\u001b[0m \u001b[0;34m**\u001b[0m\u001b[0mcheck_params\u001b[0m\u001b[0;34m)\u001b[0m\u001b[0;34m\u001b[0m\u001b[0;34m\u001b[0m\u001b[0m\n\u001b[0m\u001b[1;32m    434\u001b[0m             \u001b[0mout\u001b[0m \u001b[0;34m=\u001b[0m \u001b[0mX\u001b[0m\u001b[0;34m,\u001b[0m \u001b[0my\u001b[0m\u001b[0;34m\u001b[0m\u001b[0;34m\u001b[0m\u001b[0m\n\u001b[1;32m    435\u001b[0m \u001b[0;34m\u001b[0m\u001b[0m\n",
      "\u001b[0;32m~/opt/anaconda3/lib/python3.9/site-packages/sklearn/utils/validation.py\u001b[0m in \u001b[0;36minner_f\u001b[0;34m(*args, **kwargs)\u001b[0m\n\u001b[1;32m     61\u001b[0m             \u001b[0mextra_args\u001b[0m \u001b[0;34m=\u001b[0m \u001b[0mlen\u001b[0m\u001b[0;34m(\u001b[0m\u001b[0margs\u001b[0m\u001b[0;34m)\u001b[0m \u001b[0;34m-\u001b[0m \u001b[0mlen\u001b[0m\u001b[0;34m(\u001b[0m\u001b[0mall_args\u001b[0m\u001b[0;34m)\u001b[0m\u001b[0;34m\u001b[0m\u001b[0;34m\u001b[0m\u001b[0m\n\u001b[1;32m     62\u001b[0m             \u001b[0;32mif\u001b[0m \u001b[0mextra_args\u001b[0m \u001b[0;34m<=\u001b[0m \u001b[0;36m0\u001b[0m\u001b[0;34m:\u001b[0m\u001b[0;34m\u001b[0m\u001b[0;34m\u001b[0m\u001b[0m\n\u001b[0;32m---> 63\u001b[0;31m                 \u001b[0;32mreturn\u001b[0m \u001b[0mf\u001b[0m\u001b[0;34m(\u001b[0m\u001b[0;34m*\u001b[0m\u001b[0margs\u001b[0m\u001b[0;34m,\u001b[0m \u001b[0;34m**\u001b[0m\u001b[0mkwargs\u001b[0m\u001b[0;34m)\u001b[0m\u001b[0;34m\u001b[0m\u001b[0;34m\u001b[0m\u001b[0m\n\u001b[0m\u001b[1;32m     64\u001b[0m \u001b[0;34m\u001b[0m\u001b[0m\n\u001b[1;32m     65\u001b[0m             \u001b[0;31m# extra_args > 0\u001b[0m\u001b[0;34m\u001b[0m\u001b[0;34m\u001b[0m\u001b[0m\n",
      "\u001b[0;32m~/opt/anaconda3/lib/python3.9/site-packages/sklearn/utils/validation.py\u001b[0m in \u001b[0;36mcheck_X_y\u001b[0;34m(X, y, accept_sparse, accept_large_sparse, dtype, order, copy, force_all_finite, ensure_2d, allow_nd, multi_output, ensure_min_samples, ensure_min_features, y_numeric, estimator)\u001b[0m\n\u001b[1;32m    869\u001b[0m         \u001b[0;32mraise\u001b[0m \u001b[0mValueError\u001b[0m\u001b[0;34m(\u001b[0m\u001b[0;34m\"y cannot be None\"\u001b[0m\u001b[0;34m)\u001b[0m\u001b[0;34m\u001b[0m\u001b[0;34m\u001b[0m\u001b[0m\n\u001b[1;32m    870\u001b[0m \u001b[0;34m\u001b[0m\u001b[0m\n\u001b[0;32m--> 871\u001b[0;31m     X = check_array(X, accept_sparse=accept_sparse,\n\u001b[0m\u001b[1;32m    872\u001b[0m                     \u001b[0maccept_large_sparse\u001b[0m\u001b[0;34m=\u001b[0m\u001b[0maccept_large_sparse\u001b[0m\u001b[0;34m,\u001b[0m\u001b[0;34m\u001b[0m\u001b[0;34m\u001b[0m\u001b[0m\n\u001b[1;32m    873\u001b[0m                     \u001b[0mdtype\u001b[0m\u001b[0;34m=\u001b[0m\u001b[0mdtype\u001b[0m\u001b[0;34m,\u001b[0m \u001b[0morder\u001b[0m\u001b[0;34m=\u001b[0m\u001b[0morder\u001b[0m\u001b[0;34m,\u001b[0m \u001b[0mcopy\u001b[0m\u001b[0;34m=\u001b[0m\u001b[0mcopy\u001b[0m\u001b[0;34m,\u001b[0m\u001b[0;34m\u001b[0m\u001b[0;34m\u001b[0m\u001b[0m\n",
      "\u001b[0;32m~/opt/anaconda3/lib/python3.9/site-packages/sklearn/utils/validation.py\u001b[0m in \u001b[0;36minner_f\u001b[0;34m(*args, **kwargs)\u001b[0m\n\u001b[1;32m     61\u001b[0m             \u001b[0mextra_args\u001b[0m \u001b[0;34m=\u001b[0m \u001b[0mlen\u001b[0m\u001b[0;34m(\u001b[0m\u001b[0margs\u001b[0m\u001b[0;34m)\u001b[0m \u001b[0;34m-\u001b[0m \u001b[0mlen\u001b[0m\u001b[0;34m(\u001b[0m\u001b[0mall_args\u001b[0m\u001b[0;34m)\u001b[0m\u001b[0;34m\u001b[0m\u001b[0;34m\u001b[0m\u001b[0m\n\u001b[1;32m     62\u001b[0m             \u001b[0;32mif\u001b[0m \u001b[0mextra_args\u001b[0m \u001b[0;34m<=\u001b[0m \u001b[0;36m0\u001b[0m\u001b[0;34m:\u001b[0m\u001b[0;34m\u001b[0m\u001b[0;34m\u001b[0m\u001b[0m\n\u001b[0;32m---> 63\u001b[0;31m                 \u001b[0;32mreturn\u001b[0m \u001b[0mf\u001b[0m\u001b[0;34m(\u001b[0m\u001b[0;34m*\u001b[0m\u001b[0margs\u001b[0m\u001b[0;34m,\u001b[0m \u001b[0;34m**\u001b[0m\u001b[0mkwargs\u001b[0m\u001b[0;34m)\u001b[0m\u001b[0;34m\u001b[0m\u001b[0;34m\u001b[0m\u001b[0m\n\u001b[0m\u001b[1;32m     64\u001b[0m \u001b[0;34m\u001b[0m\u001b[0m\n\u001b[1;32m     65\u001b[0m             \u001b[0;31m# extra_args > 0\u001b[0m\u001b[0;34m\u001b[0m\u001b[0;34m\u001b[0m\u001b[0m\n",
      "\u001b[0;32m~/opt/anaconda3/lib/python3.9/site-packages/sklearn/utils/validation.py\u001b[0m in \u001b[0;36mcheck_array\u001b[0;34m(array, accept_sparse, accept_large_sparse, dtype, order, copy, force_all_finite, ensure_2d, allow_nd, ensure_min_samples, ensure_min_features, estimator)\u001b[0m\n\u001b[1;32m    692\u001b[0m             \u001b[0;31m# If input is 1D raise error\u001b[0m\u001b[0;34m\u001b[0m\u001b[0;34m\u001b[0m\u001b[0m\n\u001b[1;32m    693\u001b[0m             \u001b[0;32mif\u001b[0m \u001b[0marray\u001b[0m\u001b[0;34m.\u001b[0m\u001b[0mndim\u001b[0m \u001b[0;34m==\u001b[0m \u001b[0;36m1\u001b[0m\u001b[0;34m:\u001b[0m\u001b[0;34m\u001b[0m\u001b[0;34m\u001b[0m\u001b[0m\n\u001b[0;32m--> 694\u001b[0;31m                 raise ValueError(\n\u001b[0m\u001b[1;32m    695\u001b[0m                     \u001b[0;34m\"Expected 2D array, got 1D array instead:\\narray={}.\\n\"\u001b[0m\u001b[0;34m\u001b[0m\u001b[0;34m\u001b[0m\u001b[0m\n\u001b[1;32m    696\u001b[0m                     \u001b[0;34m\"Reshape your data either using array.reshape(-1, 1) if \"\u001b[0m\u001b[0;34m\u001b[0m\u001b[0;34m\u001b[0m\u001b[0m\n",
      "\u001b[0;31mValueError\u001b[0m: Expected 2D array, got 1D array instead:\narray=[ 20.          22.24489796  24.48979592  26.73469388  28.97959184\n  31.2244898   33.46938776  35.71428571  37.95918367  40.20408163\n  42.44897959  44.69387755  46.93877551  49.18367347  51.42857143\n  53.67346939  55.91836735  58.16326531  60.40816327  62.65306122\n  64.89795918  67.14285714  69.3877551   71.63265306  73.87755102\n  76.12244898  78.36734694  80.6122449   82.85714286  85.10204082\n  87.34693878  89.59183673  91.83673469  94.08163265  96.32653061\n  98.57142857 100.81632653 103.06122449 105.30612245 107.55102041\n 109.79591837 112.04081633 114.28571429 116.53061224 118.7755102\n 121.02040816 123.26530612 125.51020408 127.75510204 130.        ].\nReshape your data either using array.reshape(-1, 1) if your data has a single feature or array.reshape(1, -1) if it contains a single sample."
     ]
    }
   ],
   "source": [
    "# 1. get the data\n",
    "\n",
    "# 2. get the model\n",
    "\n",
    "from sklearn.linear_model import LinearRegression\n",
    "\n",
    "# 3. Instantiate the model\n",
    "model=LinearRegression()\n",
    "\n",
    "# 4. Train the model\n",
    "model.fit(X,y)## X must be two dimensional\n"
   ]
  },
  {
   "cell_type": "code",
   "execution_count": 58,
   "id": "db9faa4e-7bf8-407c-b077-1cec31d56f41",
   "metadata": {},
   "outputs": [
    {
     "data": {
      "text/plain": [
       "array([ 20.        ,  22.24489796,  24.48979592,  26.73469388,\n",
       "        28.97959184,  31.2244898 ,  33.46938776,  35.71428571,\n",
       "        37.95918367,  40.20408163,  42.44897959,  44.69387755,\n",
       "        46.93877551,  49.18367347,  51.42857143,  53.67346939,\n",
       "        55.91836735,  58.16326531,  60.40816327,  62.65306122,\n",
       "        64.89795918,  67.14285714,  69.3877551 ,  71.63265306,\n",
       "        73.87755102,  76.12244898,  78.36734694,  80.6122449 ,\n",
       "        82.85714286,  85.10204082,  87.34693878,  89.59183673,\n",
       "        91.83673469,  94.08163265,  96.32653061,  98.57142857,\n",
       "       100.81632653, 103.06122449, 105.30612245, 107.55102041,\n",
       "       109.79591837, 112.04081633, 114.28571429, 116.53061224,\n",
       "       118.7755102 , 121.02040816, 123.26530612, 125.51020408,\n",
       "       127.75510204, 130.        ])"
      ]
     },
     "execution_count": 58,
     "metadata": {},
     "output_type": "execute_result"
    }
   ],
   "source": [
    "X"
   ]
  },
  {
   "cell_type": "markdown",
   "id": "42db8107-a111-4ffa-bd02-ebc661d8b17d",
   "metadata": {},
   "source": [
    "# Train and test on entire dataset"
   ]
  },
  {
   "cell_type": "code",
   "execution_count": 62,
   "id": "bc89fc4a-fc32-4603-a027-aec99b1a849e",
   "metadata": {},
   "outputs": [
    {
     "data": {
      "text/plain": [
       "0.8655670227797521"
      ]
     },
     "execution_count": 62,
     "metadata": {},
     "output_type": "execute_result"
    }
   ],
   "source": [
    "# 1. get the data\n",
    "\n",
    "# 2. get the model\n",
    "\n",
    "from sklearn.linear_model import LinearRegression\n",
    "\n",
    "# 3. Instantiate the model\n",
    "model=LinearRegression()\n",
    "\n",
    "# 4. Train the model\n",
    "X=X.reshape(-1,1)\n",
    "model.fit(X,y)## X must be two dimensional\n",
    "#5. obtain the score and predict\n",
    "model.score(X,y)"
   ]
  },
  {
   "cell_type": "code",
   "execution_count": 63,
   "id": "c13459d7-4a06-4f57-b825-296dfd88da9f",
   "metadata": {},
   "outputs": [],
   "source": [
    "from sklearn.metrics import mean_squared_error"
   ]
  },
  {
   "cell_type": "code",
   "execution_count": 64,
   "id": "04985a01-95a1-456c-adc8-3d3a82f4694f",
   "metadata": {},
   "outputs": [
    {
     "data": {
      "text/plain": [
       "843.2797749422626"
      ]
     },
     "execution_count": 64,
     "metadata": {},
     "output_type": "execute_result"
    }
   ],
   "source": [
    "y_pred=model.predict(X)\n",
    "mean_squared_error(y,y_pred)"
   ]
  },
  {
   "cell_type": "code",
   "execution_count": null,
   "id": "d7ad4617-4ef0-4f59-a1f5-54e1cb405022",
   "metadata": {},
   "outputs": [],
   "source": [
    "## Train, test split \n",
    "# train, test and validation \n",
    "# cross validation"
   ]
  }
 ],
 "metadata": {
  "kernelspec": {
   "display_name": "Python 3 (ipykernel)",
   "language": "python",
   "name": "python3"
  },
  "language_info": {
   "codemirror_mode": {
    "name": "ipython",
    "version": 3
   },
   "file_extension": ".py",
   "mimetype": "text/x-python",
   "name": "python",
   "nbconvert_exporter": "python",
   "pygments_lexer": "ipython3",
   "version": "3.9.7"
  }
 },
 "nbformat": 4,
 "nbformat_minor": 5
}
