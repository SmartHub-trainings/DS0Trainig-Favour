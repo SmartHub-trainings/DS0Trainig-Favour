{
 "cells": [
  {
   "cell_type": "code",
   "execution_count": 1,
   "id": "3e1f8a00-ecc8-441f-bee3-88b78a6214e4",
   "metadata": {},
   "outputs": [],
   "source": [
    "from random import randint"
   ]
  },
  {
   "cell_type": "code",
   "execution_count": 2,
   "id": "9f6ef52b-073f-4178-b318-9d773fc515cc",
   "metadata": {},
   "outputs": [],
   "source": [
    "X=[]\n",
    "y=[]\n",
    "for i in range(15):\n",
    "    X.append(randint(16,100))\n",
    "    y.append(randint(20,120))    "
   ]
  },
  {
   "cell_type": "code",
   "execution_count": 3,
   "id": "cc64ec84-2335-446b-a21d-3ee61693ba3b",
   "metadata": {},
   "outputs": [
    {
     "data": {
      "text/plain": [
       "[78, 43, 25, 36, 52, 63, 64, 46, 28, 18, 55, 18, 82, 44, 92]"
      ]
     },
     "execution_count": 3,
     "metadata": {},
     "output_type": "execute_result"
    }
   ],
   "source": [
    "X"
   ]
  },
  {
   "cell_type": "code",
   "execution_count": 4,
   "id": "66e4f8bf-5785-4336-ac86-18be0f77d948",
   "metadata": {},
   "outputs": [
    {
     "data": {
      "text/plain": [
       "[94, 39, 21, 78, 105, 33, 71, 54, 49, 62, 106, 113, 71, 40, 70]"
      ]
     },
     "execution_count": 4,
     "metadata": {},
     "output_type": "execute_result"
    }
   ],
   "source": [
    "y"
   ]
  },
  {
   "cell_type": "code",
   "execution_count": 5,
   "id": "b2617c75-3c77-4d71-98b9-2b63b0f99b39",
   "metadata": {},
   "outputs": [],
   "source": [
    "from matplotlib import pyplot as plt"
   ]
  },
  {
   "cell_type": "code",
   "execution_count": 6,
   "id": "b6523e49-1f96-42a1-9dc6-5905b26c3787",
   "metadata": {},
   "outputs": [
    {
     "data": {
      "text/plain": [
       "<matplotlib.collections.PathCollection at 0x7f99b4772430>"
      ]
     },
     "execution_count": 6,
     "metadata": {},
     "output_type": "execute_result"
    },
    {
     "data": {
      "image/png": "[encoded data removed]",
      "text/plain": [
       "<Figure size 432x288 with 1 Axes>"
      ]
     },
     "metadata": {
      "needs_background": "light"
     },
     "output_type": "display_data"
    }
   ],
   "source": [
    "plt.scatter(X,y)"
   ]
  },
  {
   "cell_type": "code",
   "execution_count": 12,
   "id": "9c9ffa26-c0fe-4590-a0c8-1ad27549fd42",
   "metadata": {},
   "outputs": [],
   "source": [
    "def getParams(X,y):\n",
    "    \"\"\"Takes X and y and return beta0 and beta1 respectively\"\"\"\n",
    "    assert len(X)==len(y)\n",
    "    n= len(X)\n",
    "    sumX=sum(X)\n",
    "    sumY=sum(y) \n",
    "    sumXY=sum([i*j for i,j in zip(X,y)])\n",
    "    sumXSq=sum([i*i for i in X])\n",
    "    num=n*sumXY-sumX*sumY\n",
    "    dem=n*sumXSq-sumX**2\n",
    "    beta1=num/dem\n",
    "    beta0= sumY/n-beta1*sumX/n\n",
    "    return beta0,beta1\n",
    "    \n",
    "    "
   ]
  },
  {
   "cell_type": "code",
   "execution_count": 13,
   "id": "c726be3b-a59c-4b10-8d48-8837e3cf8e88",
   "metadata": {},
   "outputs": [
    {
     "data": {
      "text/plain": [
       "(57.802775381075634, 0.18677200172562555)"
      ]
     },
     "execution_count": 13,
     "metadata": {},
     "output_type": "execute_result"
    }
   ],
   "source": [
    "getParams(X,y)"
   ]
  },
  {
   "cell_type": "code",
   "execution_count": 14,
   "id": "0b04b010-610a-4189-845c-b05da7efea47",
   "metadata": {},
   "outputs": [],
   "source": [
    "def predict(x):\n",
    "    return getParams(X,y)[0]+getParams(X,y)[1]*x"
   ]
  },
  {
   "cell_type": "code",
   "execution_count": 16,
   "id": "cab6a406-1e5c-4264-8318-af48a6dd328d",
   "metadata": {},
   "outputs": [
    {
     "data": {
      "text/plain": [
       "72.37099151567443"
      ]
     },
     "execution_count": 16,
     "metadata": {},
     "output_type": "execute_result"
    }
   ],
   "source": [
    "predict(78)"
   ]
  },
  {
   "cell_type": "code",
   "execution_count": null,
   "id": "5ca3984f-0b84-451b-970f-4527d296c8da",
   "metadata": {},
   "outputs": [],
   "source": []
  }
 ],
 "metadata": {
  "kernelspec": {
   "display_name": "Python 3 (ipykernel)",
   "language": "python",
   "name": "python3"
  },
  "language_info": {
   "codemirror_mode": {
    "name": "ipython",
    "version": 3
   },
   "file_extension": ".py",
   "mimetype": "text/x-python",
   "name": "python",
   "nbconvert_exporter": "python",
   "pygments_lexer": "ipython3",
   "version": "3.9.7"
  }
 },
 "nbformat": 4,
 "nbformat_minor": 5
}
